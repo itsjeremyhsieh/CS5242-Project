{
 "cells": [
  {
   "cell_type": "code",
   "execution_count": null,
   "metadata": {
    "colab": {
     "base_uri": "https://localhost:8080/"
    },
    "id": "xUg9SQ7dP2Pa",
    "outputId": "be1dc7b0-afdf-453c-b71d-3484383d9199"
   },
   "outputs": [
    {
     "name": "stdout",
     "output_type": "stream",
     "text": [
      "Mounted at /content/drive/\n"
     ]
    }
   ],
   "source": [
    "# Imports\n",
    "from google.colab import drive\n",
    "drive.mount('/content/drive/', force_remount=True)\n",
    "import sys\n",
    "sys.path.append('/content/drive/MyDrive')\n",
    "\n",
    "# save to local\n",
    "!cp -r /content/drive/MyDrive/processed_splits /content/\n",
    "\n"
   ]
  },
  {
   "cell_type": "code",
   "execution_count": 2,
   "metadata": {
    "colab": {
     "base_uri": "https://localhost:8080/"
    },
    "id": "HHoqTSoXI-s_",
    "outputId": "4cd5b8d2-09e9-475a-866a-a8f2cb531a5d"
   },
   "outputs": [
    {
     "name": "stderr",
     "output_type": "stream",
     "text": [
      "/usr/local/lib/python3.10/dist-packages/albumentations/__init__.py:13: UserWarning: A new version of Albumentations is available: 1.4.20 (you have 1.4.15). Upgrade using: pip install -U albumentations. To disable automatic update checks, set the environment variable NO_ALBUMENTATIONS_UPDATE to 1.\n",
      "  check_for_updates()\n"
     ]
    }
   ],
   "source": [
    "import os\n",
    "import torch\n",
    "import torch.optim as optim\n",
    "import torch.nn as nn\n",
    "import shutil\n",
    "import numpy as np\n",
    "import torchvision\n",
    "import albumentations as A\n",
    "\n",
    "from data_augmentation import augmentation\n",
    "from torchvision.datasets import ImageFolder\n",
    "from torch.utils.data import DataLoader\n",
    "from torchvision import transforms\n",
    "from tqdm import tqdm\n",
    "from sklearn.model_selection import train_test_split\n",
    "import matplotlib.pyplot as plt\n",
    "import json\n",
    "from transformers import ViTForImageClassification, ViTFeatureExtractor\n",
    "from PIL import Image, UnidentifiedImageError\n",
    "import torchvision.datasets as datasets"
   ]
  },
  {
   "cell_type": "code",
   "execution_count": 3,
   "metadata": {
    "colab": {
     "base_uri": "https://localhost:8080/",
     "height": 944,
     "referenced_widgets": [
      "d43a174d3779424b959923194a9f3336",
      "e1ec46c702ca48f3ace2b22dd32e7791",
      "2644445370c946278267dc8cec4a48dc",
      "5c4502df28a94f6f873235cc7ed8690d",
      "94a1401b95174bcfba6b93ba1137b5bc",
      "1c086fb492bf4ea095eccde8f1e444ca",
      "af5efe45c24941afa69471dacc2b9228",
      "04213c4d61c24d7980b408eccf8c8398",
      "0c5a7ec27b264a01bd1f98f60c5cb60c",
      "50b70d6898e24cb58b6024a91314e84e",
      "6710d0ff98974d41aace0b467e42eb1b",
      "c76f85729ddc497bbc00d78c964d4ff5",
      "a0ba569f8e524153bba9f61ff967e90c",
      "fff6463acf0346b3991b0015b6d46284",
      "7e4d991982ca4bb78bd11bb8e769a14e",
      "cdba9dfed0a6497da621f39533cf2332",
      "118e0589ffcd44789436783dad66b0a8",
      "3ae3606b68844c9c85e0682f004d8850",
      "a2a92135970e4fa1b6ac41b3ab8409e8",
      "48bc7c923f8e418eaf6ca3bab8f0bc0d",
      "bbe7b2eb546442ae837844f1992b8429",
      "544e819a2344489a9f524564723f7b3d"
     ]
    },
    "id": "mGfTWd_kP2Pc",
    "outputId": "b5bab1d0-c71e-4b33-ae8f-00686b94d210"
   },
   "outputs": [
    {
     "name": "stdout",
     "output_type": "stream",
     "text": [
      "cuda\n"
     ]
    },
    {
     "name": "stderr",
     "output_type": "stream",
     "text": [
      "/usr/local/lib/python3.10/dist-packages/huggingface_hub/utils/_token.py:89: UserWarning: \n",
      "The secret `HF_TOKEN` does not exist in your Colab secrets.\n",
      "To authenticate with the Hugging Face Hub, create a token in your settings tab (https://huggingface.co/settings/tokens), set it as secret in your Google Colab and restart your session.\n",
      "You will be able to reuse this secret in all of your notebooks.\n",
      "Please note that authentication is recommended but still optional to access public models or datasets.\n",
      "  warnings.warn(\n"
     ]
    },
    {
     "data": {
      "application/vnd.jupyter.widget-view+json": {
       "model_id": "d43a174d3779424b959923194a9f3336",
       "version_major": 2,
       "version_minor": 0
      },
      "text/plain": [
       "config.json:   0%|          | 0.00/69.7k [00:00<?, ?B/s]"
      ]
     },
     "metadata": {},
     "output_type": "display_data"
    },
    {
     "data": {
      "application/vnd.jupyter.widget-view+json": {
       "model_id": "c76f85729ddc497bbc00d78c964d4ff5",
       "version_major": 2,
       "version_minor": 0
      },
      "text/plain": [
       "model.safetensors:   0%|          | 0.00/346M [00:00<?, ?B/s]"
      ]
     },
     "metadata": {},
     "output_type": "display_data"
    },
    {
     "data": {
      "text/plain": [
       "ViTForImageClassification(\n",
       "  (vit): ViTModel(\n",
       "    (embeddings): ViTEmbeddings(\n",
       "      (patch_embeddings): ViTPatchEmbeddings(\n",
       "        (projection): Conv2d(3, 768, kernel_size=(16, 16), stride=(16, 16))\n",
       "      )\n",
       "      (dropout): Dropout(p=0.0, inplace=False)\n",
       "    )\n",
       "    (encoder): ViTEncoder(\n",
       "      (layer): ModuleList(\n",
       "        (0-11): 12 x ViTLayer(\n",
       "          (attention): ViTSdpaAttention(\n",
       "            (attention): ViTSdpaSelfAttention(\n",
       "              (query): Linear(in_features=768, out_features=768, bias=True)\n",
       "              (key): Linear(in_features=768, out_features=768, bias=True)\n",
       "              (value): Linear(in_features=768, out_features=768, bias=True)\n",
       "              (dropout): Dropout(p=0.0, inplace=False)\n",
       "            )\n",
       "            (output): ViTSelfOutput(\n",
       "              (dense): Linear(in_features=768, out_features=768, bias=True)\n",
       "              (dropout): Dropout(p=0.0, inplace=False)\n",
       "            )\n",
       "          )\n",
       "          (intermediate): ViTIntermediate(\n",
       "            (dense): Linear(in_features=768, out_features=3072, bias=True)\n",
       "            (intermediate_act_fn): GELUActivation()\n",
       "          )\n",
       "          (output): ViTOutput(\n",
       "            (dense): Linear(in_features=3072, out_features=768, bias=True)\n",
       "            (dropout): Dropout(p=0.0, inplace=False)\n",
       "          )\n",
       "          (layernorm_before): LayerNorm((768,), eps=1e-12, elementwise_affine=True)\n",
       "          (layernorm_after): LayerNorm((768,), eps=1e-12, elementwise_affine=True)\n",
       "        )\n",
       "      )\n",
       "    )\n",
       "    (layernorm): LayerNorm((768,), eps=1e-12, elementwise_affine=True)\n",
       "  )\n",
       "  (classifier): Linear(in_features=768, out_features=1000, bias=True)\n",
       ")"
      ]
     },
     "execution_count": 3,
     "metadata": {},
     "output_type": "execute_result"
    }
   ],
   "source": [
    "device = torch.device('cuda' if torch.cuda.is_available() else 'cpu')\n",
    "print(device)\n",
    "model = ViTForImageClassification.from_pretrained('google/vit-base-patch16-224')\n",
    "model.to(device)"
   ]
  },
  {
   "cell_type": "markdown",
   "metadata": {
    "id": "T83SmoGjP2Pe"
   },
   "source": [
    "## Data Preperation"
   ]
  },
  {
   "cell_type": "code",
   "execution_count": null,
   "metadata": {
    "id": "670Blnd5P2Pg",
    "outputId": "0f298478-58e3-46d7-f561-91d00c47c02d"
   },
   "outputs": [
    {
     "name": "stdout",
     "output_type": "stream",
     "text": [
      "Processed 1.jpg_person_0.jpg\n",
      "Processed 123.jpg_person_0.jpg\n",
      "Processed 1234.jpg\n",
      "Processed 1528299.jpg_person_0.jpg\n",
      "Processed 1k1tus74c44c1.jpg_person_0.jpg\n",
      "Processed 20240521_664c62af13e2b.jpg_person_0.jpg\n",
      "Processed 20240521_664c62b0a10df.jpg_person_0.jpg\n",
      "Processed 2d7e8fd5c08794cdb6efffb9d3e864f1_573116708228114109.jpg\n",
      "Processed 470570.jpg\n",
      "Processed 4d273b13111fd010b9d2ebc66d797027.jpg_person_0.jpg\n",
      "Processed 4f743c664e576f0453a417a79fb223db_2156934232139002302.jpg_person_0.jpg\n",
      "Processed 4l3uc8z96rz91.jpg_person_0.jpg\n",
      "Processed 57002ey.jpg\n",
      "Processed 5_f4b100cf-c9be-4efe-81e3-de6c9f1939b9.jpg_person_0.jpg\n",
      "Processed 640x640q90.jpg\n",
      "Processed 67087ef0efa502d7edb27ca561413c93.jpg_person_0.jpg\n",
      "Processed 815818012ab7c5b5832be3ea2cbf994a_6081765440921617244.jpg_person_0.jpg\n",
      "Processed 89c158a4ba8bc1638a057724a23c405a.jpg_person_0.jpg\n",
      "Processed b05db2010dd6aa3bd72385a3bc176f54_1148165468859077393.jpg_person_0.jpg\n",
      "Processed c29821593aeaf5490b122befc2f8a545_580631687357654309.jpg\n",
      "Processed CGI209DR_width_600_height_880.jpg_person_0.jpg\n",
      "Processed dori-cosplay-by-fraurinr8z82iq20a1.jpg\n",
      "Processed dori-cosplay-by-fraurinr8z82iq20a1.jpg_person_0.jpg\n",
      "Processed dori-cosplay-ig-v0-enfd0ujdzryc1.jpg_person_0.jpg\n",
      "Processed e9a738b014ab8832f1417f88d44e795e.jpg_person_0.jpg\n",
      "Processed eaksrmkk4b1.jpg_person_0.jpg\n",
      "Processed F2Xda5Nb0AAMxrR.jpg_person_0.jpg\n",
      "Processed FcQ_dQLWIAE-009.jpg_person_0.jpg\n",
      "Processed fleamarket.jpg\n",
      "Processed Full-Set.jpg\n",
      "Processed Genshin-Impact-Dori-Cosplay-Contact-Lenses-22.jpg_person_0.jpg\n",
      "Processed GenshinImpactDoriCosplayCostumessy.jpg_person_0.jpg\n",
      "Processed genshin_impact_dori_cosplay_1668317345_90ced54f_progressive.jpg_person_0.jpg\n",
      "Processed google_0000.jpg_person_0.jpg\n",
      "Processed google_0001 (2) 1.jpg_person_0.jpg\n",
      "Processed google_0001 (2).jpg_person_0.jpg\n",
      "Processed google_0001 1.jpg_person_0.jpg\n",
      "Processed google_0001.jpg_person_0.jpg\n",
      "Processed google_0002 (2).jpg_person_0.jpg\n",
      "Processed google_0002 1.jpg_person_0.jpg\n",
      "Processed google_0002.jpg_person_0.jpg\n",
      "Processed google_0003.jpg_person_0.jpg\n",
      "Processed google_0004 (2).jpg_person_0.jpg\n",
      "Processed google_0004 1.jpg_person_0.jpg\n",
      "Processed google_0004.jpg_person_0.jpg\n",
      "Processed google_0005 (2).jpg_person_0.jpg\n",
      "Processed google_0005.jpg_person_0.jpg\n",
      "Processed google_0007.jpg_person_0.jpg\n",
      "Processed google_0009.jpg_person_0.jpg\n",
      "Processed google_0010 (2).jpg_person_0.jpg\n",
      "Processed google_0010.jpg_person_0.jpg\n",
      "Processed google_0012.jpg_person_0.jpg\n",
      "Processed google_0013.jpg_person_0.jpg\n",
      "Processed google_0016 (2).jpg_person_0.jpg\n",
      "Processed google_0016.jpg_person_0.jpg\n",
      "Processed google_0017 (2).jpg_person_0.jpg\n",
      "Processed google_0017.jpg_person_0.jpg\n",
      "Processed google_0018 (2).jpg_person_0.jpg\n",
      "Processed google_0018.jpg_person_0.jpg\n",
      "Processed google_0020.jpg_person_0.jpg\n",
      "Processed google_0021 (2) 1.jpg_person_0.jpg\n",
      "Processed google_0021 (2).jpg_person_0.jpg\n",
      "Processed google_0023.jpg_person_0.jpg\n",
      "Processed google_0027 (2).jpg_person_0.jpg\n",
      "Processed google_0028.jpg_person_0.jpg\n",
      "Processed google_0029 1.jpg_person_0.jpg\n",
      "Processed google_0030.jpg_person_0.jpg\n",
      "Processed google_0031 1.jpg_person_0.jpg\n",
      "Processed google_0031.jpg_person_0.jpg\n",
      "Processed google_0033.jpg_person_0.jpg\n",
      "Processed google_0034.webp_person_0.jpg\n",
      "Processed google_0041.jpg_person_0.jpg\n",
      "Processed google_0042 1.jpg_person_0.jpg\n",
      "Processed google_0042.jpg_person_0.jpg\n",
      "Processed google_0043.jpg_person_0.jpg\n",
      "Processed google_0045.jpg_person_0.jpg\n",
      "Processed google_0046 (2).jpg_person_0.jpg\n",
      "Processed google_0047 (2).jpg_person_0.jpg\n",
      "Processed google_0047.jpg_person_0.jpg\n",
      "Processed google_0050.jpg_person_0.jpg\n",
      "Processed google_0051 1.jpg_person_0.jpg\n",
      "Processed google_0051.jpg_person_0.jpg\n",
      "Processed google_0054 1.jpg_person_0.jpg\n",
      "Processed google_0054.jpg_person_0.jpg\n",
      "Processed google_0055.jpg_person_0.jpg\n",
      "Processed google_0056.jpg_person_0.jpg\n",
      "Processed google_0060.jpg_person_0.jpg\n",
      "Processed google_0063.jpg_person_0.jpg\n",
      "Processed google_0066.jpg_person_0.jpg\n",
      "Processed google_0071.webp_person_0.jpg\n",
      "Processed google_0072.jpg_person_0.jpg\n",
      "Processed google_0074 (2).jpg_person_0.jpg\n",
      "Processed google_0074 1.jpg_person_0.jpg\n",
      "Processed google_0074.jpg_person_0.jpg\n",
      "Processed google_0077 1.jpg_person_0.jpg\n",
      "Processed google_0077.jpg_person_0.jpg\n",
      "Processed google_0078.jpg_person_0.jpg\n",
      "Processed google_0079 (2).jpg_person_0.jpg\n",
      "Processed google_0080.jpg_person_0.jpg\n",
      "Processed google_0084.jpg_person_0.jpg\n",
      "Processed google_0085.jpg_person_0.jpg\n",
      "Processed google_0088 (2).jpg_person_0.jpg\n",
      "Processed google_0088 (3).jpg_person_0.jpg\n",
      "Processed google_0089.jpg_person_0.jpg\n",
      "Processed google_0090.jpg_person_0.jpg\n",
      "Processed google_0091.jpg_person_0.jpg\n",
      "Processed google_0092 1.jpg_person_0.jpg\n",
      "Processed google_0092.jpg_person_0.jpg\n",
      "Processed google_0094.jpg_person_0.jpg\n",
      "Processed google_0096.jpg_person_0.jpg\n",
      "Processed google_0101.webp_person_0.jpg\n",
      "Processed google_0102.jpg_person_0.jpg\n",
      "Processed google_0107.jpg_person_0.jpg\n",
      "Processed google_0110.jpg_person_0.jpg\n",
      "Processed google_0114.jpg_person_0.jpg\n",
      "Processed google_0118.jpg_person_0.jpg\n",
      "Processed google_0119.jpg_person_0.jpg\n",
      "Processed google_0129.jpg_person_0.jpg\n",
      "Processed google_0130.jpg_person_0.jpg\n",
      "Processed google_0131.jpg_person_0.jpg\n",
      "Processed google_0133.jpg_person_0.jpg\n",
      "Processed google_0150.jpg_person_0.jpg\n",
      "Processed google_0163.jpg_person_0.jpg\n",
      "Processed google_0170.jpg_person_0.jpg\n",
      "Processed google_0172.jpg_person_0.jpg\n",
      "Processed google_0190.jpg_person_0.jpg\n",
      "Processed google_0204.jpg_person_0.jpg\n",
      "Processed google_0206.jpg_person_0.jpg\n",
      "Processed google_0212.jpg_person_0.jpg\n",
      "Processed google_0225.jpg_person_0.jpg\n",
      "Processed google_0235.jpg_person_0.jpg\n",
      "Processed google_0256.jpg_person_0.jpg\n",
      "Processed google_0319.jpg_person_0.jpg\n",
      "Processed gwefj.jpg\n",
      "Processed hq720.jpg\n",
      "Processed maxresdefault.jpg_person_0.jpg\n",
      "Processed pg58a9bbwlr91.jpg_person_0.jpg\n",
      "Processed ptj4961a53.jpg_person_0.jpg\n",
      "Processed s-l1200.jpg_person_0.jpg\n",
      "Processed S07ee3b8ea6604990bb8dc259eb511167s.jpg\n",
      "Processed S6b (2).jpg\n",
      "Processed S6b.jpg\n",
      "Processed S8264db96d08d49c0996760de47545ceeH.jpg_960x960.jpg\n",
      "Processed S98968c3ebed64a14af7eecf0c99c60acW.jpg_640x640q90.jpg\n",
      "Processed s9irh9bbwlr91.jpg_person_0.jpg\n",
      "Processed Sac564ae499a4431393593a89a0c6fb241.jpg_640x640q90.jpg\n",
      "Processed sakuranokoi_mg155_2_d_20220906121405.jpg_person_0.jpg\n",
      "Processed sg-11134201-22100-i6keklwnkyiv37.jpg_person_0.jpg\n",
      "Processed tw-11134201-7qukx-lfijg1pr5jvu55.jpg_person_0.jpg\n",
      "Processed XPEH.jpg_person_0.jpg\n",
      "Processed 0fi6u0ucs4gb1.jpg_person_0.jpg\n",
      "Processed 10f95ca9-c28b-43f9-ba04-2e9eebc41e40.jpg_person_0.jpg\n",
      "Processed 15cfe91343d9447b9a720d0a54dd8d29.jpg_person_0.jpg\n",
      "Processed 1cf090257f164106a74e82f254f45465.jpg_person_0.jpg\n",
      "Processed 202106111251542969.jpg_person_0.jpg\n",
      "Processed 20240629184826191-genshin-impact-lisa-minci-3d-model-c4835c08f6.jpg_person_0.jpg\n",
      "Processed 22337674902870_129.jpg\n",
      "Processed 22346170856026_203.jpg_person_0.jpg\n",
      "Processed 4a5cc1869a764389a83c89f14e0de3e7.jpg_person_0.jpg\n",
      "Processed 51c8b88e80dc442f8b2b4e0cfe4b2d92.jpg_person_0.jpg\n",
      "Processed 57316037_50065971be5a44b68fab4086edf4cabd.jpg_person_0.jpg\n",
      "Processed 57316037_68e17e1c43fc4b0ea4a9e0f4b98d6b5a.jpg\n",
      "Processed 6d3ffba091e64ff7bcabe6795d7afd6f.jpg\n",
      "Processed 6d3ffba091e64ff7bcabe6795d7afd6f.jpg_person_0.jpg\n",
      "Processed 81lDbnEgbCS.jpg_person_0.jpg\n",
      "Processed 931c38d2f63294857908f45522d73031_6760369147116556125.jpg_person_0.jpg\n",
      "Processed a5da308c35fd4a028c26f8627dec4e40.jpg_person_0.jpg\n",
      "Processed b7b34b06d57c4ba38ed47da498a72af4.jpg_person_0.jpg\n",
      "Processed b83c91dd54d0c3b71dfa67ea8764d7da.jpg_person_0.jpg\n",
      "Processed coser@Akira-Kyuu-2-e1654434910497.jpg_person_0.jpg\n",
      "Processed d91bceba0996e10d45fd1524edeb2cd7.jpg_person_0.jpg\n",
      "Processed ff8j9913addd1.jpg_person_0.jpg\n",
      "Processed g.jpg\n",
      "Processed g.jpg_person_0.jpg\n",
      "Processed google_0000.jpg_person_0.jpg\n",
      "Processed google_0001.jpg_person_0.jpg\n",
      "Processed google_0002.jpg_person_0.jpg\n",
      "Processed google_0003.jpg_person_0.jpg\n",
      "Processed google_0004.jpg_person_0.jpg\n",
      "Processed google_0008.jpg_person_0.jpg\n",
      "Processed google_0009 (2).jpg_person_0.jpg\n",
      "Processed google_0009.jpg_person_0.jpg\n",
      "Processed google_0010.jpg_person_0.jpg\n",
      "Processed google_0011.jpg_person_0.jpg\n",
      "Processed google_0012.jpg_person_0.jpg\n",
      "Processed google_0014.jpg_person_0.jpg\n",
      "Processed google_0016 (2).jpg_person_0.jpg\n",
      "Processed google_0016.jpg_person_0.jpg\n",
      "Processed google_0020.jpg_person_0.jpg\n",
      "Processed google_0025 (2).jpg_person_0.jpg\n",
      "Processed google_0025.jpg_person_0.jpg\n",
      "Processed google_0026.jpg_person_0.jpg\n",
      "Processed google_0029.jpg_person_0.jpg\n",
      "Processed google_0030.jpg_person_0.jpg\n",
      "Processed google_0035 (2).jpg_person_0.jpg\n",
      "Processed google_0035.jpg_person_0.jpg\n",
      "Processed google_0037 (2).jpg_person_0.jpg\n",
      "Processed google_0041.jpg_person_0.jpg\n",
      "Processed google_0042.jpg_person_0.jpg\n",
      "Processed google_0045.jpg_person_0.jpg\n",
      "Processed google_0047.jpg_person_0.jpg\n",
      "Processed google_0048.jpg_person_0.jpg\n",
      "Processed google_0057.jpg_person_0.jpg\n",
      "Processed google_0058.jpg_person_0.jpg\n",
      "Processed google_0059 (2).jpg_person_0.jpg\n",
      "Processed google_0059.jpg_person_0.jpg\n",
      "Processed google_0063.jpg_person_0.jpg\n",
      "Processed google_0064.jpg_person_0.jpg\n",
      "Processed google_0070 (2).jpg_person_0.jpg\n",
      "Processed google_0071.jpg_person_0.jpg\n",
      "Processed google_0072.jpg_person_0.jpg\n",
      "Processed google_0073.jpg_person_0.jpg\n",
      "Processed google_0074.jpg_person_0.jpg\n",
      "Processed google_0078.jpg_person_0.jpg\n",
      "Processed google_0081.jpg_person_0.jpg\n",
      "Processed google_0087.jpg_person_0.jpg\n",
      "Processed google_0088.jpg_person_0.jpg\n",
      "Processed google_0089.jpg_person_0.jpg\n",
      "Processed google_0100.jpg_person_0.jpg\n",
      "Processed google_0102.jpg_person_0.jpg\n",
      "Processed google_0109.jpg_person_0.jpg\n",
      "Processed google_0110.jpg_person_0.jpg\n",
      "Processed google_0115.jpg_person_0.jpg\n",
      "Processed google_0117.jpg_person_0.jpg\n",
      "Processed google_0119.jpg_person_0.jpg\n",
      "Processed google_0120.jpg_person_0.jpg\n",
      "Processed google_0122.jpg_person_0.jpg\n",
      "Processed google_0126.jpg_person_0.jpg\n",
      "Processed google_0127 (2).jpg_person_0.jpg\n",
      "Processed google_0129.jpg_person_0.jpg\n",
      "Processed google_0130.jpg_person_0.jpg\n",
      "Processed google_0132.jpg_person_0.jpg\n",
      "Processed google_0136.jpg_person_0.jpg\n",
      "Processed google_0139.jpg_person_0.jpg\n",
      "Processed google_0141.jpg_person_0.jpg\n",
      "Processed google_0142.jpg_person_0.jpg\n",
      "Processed google_0143.jpg_person_0.jpg\n",
      "Processed google_0144.jpg_person_0.jpg\n",
      "Processed google_0151.jpg_person_0.jpg\n",
      "Processed google_0154.jpg_person_0.jpg\n",
      "Processed google_0163 (2).jpg_person_0.jpg\n",
      "Processed google_0166.jpg_person_0.jpg\n",
      "Processed google_0167.jpg_person_0.jpg\n",
      "Processed google_0176.jpg_person_0.jpg\n",
      "Processed google_0177.jpg_person_0.jpg\n",
      "Processed google_0181.jpg_person_0.jpg\n",
      "Processed google_0184.jpg_person_0.jpg\n",
      "Processed google_0198.jpg_person_0.jpg\n",
      "Processed google_0205.jpg_person_0.jpg\n",
      "Processed google_0214.jpg_person_0.jpg\n",
      "Processed google_0215.jpg_person_0.jpg\n",
      "Processed google_0222.jpg_person_0.jpg\n",
      "Processed google_0236.jpg_person_0.jpg\n",
      "Processed google_0237.jpg_person_0.jpg\n",
      "Processed google_0246.jpg_person_0.jpg\n",
      "Processed google_0250.jpg_person_0.jpg\n",
      "Processed google_0269.jpg_person_0.jpg\n",
      "Processed google_0275.jpg_person_0.jpg\n",
      "Processed google_0296.jpg_person_0.jpg\n",
      "Processed google_0320.jpg_person_0.jpg\n",
      "Processed google_0331.jpg_person_0.jpg\n",
      "Processed google_0359.jpg_person_0.jpg\n",
      "Processed google_0366.jpg_person_0.jpg\n",
      "Processed google_0376.jpg_person_0.jpg\n",
      "Processed google_0381.jpg_person_0.jpg\n",
      "Processed google_0386.jpg_person_0.jpg\n",
      "Processed google_0389.jpg_person_0.jpg\n",
      "Processed google_0392.jpg_person_0.jpg\n",
      "Processed google_0394.jpg_person_0.jpg\n",
      "Processed google_0398.jpg_person_0.jpg\n",
      "Processed google_0409.jpg_person_0.jpg\n",
      "Processed google_0425.jpg_person_0.jpg\n",
      "Processed google_0426.jpg_person_0.jpg\n",
      "Processed google_0427.jpg_person_0.jpg\n",
      "Processed google_0431.jpg_person_0.jpg\n",
      "Processed google_0434.jpg_person_0.jpg\n",
      "Processed google_0435.jpg_person_0.jpg\n",
      "Processed google_0437.jpg_person_0.jpg\n",
      "Processed google_0455.jpg_person_0.jpg\n",
      "Processed google_0456.jpg_person_0.jpg\n",
      "Processed google_0465.jpg_person_0.jpg\n",
      "Processed grx9w4ko7b1.jpg_person_0.jpg\n",
      "Processed H3c0f3e0dde6748c4903c5f07429629faX.jpg_640x640q90.jpg\n",
      "Processed Hb6a59690ad8e422484fc5a1d793f79774.jpg_640x640Q90.jpg\n",
      "Processed images (1).jpg_person_0.jpg\n",
      "Processed images (2).jpg\n",
      "Processed images (2).jpg_person_0.jpg\n",
      "Processed images (3).jpg_person_0.jpg\n",
      "Processed images.jpg_person_0.jpg\n",
      "Processed iodxycsu9ll61.jpg_person_0.jpg\n",
      "Processed lisa-cosplay-by-temiru-self-v0-3xiuvudpmrwb1.jpg_person_0.jpg\n",
      "Processed MA3ShPl.jpg\n",
      "Processed O1CN016Mbks71EdnBJmGOQE_!!84850375.jpg_Q75.jpg_.jpg\n",
      "Processed O1CN0199cxit1JB0g07Y0kN_!!98340989.jpg_Q75.jpg_.jpg\n",
      "Processed resize_image.jpg_person_0.jpg\n",
      "Processed sddefault.jpg_person_0.jpg\n",
      "Processed t33bguddnsbc1.jpg_person_0.jpg\n",
      "Processed tw-11134201-7r990-llm446ancasd4e.jpg_person_0.jpg\n",
      "Processed w700d1q75cms.jpg_person_0.jpg\n",
      "Processed xln0d13bzuq51.jpg_person_0.jpg\n",
      "Processed 20240521_664c5eddd055c.jpg\n",
      "Processed 20240521_664c5eddd055c.jpg_person_0.jpg\n",
      "Processed 24c0dabc88e843b7ae0d4c3eadb567d4.jpeg_person_0.jpg\n",
      "Processed 272248737826dfc5b1048291fc3994ac0a9edc48r1-2048-1366v2_uhq.jpg_person_0.jpg\n",
      "Processed 52189_vP2qgVErJLd8LK1JO8wB_width_1000_height_1000_watermark.jpg_person_0.jpg\n",
      "Processed 52345788433_2de420deef_b.jpg_person_0.jpg\n",
      "Processed 52533950971_674223dde1_z.jpg_person_0.jpg\n",
      "Processed 8367ed156a899d5ee9a01232559fbd9a_2009887732557092305.jpg_person_0.jpg\n",
      "Processed A6C8yPig.jpg_person_0.jpg\n",
      "Processed amber-cosplay-by-neyrodesu-v0-ma5gr16yjh3b1.jpg_person_0.jpg\n",
      "Processed amber-genshin-cosplay-1-1630352441.jpg_person_0.jpg\n",
      "Processed amber_cosplay_genshin_impact_1690020195_5447867e_progressive.jpg_person_0.jpg\n",
      "Processed amber_genshin_impact_wind_glider___bow_cosplay_by_llyonafang_de7xysx-fullview.jpg_person_0.jpg\n",
      "Processed CGS011AM_width_600_height_880.jpg_person_0.jpg\n",
      "Processed d9a9fcmhfzt61.jpg_person_0.jpg\n",
      "Processed download.jpg_person_0.jpg\n",
      "Processed e0bbf53ee8f45fd6673bc975c12ac88048c95593r1-1366-2048v2_hq.jpg_person_0.jpg\n",
      "Processed fde8f898837f3b4e15d2a912076414ee_7854741617912683732.jpg_person_0.jpg\n",
      "Processed FQl_gRzUcAAr5Av.jpg_person_0.jpg\n",
      "Processed gc827_35_-3.jpg_person_0.jpg\n",
      "Processed genshin-impact-amber-550x309.jpg_person_0.jpg\n",
      "Processed Genshin-Impact-Amber-Cosplay-Costume-1.jpg_person_0.jpg\n",
      "Processed google_0001.jpg_person_0.jpg\n",
      "Processed google_0002.jpg_person_0.jpg\n",
      "Processed google_0003.jpg_person_0.jpg\n",
      "Processed google_0004.jpg_person_0.jpg\n",
      "Processed google_0005.jpg_person_0.jpg\n",
      "Processed google_0006.jpg_person_0.jpg\n",
      "Processed google_0007.jpg_person_0.jpg\n",
      "Processed google_0009.jpg_person_0.jpg\n",
      "Processed google_0010.jpg_person_0.jpg\n",
      "Processed google_0011.jpg_person_0.jpg\n",
      "Processed google_0012.jpg_person_0.jpg\n",
      "Processed google_0013.jpg_person_0.jpg\n",
      "Processed google_0014.jpg_person_0.jpg\n",
      "Processed google_0015.jpg_person_0.jpg\n",
      "Processed google_0017.jpg_person_0.jpg\n",
      "Processed google_0018.jpg_person_0.jpg\n",
      "Processed google_0019.jpg_person_0.jpg\n",
      "Processed google_0020.jpg_person_0.jpg\n",
      "Processed google_0022.jpg_person_0.jpg\n",
      "Processed google_0023.jpg_person_0.jpg\n",
      "Processed google_0026.jpg_person_0.jpg\n",
      "Processed google_0027.jpg_person_0.jpg\n",
      "Processed google_0031.jpg_person_0.jpg\n",
      "Processed google_0033.jpg_person_0.jpg\n",
      "Processed google_0035.jpg_person_0.jpg\n",
      "Processed google_0036.jpg_person_0.jpg\n",
      "Processed google_0039.jpg_person_0.jpg\n",
      "Processed google_0040.jpg_person_0.jpg\n",
      "Processed google_0043.jpg_person_0.jpg\n",
      "Processed google_0045.jpg_person_0.jpg\n",
      "Processed google_0050.jpg_person_0.jpg\n",
      "Processed google_0051.jpg_person_0.jpg\n",
      "Processed google_0052.jpg_person_0.jpg\n",
      "Processed google_0054.jpg_person_0.jpg\n",
      "Processed google_0055.jpg_person_0.jpg\n",
      "Processed google_0058.jpg_person_0.jpg\n",
      "Processed google_0063.jpg_person_0.jpg\n",
      "Processed google_0066.jpg_person_0.jpg\n",
      "Processed google_0067.jpg_person_0.jpg\n",
      "Processed google_0069.jpg_person_0.jpg\n",
      "Processed google_0070.jpg_person_0.jpg\n",
      "Processed google_0071.jpg_person_0.jpg\n",
      "Processed google_0072.jpg_person_0.jpg\n",
      "Processed google_0073.jpg_person_0.jpg\n",
      "Processed google_0074.jpg_person_0.jpg\n",
      "Processed google_0078.jpg_person_0.jpg\n",
      "Processed google_0080.jpg_person_0.jpg\n",
      "Processed google_0085.jpg_person_0.jpg\n",
      "Processed google_0086.jpg_person_0.jpg\n",
      "Processed google_0090.jpg_person_0.jpg\n",
      "Processed google_0093.jpg_person_0.jpg\n",
      "Processed google_0094.jpg_person_0.jpg\n",
      "Processed google_0095.jpg_person_0.jpg\n",
      "Processed google_0097.jpg_person_0.jpg\n",
      "Processed google_0098.jpg_person_0.jpg\n",
      "Processed google_0099.jpg_person_0.jpg\n",
      "Processed google_0101.jpg_person_0.jpg\n",
      "Processed google_0112.jpg_person_0.jpg\n",
      "Processed google_0129.jpg_person_0.jpg\n",
      "Processed google_0131.jpg_person_0.jpg\n",
      "Processed google_0132.jpg_person_0.jpg\n",
      "Processed google_0135.jpg_person_0.jpg\n",
      "Processed google_0136.jpg_person_0.jpg\n",
      "Processed google_0137.jpg_person_0.jpg\n",
      "Processed google_0140.jpg_person_0.jpg\n",
      "Processed google_0146.jpg_person_0.jpg\n",
      "Processed google_0149.jpg_person_0.jpg\n",
      "Processed google_0157.jpg_person_0.jpg\n",
      "Processed google_0160.jpg_person_0.jpg\n",
      "Processed google_0162.jpg_person_0.jpg\n",
      "Processed google_0170.jpg_person_0.jpg\n",
      "Processed google_0174.jpg_person_0.jpg\n",
      "Processed google_0181.jpg_person_0.jpg\n",
      "Processed google_0183.jpg_person_0.jpg\n",
      "Processed google_0190.jpg_person_0.jpg\n",
      "Processed google_0201.jpg_person_0.jpg\n",
      "Processed google_0209.jpg_person_0.jpg\n",
      "Processed google_0231.jpg_person_0.jpg\n",
      "Processed google_0237.jpg_person_0.jpg\n",
      "Processed google_0243.jpg_person_0.jpg\n",
      "Processed google_0255.jpg_person_0.jpg\n",
      "Processed google_0259.jpg_person_0.jpg\n",
      "Processed google_0262.jpg_person_0.jpg\n",
      "Processed google_0265.jpg_person_0.jpg\n",
      "Processed google_0269.jpg_person_0.jpg\n",
      "Processed google_0284.jpg_person_0.jpg\n",
      "Processed google_0286.jpg_person_0.jpg\n",
      "Processed google_0289.jpg_person_0.jpg\n",
      "Processed google_0297.jpg_person_0.jpg\n",
      "Processed google_0300.jpg_person_0.jpg\n",
      "Processed google_0301.jpg_person_0.jpg\n",
      "Processed google_0304.jpg_person_0.jpg\n",
      "Processed google_0307.jpg_person_0.jpg\n",
      "Processed google_0309.jpg_person_0.jpg\n",
      "Processed google_0327.jpg_person_0.jpg\n",
      "Processed google_0332.jpg_person_0.jpg\n",
      "Processed google_0340.jpg_person_0.jpg\n",
      "Processed google_0342.jpg_person_0.jpg\n",
      "Processed google_0355.jpg_person_0.jpg\n",
      "Processed google_0356.jpg_person_0.jpg\n",
      "Processed google_0363.jpg_person_0.jpg\n",
      "Processed google_0364.jpg_person_0.jpg\n",
      "Processed google_0365.jpg_person_0.jpg\n",
      "Processed google_0372.jpg_person_0.jpg\n",
      "Processed google_0376.jpg_person_0.jpg\n",
      "Processed google_0377.jpg_person_0.jpg\n",
      "Processed google_0382.jpg_person_0.jpg\n",
      "Processed google_0384.jpg_person_0.jpg\n",
      "Processed google_0390.jpg_person_0.jpg\n",
      "Processed google_0396.jpg_person_0.jpg\n",
      "Processed google_0404.jpg_person_0.jpg\n",
      "Processed google_0417.jpg_person_0.jpg\n",
      "Processed google_0424.jpg_person_0.jpg\n",
      "Processed google_0433.jpg_person_0.jpg\n",
      "Processed hd-standing-amber-genshin-impact-game-character-png-733961695142295ivyoy7oxey.jpg_person_0.jpg\n",
      "Processed i-img600x900-1715385619knuvec200298.jpg_person_0.jpg\n",
      "Processed images.jpg_person_0.jpg\n",
      "Processed kibvgoyhfzt61.jpg_person_0.jpg\n",
      "Processed lhbazq5dtm971.jpg_person_0.jpg\n",
      "Processed LxO1pFig.jpg_person_0.jpg\n",
      "Processed my-amber-cosplay-v0-mow0rcswkk7c1.jpg_person_0.jpg\n",
      "Processed o874pyglyg161.jpg_person_0.jpg\n",
      "Processed S9345833a05cf49579192bfbf82b00671a.jpg\n",
      "Processed Sa13b098d15d044a29953f1a58b321fe1p.jpg\n",
      "Processed self-cosplayed-as-amber-for-a-local-anime-convention-havent-v0-ctyw6628ey3b1.jpg\n",
      "Processed sg-11134201-22110-y7hakbpyd2jvf2.jpg\n",
      "Processed tg82pfm916u51 (2).jpg\n",
      "Processed tg82pfm916u51.jpg\n",
      "Processed google_0000.jpg_person_0.jpg\n",
      "Processed google_0001 (2).jpg_person_0.jpg\n",
      "Processed google_0001.jpg_person_0.jpg\n",
      "Processed google_0001_cr.jpg\n",
      "Processed google_0002.jpg_person_0.jpg\n",
      "Processed google_0005 (2).jpg_person_0.jpg\n",
      "Processed google_0005 1_cr.jpg\n",
      "Processed google_0005.jpg_person_0.jpg\n",
      "Processed google_0006.jpg_person_0.jpg\n",
      "Processed google_0007 (2)_cr.jpg\n",
      "Processed google_0007.jpg_person_0.jpg\n",
      "Processed google_0010.jpg_person_0.jpg\n",
      "Processed google_0011.jpg_person_0.jpg\n",
      "Processed google_0012.jpg_person_0.jpg\n",
      "Processed google_0013.jpg_person_0.jpg\n",
      "Processed google_0014.jpg_person_0.jpg\n",
      "Processed google_0015.jpg_person_0.jpg\n",
      "Processed google_0017.jpg_person_0.jpg\n",
      "Processed google_0018.jpg_person_0.jpg\n",
      "Processed google_0018.webp_person_0.jpg\n",
      "Processed google_0019.webp_person_0.jpg\n",
      "Processed google_0021_cr.jpg\n",
      "Processed google_0022.jpg_person_0.jpg\n",
      "Processed google_0023.jpg_person_0.jpg\n",
      "Processed google_0024.png_person_0.jpg\n",
      "Processed google_0024_cr.jpg\n",
      "Processed google_0027.jpg_person_0.jpg\n",
      "Processed google_0030.jpg_person_0.jpg\n",
      "Processed google_0030_cr.jpg\n",
      "Processed google_0031_cr.jpg\n",
      "Processed google_0038.jpg_person_0.jpg\n",
      "Processed google_0039.jpg_person_0.jpg\n",
      "Processed google_0041.jpg_person_0.jpg\n",
      "Processed google_0042 (2).jpg_person_0.jpg\n",
      "Processed google_0042.jpg_person_0.jpg\n",
      "Processed google_0043 (2).jpg_person_0.jpg\n",
      "Processed google_0043.jpg_person_0.jpg\n",
      "Processed google_0047 (2).jpg_person_0.jpg\n",
      "Processed google_0047.jpg_person_0.jpg\n",
      "Processed google_0049.webp_person_0.jpg\n",
      "Processed google_0051.jpg_person_0.jpg\n",
      "Processed google_0051.png_person_0.jpg\n",
      "Processed google_0055 1.webp_person_0.jpg\n",
      "Processed google_0055.webp_person_0.jpg\n",
      "Processed google_0057.webp_person_0.jpg\n",
      "Processed google_0060.jpg_person_0.jpg\n",
      "Processed google_0061.jpg_person_0.jpg\n",
      "Processed google_0062.jpg_person_0.jpg\n",
      "Processed google_0065.webp_person_0.jpg\n",
      "Processed google_0072.jpg_person_0.jpg\n",
      "Processed google_0076.jpg_person_0.jpg\n",
      "Processed google_0081.jpg_person_0.jpg\n",
      "Processed google_0082.jpg_person_0.jpg\n",
      "Processed google_0088.jpg_person_0.jpg\n",
      "Processed google_0091.jpg_person_0.jpg\n",
      "Processed google_0094.webp_person_0.jpg\n",
      "Processed google_0095.jpg_person_0.jpg\n",
      "Processed google_0099.jpg_person_0.jpg\n",
      "Processed google_0101.jpg_person_0.jpg\n",
      "Processed google_0102_cr.jpg\n",
      "Processed google_0103.jpg_person_0.jpg\n",
      "Processed google_0105 (2).jpg_person_0.jpg\n",
      "Processed google_0105.jpg_person_0.jpg\n",
      "Processed google_0106.jpg_person_0.jpg\n",
      "Processed google_0109.jpg_person_0.jpg\n",
      "Processed google_0110.jpg_person_0.jpg\n",
      "Processed google_0112_cr.jpg\n",
      "Processed google_0114.jpg_person_0.jpg\n",
      "Processed google_0116 (2).webp_person_0.jpg\n",
      "Processed google_0116_cr.jpg\n",
      "Processed google_0119.jpg_person_0.jpg\n",
      "Processed google_0120.jpg_person_0.jpg\n",
      "Processed google_0122_cr.jpg\n",
      "Processed google_0128.jpg_person_0.jpg\n",
      "Processed google_0130.jpg_person_0.jpg\n",
      "Processed google_0133.jpg_person_0.jpg\n",
      "Processed google_0134.jpg_person_0.jpg\n",
      "Processed google_0140.jpg_person_0.jpg\n",
      "Processed google_0144.webp_person_0.jpg\n",
      "Processed google_0152.jpg_person_0.jpg\n",
      "Processed google_0154.jpg_person_0.jpg\n",
      "Processed google_0157.webp_person_0.jpg\n",
      "Processed google_0167.jpg_person_0.jpg\n",
      "Processed google_0168.webp_person_0.jpg\n",
      "Processed google_0169 (2).jpg_person_0.jpg\n",
      "Processed google_0169.jpg_person_0.jpg\n",
      "Processed google_0170.jpg_person_0.jpg\n",
      "Processed google_0171.jpg_person_0.jpg\n",
      "Processed google_0172_cr.jpg\n",
      "Processed google_0180 (2).jpg_person_0.jpg\n",
      "Processed google_0180.jpg_person_0.jpg\n",
      "Processed google_0189 (2).jpg_person_0.jpg\n",
      "Processed google_0189.jpg_person_0.jpg\n",
      "Processed google_0195.jpg_person_0.jpg\n",
      "Processed google_0208.jpg_person_0.jpg\n",
      "Processed google_0209_cr.jpg\n",
      "Processed google_0211 (2).jpg_person_0.jpg\n",
      "Processed google_0211.jpg_person_0.jpg\n",
      "Processed google_0212.webp_person_0.jpg\n",
      "Processed google_0218.jpg_person_0.jpg\n",
      "Processed google_0225.jpg_person_0.jpg\n",
      "Processed google_0237.jpg_person_0.jpg\n",
      "Processed google_0239.jpg_person_0.jpg\n",
      "Processed google_0240_cr.jpg\n",
      "Processed google_0241.jpg_person_0.jpg\n",
      "Processed google_0244 (2)_cr.jpg\n",
      "Processed google_0244.jpg_person_0.jpg\n",
      "Processed google_0246.webp_person_0.jpg\n",
      "Processed google_0254.jpg_person_0.jpg\n",
      "Processed google_0257.webp_person_0.jpg\n",
      "Processed google_0258.jpg_person_0.jpg\n",
      "Processed google_0262_cr.jpg\n",
      "Processed google_0263.webp_person_0.jpg\n",
      "Processed google_0264.jpg_person_0.jpg\n",
      "Processed google_0265.webp_person_0.jpg\n",
      "Processed google_0268.jpg_person_0.jpg\n",
      "Processed google_0270.webp_person_0.jpg\n",
      "Processed google_0282.webp_person_0.jpg\n",
      "Processed google_0285_cr.jpg\n",
      "Processed google_0290.jpg_person_0.jpg\n",
      "Processed google_0298.webp_person_0.jpg\n",
      "Processed google_0305.jpg_person_0.jpg\n",
      "Processed google_0307.jpg_person_0.jpg\n",
      "Processed google_0311.webp_person_0.jpg\n",
      "Processed google_0316_cr.jpg\n",
      "Processed google_0324.webp_person_0.jpg\n",
      "Processed google_0326.jpg_person_0.jpg\n",
      "Processed google_0331.webp_person_0.jpg\n",
      "Processed google_0332.webp_person_0.jpg\n",
      "Processed google_0335.jpg_person_0.jpg\n",
      "Processed google_0339.jpg_person_0.jpg\n",
      "Processed google_0340.jpg_person_0.jpg\n",
      "Processed google_0345.webp_person_0.jpg\n",
      "Processed google_0349.jpg_person_0.jpg\n",
      "Processed google_0349.webp_person_0.jpg\n",
      "Processed google_0353.jpg_person_0.jpg\n",
      "Processed google_0364.webp_person_0.jpg\n",
      "Processed google_0365.jpg_person_0.jpg\n",
      "Processed google_0376.jpg_person_0.jpg\n",
      "Processed google_0387.webp_person_0.jpg\n",
      "Processed google_0389.jpg_person_0.jpg\n",
      "Processed google_0391.webp_person_0.jpg\n",
      "Processed google_0393.jpg_person_0.jpg\n",
      "Processed google_0401.jpg_person_0.jpg\n",
      "Processed google_0402.jpg_person_0.jpg\n",
      "Processed google_0403.jpg_person_0.jpg\n",
      "Processed google_0422.webp_person_0.jpg\n",
      "Processed google_0437.jpg_person_0.jpg\n",
      "Processed google_0441.webp_person_0.jpg\n",
      "Processed google_0449.jpg_person_0.jpg\n",
      "Processed google_0451.jpg_person_0.jpg\n",
      "Processed google_0473.jpg_person_0.jpg\n",
      "Processed google_0476.webp_person_0.jpg\n",
      "Processed google_0482.webp_person_0.jpg\n",
      "Processed google_0496.webp_person_0.jpg\n",
      "Processed google_0501.webp_person_0.jpg\n",
      "Processed google_0510.jpg_person_0.jpg\n",
      "Processed google_0553.webp_person_0.jpg\n",
      "Processed google_0000.webp_person_0.jpg\n",
      "Processed google_0001.jpg_person_0.jpg\n",
      "Processed google_0001.png_person_0.jpg\n",
      "Processed google_0002.png_person_0.jpg\n",
      "Processed google_0003.jpg_person_0.jpg\n",
      "Processed google_0004.jpg_person_0.jpg\n",
      "Processed google_0005 (2)_cr.jpg\n",
      "Processed google_0005.jpg_person_0.jpg\n",
      "Processed google_0006.jpg_person_0.jpg\n",
      "Processed google_0009.jpg_person_0.jpg\n",
      "Processed google_0010.jpg_person_0.jpg\n",
      "Processed google_0013.jpg_person_0.jpg\n",
      "Processed google_0016.jpg_person_0.jpg\n",
      "Processed google_0018.jpg_person_0.jpg\n",
      "Processed google_0020_cr.jpg\n",
      "Processed google_0022.jpg_person_0.jpg\n",
      "Processed google_0025.jpg_person_0.jpg\n",
      "Processed google_0026 (2).jpg_person_0.jpg\n",
      "Processed google_0026.jpg_person_0.jpg\n",
      "Processed google_0029.jpg_person_0.jpg\n",
      "Processed google_0029_cr.jpg\n",
      "Processed google_0034 (2).jpg_person_0.jpg\n",
      "Processed google_0034.jpg_person_0.jpg\n",
      "Processed google_0038.jpg_person_0.jpg\n",
      "Processed google_0039.jpg_person_0.jpg\n",
      "Processed google_0039.webp_person_0.jpg\n",
      "Processed google_0040.jpg_person_0.jpg\n",
      "Processed google_0041.jpg_person_0.jpg\n",
      "Processed google_0048.jpg_person_0.jpg\n",
      "Processed google_0049.jpg_person_0.jpg\n",
      "Processed google_0051.jpg_person_0.jpg\n",
      "Processed google_0053.jpg_person_0.jpg\n",
      "Processed google_0054.webp_person_0.jpg\n",
      "Processed google_0057_cr.jpg\n",
      "Processed google_0058.jpg_person_0.jpg\n",
      "Processed google_0059.jpg_person_0.jpg\n",
      "Processed google_0060.jpg_person_0.jpg\n",
      "Processed google_0065.jpg_person_0.jpg\n",
      "Processed google_0066.jpg_person_0.jpg\n",
      "Processed google_0069.jpg_person_0.jpg\n",
      "Processed google_0070.jpg_person_0.jpg\n",
      "Processed google_0071.jpg_person_0.jpg\n",
      "Processed google_0073.jpg_person_0.jpg\n",
      "Processed google_0075.jpg_person_0.jpg\n",
      "Processed google_0079.jpg_person_0.jpg\n",
      "Processed google_0080.jpg_person_0.jpg\n",
      "Processed google_0083.jpg_person_0.jpg\n",
      "Processed google_0085.webp_person_0.jpg\n",
      "Processed google_0086.webp_person_0.jpg\n",
      "Processed google_0089.jpg_person_0.jpg\n",
      "Processed google_0090.jpg_person_0.jpg\n",
      "Processed google_0091.jpg_person_0.jpg\n",
      "Processed google_0094_cr.jpg\n",
      "Processed google_0096.jpg_person_0.jpg\n",
      "Processed google_0097_cr.jpg\n",
      "Processed google_0099.webp_person_0.jpg\n",
      "Processed google_0102_cr.jpg\n",
      "Processed google_0103.jpg_person_0.jpg\n",
      "Processed google_0106.webp_person_0.jpg\n",
      "Processed google_0106_cr.jpg\n",
      "Processed google_0109.webp_person_0.jpg\n",
      "Processed google_0109_cr.jpg\n",
      "Processed google_0111.jpg_person_0.jpg\n",
      "Processed google_0112.jpg_person_0.jpg\n",
      "Processed google_0113.jpg_person_0.jpg\n",
      "Processed google_0118.webp_person_0.jpg\n",
      "Processed google_0119.jpg_person_0.jpg\n",
      "Processed google_0123_cr.jpg\n",
      "Processed google_0133 (2).jpg_person_0.jpg\n",
      "Processed google_0133.jpg_person_0.jpg\n",
      "Processed google_0134_cr.jpg\n",
      "Processed google_0139.jpg_person_0.jpg\n",
      "Processed google_0141 (2)_cr.jpg\n",
      "Processed google_0141.jpg_person_0.jpg\n",
      "Processed google_0142.jpg_person_0.jpg\n",
      "Processed google_0144.jpg_person_0.jpg\n",
      "Processed google_0145.jpg_person_0.jpg\n",
      "Processed google_0146.jpg_person_0.jpg\n",
      "Processed google_0149_cr.jpg\n",
      "Processed google_0150.jpg_person_0.jpg\n",
      "Processed google_0151.webp_person_0.jpg\n",
      "Processed google_0152_cr.jpg\n",
      "Processed google_0154 (2).jpg_person_0.jpg\n",
      "Processed google_0154.jpg_person_0.jpg\n",
      "Processed google_0157_cr.jpg\n",
      "Processed google_0159.jpg_person_0.jpg\n",
      "Processed google_0160 (2).jpg_person_0.jpg\n",
      "Processed google_0160.jpg_person_0.jpg\n",
      "Processed google_0164.jpg_person_0.jpg\n",
      "Processed google_0165.jpg_person_0.jpg\n",
      "Processed google_0166.webp_person_0.jpg\n",
      "Processed google_0167.jpg_person_0.jpg\n",
      "Processed google_0169.jpg_person_0.jpg\n",
      "Processed google_0170.jpg_person_0.jpg\n",
      "Processed google_0172.jpg_person_0.jpg\n",
      "Processed google_0173.webp_person_0.jpg\n",
      "Processed google_0181.jpg_person_0.jpg\n",
      "Processed google_0190 (2).jpg_person_0.jpg\n",
      "Processed google_0190.jpg_person_0.jpg\n",
      "Processed google_0191.jpg_person_0.jpg\n",
      "Processed google_0194.webp_person_0.jpg\n",
      "Processed google_0206.jpg_person_0.jpg\n",
      "Processed google_0208.jpg_person_0.jpg\n",
      "Processed google_0213_cr.jpg\n",
      "Processed google_0215.jpg_person_0.jpg\n",
      "Processed google_0226.webp_person_0.jpg\n",
      "Processed google_0229.jpg_person_0.jpg\n",
      "Processed google_0237.jpg_person_0.jpg\n",
      "Processed google_0239.png_person_0.jpg\n",
      "Processed google_0240_cr.jpg\n",
      "Processed google_0244.webp_person_0.jpg\n",
      "Processed google_0249_cr.jpg\n",
      "Processed google_0251.jpg_person_0.jpg\n",
      "Processed google_0252.jpg_person_0.jpg\n",
      "Processed google_0259.jpg_person_0.jpg\n",
      "Processed google_0263.webp_person_0.jpg\n",
      "Processed google_0267.webp_person_0.jpg\n",
      "Processed google_0269.jpg_person_0.jpg\n",
      "Processed google_0271.jpg_person_0.jpg\n",
      "Processed google_0272.webp_person_0.jpg\n",
      "Processed google_0281_cr.jpg\n",
      "Processed google_0285.jpg_person_0.jpg\n",
      "Processed google_0296_cr.jpg\n",
      "Processed google_0317.jpg_person_0.jpg\n",
      "Processed google_0318.webp_person_0.jpg\n",
      "Processed google_0319.jpg_person_0.jpg\n",
      "Processed google_0321.webp_person_0.jpg\n",
      "Processed google_0327.webp_person_0.jpg\n",
      "Processed google_0329 (2).webp_person_0.jpg\n",
      "Processed google_0329.webp_person_0.jpg\n",
      "Processed google_0336.jpg_person_0.jpg\n",
      "Processed google_0349.jpg_person_0.jpg\n",
      "Processed google_0367.jpg_person_0.jpg\n",
      "Processed google_0369 (2).webp_person_0.jpg\n",
      "Processed google_0369.webp_person_0.jpg\n",
      "Processed google_0371.webp_person_0.jpg\n",
      "Processed google_0375.jpg_person_0.jpg\n",
      "Processed google_0379.webp_person_0.jpg\n",
      "Processed google_0380_cr.jpg\n",
      "Processed google_0382.jpg_person_0.jpg\n",
      "Processed google_0384.webp_person_0.jpg\n",
      "Processed google_0386_cr.jpg\n",
      "Processed google_0388.webp_person_0.jpg\n",
      "Processed google_0399.webp_person_0.jpg\n",
      "Processed google_0402.webp_person_0.jpg\n",
      "Processed google_0412.jpg_person_0.jpg\n",
      "Processed google_0412_cr.jpg\n",
      "Processed google_0415.jpg_person_0.jpg\n",
      "Processed google_0415.webp_person_0.jpg\n",
      "Processed google_0421.webp_person_0.jpg\n",
      "Processed google_0423.jpg_person_0.jpg\n",
      "Processed google_0424.jpg_person_0.jpg\n",
      "Processed google_0435.jpg_person_0.jpg\n",
      "Processed google_0446.webp_person_0.jpg\n",
      "Processed google_0450.webp_person_0.jpg\n",
      "Processed google_0000 (2).jpg_person_0.jpg\n",
      "Processed google_0000.jpg_person_0.jpg\n",
      "Processed google_0000.png_person_0.jpg\n",
      "Processed google_0001.jpg_person_0.jpg\n",
      "Processed google_0002 (2).jpg_person_0.jpg\n",
      "Processed google_0002.jpg_person_0.jpg\n",
      "Processed google_0003.jpg_person_0.jpg\n",
      "Processed google_0004.jpg_person_0.jpg\n",
      "Processed google_0005.jpg_person_0.jpg\n",
      "Processed google_0007.jpg_person_0.jpg\n",
      "Processed google_0008.jpg_person_0.jpg\n",
      "Processed google_0009.jpg_person_0.jpg\n",
      "Processed google_0010.jpg_person_0.jpg\n",
      "Processed google_0011.jpg_person_0.jpg\n",
      "Processed google_0012.jpg_person_0.jpg\n",
      "Processed google_0013.jpg_person_0.jpg\n",
      "Processed google_0014.jpg_person_0.jpg\n",
      "Processed google_0014.webp_person_0.jpg\n",
      "Processed google_0015.jpg_person_0.jpg\n",
      "Processed google_0016.jpg_person_0.jpg\n",
      "Processed google_0018.jpg_person_0.jpg\n",
      "Processed google_0019.webp_person_0.jpg\n",
      "Processed google_0020.jpg_person_0.jpg\n",
      "Processed google_0023.webp_person_0.jpg\n",
      "Processed google_0024.jpg_person_0.jpg\n",
      "Processed google_0028.jpg_person_0.jpg\n",
      "Processed google_0029.jpg_person_0.jpg\n",
      "Processed google_0029.png_person_0.jpg\n",
      "Processed google_0031.jpg_person_0.jpg\n",
      "Processed google_0035.jpg_person_0.jpg\n",
      "Processed google_0036.jpg_person_0.jpg\n",
      "Processed google_0037.jpg_person_0.jpg\n",
      "Processed google_0038 (2).jpg_person_0.jpg\n",
      "Processed google_0038.jpg_person_0.jpg\n",
      "Processed google_0039 (2)_cr.jpg\n",
      "Processed google_0039.jpg_person_0.jpg\n",
      "Processed google_0040.jpg_person_0.jpg\n",
      "Processed google_0042.png_person_0.jpg\n",
      "Processed google_0043.jpg_person_0.jpg\n",
      "Processed google_0044_cr.jpg\n",
      "Processed google_0046.jpg_person_0.jpg\n",
      "Processed google_0046.png_person_0.jpg\n",
      "Processed google_0047.jpg_person_0.jpg\n",
      "Processed google_0048.jpg_person_0.jpg\n",
      "Processed google_0050.jpg_person_0.jpg\n",
      "Processed google_0051.jpg_person_0.jpg\n",
      "Processed google_0052.webp_person_0.jpg\n",
      "Processed google_0053.jpg_person_0.jpg\n",
      "Processed google_0054.webp_person_0.jpg\n",
      "Processed google_0055.jpg_person_0.jpg\n",
      "Processed google_0058.jpg_person_0.jpg\n",
      "Processed google_0060.jpg_person_0.jpg\n",
      "Processed google_0063.jpg_person_0.jpg\n",
      "Processed google_0063.webp_person_0.jpg\n",
      "Processed google_0064 (2).jpg_person_0.jpg\n",
      "Processed google_0064.jpg_person_0.jpg\n",
      "Processed google_0066.jpg_person_0.jpg\n",
      "Processed google_0067.webp_person_0.jpg\n",
      "Processed google_0068.jpg_person_0.jpg\n",
      "Processed google_0068.webp_person_0.jpg\n",
      "Processed google_0069.jpg_person_0.jpg\n",
      "Processed google_0072 (2).jpg_person_0.jpg\n",
      "Processed google_0072.jpg_person_0.jpg\n",
      "Processed google_0075_cr.jpg\n",
      "Processed google_0076_cr.jpg\n",
      "Processed google_0077.jpg_person_0.jpg\n",
      "Processed google_0081.jpg_person_0.jpg\n",
      "Processed google_0082.jpg_person_0.jpg\n",
      "Processed google_0083_cr.jpg\n",
      "Processed google_0085.webp_person_0.jpg\n",
      "Processed google_0087.png_person_0.jpg\n",
      "Processed google_0089_cr.jpg\n",
      "Processed google_0091.jpg_person_0.jpg\n",
      "Processed google_0095.jpg_person_0.jpg\n",
      "Processed google_0096.jpg_person_0.jpg\n",
      "Processed google_0099_cr.jpg\n",
      "Processed google_0100_cr.jpg\n",
      "Processed google_0101.webp_person_0.jpg\n",
      "Processed google_0103.jpg_person_0.jpg\n",
      "Processed google_0105.webp_person_0.jpg\n",
      "Processed google_0110.jpg_person_0.jpg\n",
      "Processed google_0110.webp_person_0.jpg\n",
      "Processed google_0114.webp_person_0.jpg\n",
      "Processed google_0115.jpg_person_0.jpg\n",
      "Processed google_0116.webp_person_0.jpg\n",
      "Processed google_0120.webp_person_0.jpg\n",
      "Processed google_0122.png_person_0.jpg\n",
      "Processed google_0123.jpg_person_0.jpg\n",
      "Processed google_0126 (2).jpg_person_0.jpg\n",
      "Processed google_0126.jpg_person_0.jpg\n",
      "Processed google_0128.jpg_person_0.jpg\n",
      "Processed google_0129.webp_person_0.jpg\n",
      "Processed google_0134.webp_person_0.jpg\n",
      "Processed google_0142.jpg_person_0.jpg\n",
      "Processed google_0148.jpg_person_0.jpg\n",
      "Processed google_0150.jpg_person_0.jpg\n",
      "Processed google_0152.jpg_person_0.jpg\n",
      "Processed google_0156.webp_person_0.jpg\n",
      "Processed google_0158.jpg_person_0.jpg\n",
      "Processed google_0168.jpg_person_0.jpg\n",
      "Processed google_0169.jpg_person_0.jpg\n",
      "Processed google_0170.jpg_person_0.jpg\n",
      "Processed google_0172.webp_person_0.jpg\n",
      "Processed google_0174_cr.jpg\n",
      "Processed google_0180.jpg_person_0.jpg\n",
      "Processed google_0185_cr.jpg\n",
      "Processed google_0189.webp_person_0.jpg\n",
      "Processed google_0192.webp_person_0.jpg\n",
      "Processed google_0193_cr.jpg\n",
      "Processed google_0194.jpg_person_0.jpg\n",
      "Processed google_0197.webp_person_0.jpg\n",
      "Processed google_0206.webp_person_0.jpg\n",
      "Processed google_0209.jpg_person_0.jpg\n",
      "Processed google_0212.jpg_person_0.jpg\n",
      "Processed google_0213.jpg_person_0.jpg\n",
      "Processed google_0224.png_person_0.jpg\n",
      "Processed google_0236.webp_person_0.jpg\n",
      "Processed google_0240.jpg_person_0.jpg\n",
      "Processed google_0243.jpg_person_0.jpg\n",
      "Processed google_0245.webp_person_0.jpg\n",
      "Processed google_0259.webp_person_0.jpg\n",
      "Processed google_0264_cr.jpg\n",
      "Processed google_0265_cr.jpg\n",
      "Processed google_0269.webp_person_0.jpg\n",
      "Processed google_0283.jpg_person_0.jpg\n",
      "Processed google_0289_cr.jpg\n",
      "Processed google_0303.jpg_person_0.jpg\n",
      "Processed google_0317.jpg_person_0.jpg\n",
      "Processed google_0319.jpg_person_0.jpg\n",
      "Processed google_0330.jpg_person_0.jpg\n",
      "Processed google_0330.webp_person_0.jpg\n",
      "Processed google_0333 (2).jpg_person_0.jpg\n",
      "Processed google_0333.jpg_person_0.jpg\n",
      "Processed google_0340.jpg_person_0.jpg\n",
      "Processed google_0355.jpg_person_0.jpg\n",
      "Processed google_0359.webp_person_0.jpg\n",
      "Processed google_0368.jpg_person_0.jpg\n",
      "Processed google_0374.webp_person_0.jpg\n",
      "Processed google_0378.webp_person_0.jpg\n",
      "Processed google_0383.webp_person_0.jpg\n",
      "Processed google_0384.jpg_person_0.jpg\n",
      "Processed google_0385.webp_person_0.jpg\n",
      "Processed google_0397.webp_person_0.jpg\n",
      "Processed google_0418.jpg_person_0.jpg\n",
      "Processed google_0423.webp_person_0.jpg\n",
      "Processed google_0429.jpg_person_0.jpg\n",
      "Processed google_0441.jpg_person_0.jpg\n",
      "Processed google_0449.jpg_person_0.jpg\n",
      "Processed google_0459.jpg_person_0.jpg\n",
      "Processed google_0483.jpg_person_0.jpg\n",
      "Processed cropped_google_0000.jpg\n",
      "Processed cropped_google_0001.jpg\n",
      "Processed cropped_google_0002 (1).jpg\n",
      "Processed cropped_google_0002.jpg\n",
      "Processed cropped_google_0003 (1).jpg\n",
      "Processed cropped_google_0003.jpg\n",
      "Processed cropped_google_0004.jpg\n",
      "Processed cropped_google_0005.jpg\n",
      "Processed cropped_google_0006.jpg\n",
      "Processed cropped_google_0007 (1).jpg\n",
      "Processed cropped_google_0007.jpg\n",
      "Processed cropped_google_0008.jpg\n",
      "Processed cropped_google_0009 (1).png\n",
      "Processed cropped_google_0009.jpg\n",
      "Processed cropped_google_0010.jpg\n",
      "Processed cropped_google_0011.jpg\n",
      "Processed cropped_google_0012.jpg\n",
      "Processed cropped_google_0013 (1).jpg\n",
      "Processed cropped_google_0013.jpg\n",
      "Processed cropped_google_0014.jpg\n",
      "Processed cropped_google_0015 (1).jpg\n",
      "Processed cropped_google_0015.jpg\n",
      "Processed cropped_google_0016.png\n",
      "Processed cropped_google_0017.jpg\n",
      "Processed cropped_google_0018 (1).jpg\n",
      "Processed cropped_google_0018.jpg\n",
      "Processed cropped_google_0019 (1).jpg\n",
      "Processed cropped_google_0019.jpg\n",
      "Processed cropped_google_0020 (1).jpg\n",
      "Processed cropped_google_0020.jpg\n",
      "Processed cropped_google_0021 (1).jpg\n",
      "Processed cropped_google_0021.jpg\n",
      "Processed cropped_google_0022.jpg\n",
      "Processed cropped_google_0023.jpg\n",
      "Processed cropped_google_0024 (1).jpg\n",
      "Processed cropped_google_0024.jpg\n",
      "Processed cropped_google_0026.jpg\n",
      "Processed cropped_google_0027.jpg\n",
      "Processed cropped_google_0028.jpg\n",
      "Processed cropped_google_0029 (1).jpg\n",
      "Processed cropped_google_0029.jpg\n",
      "Processed cropped_google_0030.jpg\n",
      "Processed cropped_google_0031.jpg\n",
      "Processed cropped_google_0032.jpg\n",
      "Processed cropped_google_0033.jpg\n",
      "Processed cropped_google_0034.jpg\n",
      "Processed cropped_google_0035.jpg\n",
      "Processed cropped_google_0036.jpg\n",
      "Processed cropped_google_0037.jpg\n",
      "Processed cropped_google_0038.jpg\n",
      "Processed cropped_google_0039.jpg\n",
      "Processed cropped_google_0040.jpg\n",
      "Processed cropped_google_0041.jpg\n",
      "Processed cropped_google_0042.jpg\n",
      "Processed cropped_google_0043.jpg\n",
      "Processed cropped_google_0044.jpg\n",
      "Processed cropped_google_0045.jpg\n",
      "Processed cropped_google_0046.jpg\n",
      "Processed cropped_google_0047.jpg\n",
      "Processed cropped_google_0048.jpg\n",
      "Processed cropped_google_0049.jpg\n",
      "Processed cropped_google_0050.jpg\n",
      "Processed cropped_google_0051.jpg\n",
      "Processed cropped_google_0053.jpg\n",
      "Processed cropped_google_0054.jpg\n",
      "Processed cropped_google_0058.jpg\n",
      "Processed cropped_google_0059.jpg\n",
      "Processed cropped_google_0060.jpg\n",
      "Processed cropped_google_0063.jpg\n",
      "Processed cropped_google_0065.jpg\n",
      "Processed cropped_google_0066.jpg\n",
      "Processed cropped_google_0067.jpg\n",
      "Processed cropped_google_0069.jpg\n",
      "Processed cropped_google_0070.jpg\n",
      "Processed cropped_google_0071.jpg\n",
      "Processed cropped_google_0072.jpg\n",
      "Processed cropped_google_0073.jpg\n",
      "Processed cropped_google_0075.jpg\n",
      "Processed cropped_google_0076.jpg\n",
      "Processed cropped_google_0077.jpg\n",
      "Processed cropped_google_0079.jpg\n",
      "Processed cropped_google_0081.png\n",
      "Processed cropped_google_0082.jpg\n",
      "Processed cropped_google_0083.jpg\n",
      "Processed cropped_google_0084.jpg\n",
      "Processed cropped_google_0085.jpg\n",
      "Processed cropped_google_0087.jpg\n",
      "Processed cropped_google_0088.jpg\n",
      "Processed cropped_google_0089.jpg\n",
      "Processed cropped_google_0090.png\n",
      "Processed cropped_google_0091.jpg\n",
      "Processed cropped_google_0092.jpg\n",
      "Processed cropped_google_0095.jpg\n",
      "Processed cropped_google_0096.jpg\n",
      "Processed cropped_google_0100.jpg\n",
      "Processed cropped_google_0101.jpg\n",
      "Processed cropped_google_0102.png\n",
      "Processed cropped_google_0105.jpg\n",
      "Processed cropped_google_0109.jpg\n",
      "Processed cropped_google_0110.jpg\n",
      "Processed cropped_google_0111.jpg\n",
      "Processed cropped_google_0114.jpg\n",
      "Processed cropped_google_0115.jpg\n",
      "Processed cropped_google_0116.jpg\n",
      "Processed Eula_0__game_art_cropped.png\n",
      "Processed Eula_10__game_art_cropped.png\n",
      "Processed Eula_11__game_art_cropped.png\n",
      "Processed Eula_12__game_art_cropped.jpg\n",
      "Processed Eula_13__game_art_cropped.png\n",
      "Processed Eula_14__game_art_cropped.jpg\n",
      "Processed Eula_15__game_art_cropped.jpg\n",
      "Processed Eula_17__game_art.png\n",
      "Processed Eula_18__game_art.jpg\n",
      "Processed Eula_19__game_art.jpg\n",
      "Processed Eula_1__game_art.jpg\n",
      "Processed Eula_1__game_art_cropped.png\n",
      "Processed Eula_20__game_art.png\n",
      "Processed Eula_21__game_art.jpg\n",
      "Processed Eula_22__game_art.png\n",
      "Processed Eula_23__game_art.jpg\n",
      "Processed Eula_24__game_art.jpg\n",
      "Processed Eula_25__game_art.png\n",
      "Processed Eula_26__game_art.png\n",
      "Processed Eula_27__game_art.jpg\n",
      "Processed Eula_29__game_art.jpg\n",
      "Processed Eula_2__game_art.png\n",
      "Processed Eula_2__game_art_cropped.jpg\n",
      "Processed Eula_3__game_art_cropped.jpg\n",
      "Processed Eula_4__game_art_cropped.png\n",
      "Processed Eula_5__game_art_cropped.png\n",
      "Processed Eula_6__game_art_cropped.png\n",
      "Processed Eula_7__game_art_cropped.png\n",
      "Processed Eula_8__game_art_cropped.png\n",
      "Processed Eula_9__game_art_cropped.jpg\n",
      "Processed cropped_google_0000 (1).jpg\n",
      "Processed cropped_google_0000.jpg\n",
      "Processed cropped_google_0001.jpg\n",
      "Processed cropped_google_0002.jpg\n",
      "Processed cropped_google_0003.jpg\n",
      "Processed cropped_google_0004.jpg\n",
      "Processed cropped_google_0005.jpg\n",
      "Processed cropped_google_0006.jpg\n",
      "Processed cropped_google_0007.jpg\n",
      "Processed cropped_google_0008.jpg\n",
      "Processed cropped_google_0010.jpg\n",
      "Processed cropped_google_0011.jpg\n",
      "Processed cropped_google_0012.jpg\n",
      "Processed cropped_google_0013 (1).jpg\n",
      "Processed cropped_google_0014.jpg\n",
      "Processed cropped_google_0015.jpg\n",
      "Processed cropped_google_0016.jpg\n",
      "Processed cropped_google_0017.jpg\n",
      "Processed cropped_google_0018.jpg\n",
      "Processed cropped_google_0019.jpg\n",
      "Processed cropped_google_0020.jpg\n",
      "Processed cropped_google_0021.jpg\n",
      "Processed cropped_google_0022.jpg\n",
      "Processed cropped_google_0023.jpg\n",
      "Processed cropped_google_0024.jpg\n",
      "Processed cropped_google_0025 (1).jpg\n",
      "Processed cropped_google_0025.jpg\n",
      "Processed cropped_google_0026.jpg\n",
      "Processed cropped_google_0027.jpg\n",
      "Processed cropped_google_0030.jpg\n",
      "Processed cropped_google_0031.jpg\n",
      "Processed cropped_google_0032.jpg\n",
      "Processed cropped_google_0033.jpg\n",
      "Processed cropped_google_0034.jpg\n",
      "Processed cropped_google_0037.jpg\n",
      "Processed cropped_google_0038.jpg\n",
      "Processed cropped_google_0039.jpg\n",
      "Processed cropped_google_0042.jpg\n",
      "Processed cropped_google_0043.jpg\n",
      "Processed cropped_google_0044.jpg\n",
      "Processed cropped_google_0045.jpg\n",
      "Processed cropped_google_0047.jpg\n",
      "Processed cropped_google_0049.jpg\n",
      "Processed cropped_google_0050.jpg\n",
      "Processed cropped_google_0051.jpg\n",
      "Processed cropped_google_0052.jpg\n",
      "Processed cropped_google_0056.jpg\n",
      "Processed cropped_google_0057.jpg\n",
      "Processed cropped_google_0059.jpg\n",
      "Processed cropped_google_0060.png\n",
      "Processed cropped_google_0061.jpg\n",
      "Processed cropped_google_0063.jpg\n",
      "Processed cropped_google_0064.jpg\n",
      "Processed cropped_google_0066.jpg\n",
      "Processed cropped_google_0068.jpg\n",
      "Processed cropped_google_0069.jpg\n",
      "Processed cropped_google_0070.jpg\n",
      "Processed cropped_google_0073.jpg\n",
      "Processed cropped_google_0074.jpg\n",
      "Processed cropped_google_0078.jpg\n",
      "Processed cropped_google_0080.jpg\n",
      "Processed cropped_google_0081.jpg\n",
      "Processed cropped_google_0082.jpg\n",
      "Processed cropped_google_0085.jpg\n",
      "Processed cropped_google_0086.jpg\n",
      "Processed cropped_google_0089.jpg\n",
      "Processed cropped_google_0090.jpg\n",
      "Processed cropped_google_0092.jpg\n",
      "Processed cropped_google_0093.jpg\n",
      "Processed cropped_google_0094.jpg\n",
      "Processed cropped_google_0095.jpg\n",
      "Processed cropped_google_0099.jpg\n",
      "Processed cropped_google_0100.jpg\n",
      "Processed cropped_google_0101.jpg\n",
      "Processed cropped_google_0102.jpg\n",
      "Processed cropped_google_0105.jpg\n",
      "Processed cropped_google_0106.jpg\n",
      "Processed cropped_google_0107.jpg\n",
      "Processed cropped_google_0108.jpg\n",
      "Processed cropped_google_0109.jpg\n",
      "Processed cropped_google_0110.jpg\n",
      "Processed cropped_google_0112.jpg\n",
      "Processed cropped_google_0114.jpg\n",
      "Processed cropped_google_0115.jpg\n",
      "Processed cropped_google_0121.jpg\n",
      "Processed cropped_google_0127.jpg\n",
      "Processed cropped_google_0128.jpg\n",
      "Processed cropped_google_0131.jpg\n",
      "Processed cropped_google_0132.jpg\n",
      "Processed cropped_google_0133.jpg\n",
      "Processed cropped_google_0139.jpg\n",
      "Processed cropped_google_0143.jpg\n",
      "Processed cropped_google_0144.jpg\n",
      "Processed cropped_google_0145.jpg\n",
      "Processed cropped_google_0146.jpg\n",
      "Processed cropped_google_0147.jpg\n",
      "Processed cropped_google_0149.jpg\n",
      "Processed Ganyu_0__game_art_cropped.png\n",
      "Processed Ganyu_10__game_art_cropped.png\n",
      "Processed Ganyu_11__game_art_cropped.jpg\n",
      "Processed Ganyu_12__game_art_cropped.jpg\n",
      "Processed Ganyu_14__game_art_cropped.jpg\n",
      "Processed Ganyu_15__game_art_cropped.png\n",
      "Processed Ganyu_17__game_art_cropped.jpg\n",
      "Processed Ganyu_18__game_art_cropped.jpg\n",
      "Processed Ganyu_19__game_art_cropped.jpg\n",
      "Processed Ganyu_1__game_art_cropped.png\n",
      "Processed Ganyu_20__game_art_cropped.jpg\n",
      "Processed Ganyu_21__game_art_cropped.jpg\n",
      "Processed Ganyu_22__game_art_cropped.png\n",
      "Processed Ganyu_24__game_art_cropped.jpg\n",
      "Processed Ganyu_25__game_art_cropped.jpg\n",
      "Processed Ganyu_26__game_art_cropped.jpg\n",
      "Processed Ganyu_27__game_art_cropped.jpg\n",
      "Processed Ganyu_28__game_art_cropped.png\n",
      "Processed Ganyu_29__game_art_cropped.jpg\n",
      "Processed Ganyu_2__game_art_cropped.jpg\n",
      "Processed Ganyu_3__game_art_cropped.jpg\n",
      "Processed Ganyu_5__game_art_cropped.jpg\n",
      "Processed Ganyu_6__game_art_cropped.jpg\n",
      "Processed Ganyu_7__game_art_cropped.png\n",
      "Processed Ganyu_9__game_art_cropped.jpg\n",
      "Processed google_0123.jpg\n",
      "Processed cropped_google_0000 (1).jpg\n",
      "Processed cropped_google_0000.jpg\n",
      "Processed cropped_google_0001 (1).jpg\n",
      "Processed cropped_google_0001.jpg\n",
      "Processed cropped_google_0002 (1).jpg\n",
      "Processed cropped_google_0002 (2).jpg\n",
      "Processed cropped_google_0002.jpg\n",
      "Processed cropped_google_0003 (1).png\n",
      "Processed cropped_google_0003.jpg\n",
      "Processed cropped_google_0005 (1).jpg\n",
      "Processed cropped_google_0006 (1).jpg\n",
      "Processed cropped_google_0006.jpg\n",
      "Processed cropped_google_0007 (1).jpg\n",
      "Processed cropped_google_0007.jpg\n",
      "Processed cropped_google_0008 (1).jpg\n",
      "Processed cropped_google_0008.jpg\n",
      "Processed cropped_google_0009 (1).jpg\n",
      "Processed cropped_google_0009.jpg\n",
      "Processed cropped_google_0010.jpg\n",
      "Processed cropped_google_0011.jpg\n",
      "Processed cropped_google_0012 (1).jpg\n",
      "Processed cropped_google_0012.jpg\n",
      "Processed cropped_google_0013.jpg\n",
      "Processed cropped_google_0014.jpg\n",
      "Processed cropped_google_0015.jpg\n",
      "Processed cropped_google_0016.jpg\n",
      "Processed cropped_google_0017.jpg\n",
      "Processed cropped_google_0018.jpg\n",
      "Processed cropped_google_0019.jpg\n",
      "Processed cropped_google_0020.jpg\n",
      "Processed cropped_google_0021 (1).jpg\n",
      "Processed cropped_google_0021.jpg\n",
      "Processed cropped_google_0022 (1).jpg\n",
      "Processed cropped_google_0022.jpg\n",
      "Processed cropped_google_0023 (1).jpg\n",
      "Processed cropped_google_0023.jpg\n",
      "Processed cropped_google_0024.jpg\n",
      "Processed cropped_google_0026.jpg\n",
      "Processed cropped_google_0028 (1).jpg\n",
      "Processed cropped_google_0029.jpg\n",
      "Processed cropped_google_0030.jpg\n",
      "Processed cropped_google_0031.jpg\n",
      "Processed cropped_google_0032.jpg\n",
      "Processed cropped_google_0033.jpg\n",
      "Processed cropped_google_0034.png\n",
      "Processed cropped_google_0037.jpg\n",
      "Processed cropped_google_0038.jpg\n",
      "Processed cropped_google_0039 (1).jpg\n",
      "Processed cropped_google_0039.jpg\n",
      "Processed cropped_google_0040.jpg\n",
      "Processed cropped_google_0043.jpg\n",
      "Processed cropped_google_0044.jpg\n",
      "Processed cropped_google_0045.jpg\n",
      "Processed cropped_google_0046.jpg\n",
      "Processed cropped_google_0047.jpg\n",
      "Processed cropped_google_0049.jpg\n",
      "Processed cropped_google_0050.jpg\n",
      "Processed cropped_google_0051.jpg\n",
      "Processed cropped_google_0052.jpg\n",
      "Processed cropped_google_0053.jpg\n",
      "Processed cropped_google_0054.jpg\n",
      "Processed cropped_google_0055.jpg\n",
      "Processed cropped_google_0056.jpg\n",
      "Processed cropped_google_0057.jpg\n",
      "Processed cropped_google_0058.jpg\n",
      "Processed cropped_google_0060.png\n",
      "Processed cropped_google_0061.png\n",
      "Processed cropped_google_0062.jpg\n",
      "Processed cropped_google_0065.jpg\n",
      "Processed cropped_google_0066.jpg\n",
      "Processed cropped_google_0070.jpg\n",
      "Processed cropped_google_0071.jpg\n",
      "Processed cropped_google_0072.jpg\n",
      "Processed cropped_google_0073.jpg\n",
      "Processed cropped_google_0074.jpg\n",
      "Processed cropped_google_0075.jpg\n",
      "Processed cropped_google_0077.jpg\n",
      "Processed cropped_google_0078.jpg\n",
      "Processed cropped_google_0079.jpg\n",
      "Processed cropped_google_0080.jpg\n",
      "Processed cropped_google_0081.jpg\n",
      "Processed cropped_google_0083.jpg\n",
      "Processed cropped_google_0084.jpg\n",
      "Processed cropped_google_0085.jpg\n",
      "Processed cropped_google_0086.jpg\n",
      "Processed cropped_google_0087.jpg\n",
      "Processed cropped_google_0088.jpg\n",
      "Processed cropped_google_0090 (1).jpg\n",
      "Processed cropped_google_0090.jpg\n",
      "Processed cropped_google_0093.jpg\n",
      "Processed cropped_google_0094.png\n",
      "Processed cropped_google_0095.jpg\n",
      "Processed cropped_google_0097.jpg\n",
      "Processed cropped_google_0098.jpg\n",
      "Processed cropped_google_0099.png\n",
      "Processed cropped_google_0100.jpg\n",
      "Processed cropped_google_0104.jpg\n",
      "Processed cropped_google_0106.jpg\n",
      "Processed cropped_google_0107.jpg\n",
      "Processed cropped_google_0109.jpg\n",
      "Processed cropped_google_0110.jpg\n",
      "Processed cropped_google_0111.jpg\n",
      "Processed cropped_google_0115.jpg\n",
      "Processed cropped_google_0118.png\n",
      "Processed cropped_google_0119.jpg\n",
      "Processed cropped_google_0127.jpg\n",
      "Processed cropped_google_0133.jpg\n",
      "Processed cropped_google_0134.jpg\n",
      "Processed cropped_google_0139.jpg\n",
      "Processed cropped_google_0140 (1).jpg\n",
      "Processed cropped_google_0141.jpg\n",
      "Processed cropped_google_0143.jpg\n",
      "Processed cropped_google_0146.jpg\n",
      "Processed cropped_google_0147.jpg\n",
      "Processed google_0103.jpg\n",
      "Processed Hutao_0__game_art_cropped.png\n",
      "Processed Hutao_10__game_art_cropped.jpg\n",
      "Processed Hutao_11__game_art_cropped.jpg\n",
      "Processed Hutao_13__game_art_cropped.jpg\n",
      "Processed Hutao_14__game_art.jpg\n",
      "Processed Hutao_15__game_art.jpg\n",
      "Processed Hutao_16__game_art.png\n",
      "Processed Hutao_17__game_art.jpg\n",
      "Processed Hutao_19__game_art.jpg\n",
      "Processed Hutao_1__game_art_cropped.jpg\n",
      "Processed Hutao_20__game_art.jpg\n",
      "Processed Hutao_21__game_art.jpg\n",
      "Processed Hutao_22__game_art.jpg\n",
      "Processed Hutao_23__game_art.jpg\n",
      "Processed Hutao_24__game_art.jpg\n",
      "Processed Hutao_25__game_art.jpg\n",
      "Processed Hutao_27__game_art.jpg\n",
      "Processed Hutao_28__game_art.jpg\n",
      "Processed Hutao_29__game_art.jpg\n",
      "Processed Hutao_2__game_art_cropped.jpg\n",
      "Processed Hutao_3__game_art_cropped.jpg\n",
      "Processed Hutao_4__game_art_cropped.png\n",
      "Processed Hutao_5__game_art_cropped.jpg\n",
      "Processed Hutao_6__game_art_cropped.jpg\n",
      "Processed Hutao_7__game_art_cropped.jpg\n",
      "Processed Hutao_8__game_art_cropped.png\n",
      "Processed Hutao_9__game_art_cropped.png\n",
      "Processed cos (1).jpg\n",
      "Processed cos (10).jpg\n",
      "Processed cos (100).jpg\n",
      "Processed cos (101).jpg\n",
      "Processed cos (102).jpg\n",
      "Processed cos (103).jpg\n",
      "Processed cos (104).jpg\n",
      "Processed cos (105).jpg\n",
      "Processed cos (109).jpg\n",
      "Processed cos (11).jpg\n",
      "Processed cos (110).jpg\n",
      "Processed cos (111).jpg\n",
      "Processed cos (112).jpg\n",
      "Processed cos (113).jpg\n",
      "Processed cos (114).jpg\n",
      "Processed cos (115).jpg\n",
      "Processed cos (116).jpg\n",
      "Processed cos (117).jpg\n",
      "Processed cos (118).jpg\n",
      "Processed cos (119).jpg\n",
      "Processed cos (12).jpg\n",
      "Processed cos (120).jpg\n",
      "Processed cos (121).jpg\n",
      "Processed cos (122).jpg\n",
      "Processed cos (123).jpg\n",
      "Processed cos (124).jpg\n",
      "Processed cos (125).jpg\n",
      "Processed cos (126).jpg\n",
      "Processed cos (127).jpg\n",
      "Processed cos (128).jpg\n",
      "Processed cos (129).jpg\n",
      "Processed cos (13).jpg\n",
      "Processed cos (130).jpg\n",
      "Processed cos (14).jpg\n",
      "Processed cos (15).jpg\n",
      "Processed cos (16).jpg\n",
      "Processed cos (17).jpg\n",
      "Processed cos (18).jpg\n",
      "Processed cos (2).jpg\n",
      "Processed cos (20).jpg\n",
      "Processed cos (21).jpg\n",
      "Processed cos (22).jpg\n",
      "Processed cos (23).jpg\n",
      "Processed cos (24).jpg\n",
      "Processed cos (25).jpg\n",
      "Processed cos (26).jpg\n",
      "Processed cos (27).jpg\n",
      "Processed cos (28).jpg\n",
      "Processed cos (29).jpg\n",
      "Processed cos (3).jpg\n",
      "Processed cos (30).jpg\n",
      "Processed cos (31).jpg\n",
      "Processed cos (32).jpg\n",
      "Processed cos (33).jpg\n",
      "Processed cos (34).jpg\n",
      "Processed cos (35).jpg\n",
      "Processed cos (36).jpg\n",
      "Processed cos (37).jpg\n",
      "Processed cos (39).jpg\n",
      "Processed cos (4).jpg\n",
      "Processed cos (40).jpg\n",
      "Processed cos (41).jpg\n",
      "Processed cos (42).jpg\n",
      "Processed cos (43).jpg\n",
      "Processed cos (44).jpg\n",
      "Processed cos (45).jpg\n",
      "Processed cos (46).jpg\n",
      "Processed cos (47).jpg\n",
      "Processed cos (48).jpg\n",
      "Processed cos (49).jpg\n",
      "Processed cos (5).jpg\n",
      "Processed cos (50).jpg\n",
      "Processed cos (51).jpg\n",
      "Processed cos (52).jpg\n",
      "Processed cos (53).jpg\n",
      "Processed cos (54).jpg\n",
      "Processed cos (55).jpg\n",
      "Processed cos (56).jpg\n",
      "Processed cos (57).jpg\n",
      "Processed cos (58).jpg\n",
      "Processed cos (6).jpg\n",
      "Processed cos (60).jpg\n",
      "Processed cos (61).jpg\n",
      "Processed cos (63).jpg\n",
      "Processed cos (64).jpg\n",
      "Processed cos (65).jpg\n",
      "Processed cos (66).jpg\n",
      "Processed cos (67).jpg\n",
      "Processed cos (68).jpg\n",
      "Processed cos (69).jpg\n",
      "Processed cos (7).jpg\n",
      "Processed cos (70).jpg\n",
      "Processed cos (71).jpg\n",
      "Processed cos (72).jpg\n",
      "Processed cos (73).jpg\n",
      "Processed cos (74).jpg\n",
      "Processed cos (75).jpg\n",
      "Processed cos (76).jpg\n",
      "Processed cos (77).jpg\n",
      "Processed cos (78).jpg\n",
      "Processed cos (79).jpg\n",
      "Processed cos (8).jpg\n",
      "Processed cos (80).jpg\n",
      "Processed cos (81).jpg\n",
      "Processed cos (82).jpg\n",
      "Processed cos (83).jpg\n",
      "Processed cos (85).jpg\n",
      "Processed cos (86).jpg\n",
      "Processed cos (87).jpg\n",
      "Processed cos (88).jpg\n",
      "Processed cos (89).jpg\n",
      "Processed cos (90).jpg\n",
      "Processed cos (92).jpg\n",
      "Processed cos (93).jpg\n",
      "Processed cos (94).jpg\n",
      "Processed cos (95).jpg\n",
      "Processed cos (96).jpg\n",
      "Processed cos (97).jpg\n",
      "Processed cos (98).jpg\n",
      "Processed cos (99).jpg\n",
      "Processed google_0003.jpg_person_0.jpg\n",
      "Processed google_0005.jpg_person_0.jpg\n",
      "Processed google_0010.jpg_person_0.jpg\n",
      "Processed google_0020.jpg_person_0.jpg\n",
      "Processed google_0029.jpg_person_0.jpg\n",
      "Processed google_0030.jpg_person_0.jpg\n",
      "Processed google_0033.jpg_person_0.jpg\n",
      "Processed google_0035.png_person_0.jpg\n",
      "Processed google_0046.jpg_person_0.jpg\n",
      "Processed google_0054.png_person_0.jpg\n",
      "Processed google_0066.jpg_person_0.jpg\n",
      "Processed google_0068.jpg_person_0.jpg\n",
      "Processed google_0072.jpg_person_0.jpg\n",
      "Processed google_0078.jpg_person_0.jpg\n",
      "Processed google_0093.png_person_0.jpg\n",
      "Processed google_0099.jpg_person_0.jpg\n",
      "Processed google_0124.png_person_0.jpg\n",
      "Processed google_0128.jpg_person_0.jpg\n",
      "Processed google_0131.jpg_person_0.jpg\n",
      "Processed google_0132.jpg_person_0.jpg\n",
      "Processed google_0146.jpg_person_0.jpg\n",
      "Processed google_0192.jpg_person_0.jpg\n",
      "Processed google_0214.jpg_person_0.jpg\n",
      "Processed google_0230.jpg_person_0.jpg\n",
      "Processed google_0245.jpg_person_0.jpg\n",
      "Processed google_0264.jpg_person_0.jpg\n",
      "Processed google_0305.png_person_0.jpg\n",
      "Processed google_0357.webp_person_0.jpg\n",
      "Processed google_0361.jpg_person_0.jpg\n",
      "Processed google_0364.png_person_0.jpg\n",
      "Processed cos (1).jpg\n",
      "Processed cos (10).jpg\n",
      "Processed cos (100).jpg\n",
      "Processed cos (101).jpg\n",
      "Processed cos (102).jpg\n",
      "Processed cos (103).jpg\n",
      "Processed cos (104).jpg\n",
      "Processed cos (105).jpg\n",
      "Processed cos (106).jpg\n",
      "Processed cos (107).jpg\n",
      "Processed cos (108).jpg\n",
      "Processed cos (109).jpg\n",
      "Processed cos (11).jpg\n",
      "Processed cos (110).jpg\n",
      "Processed cos (111).jpg\n",
      "Processed cos (112).jpg\n",
      "Processed cos (113).jpg\n",
      "Processed cos (114).jpg\n",
      "Processed cos (115).jpg\n",
      "Processed cos (116).jpg\n",
      "Processed cos (117).jpg\n",
      "Processed cos (118).jpg\n",
      "Processed cos (119).jpg\n",
      "Processed cos (120).jpg\n",
      "Processed cos (122).jpg\n",
      "Processed cos (123).jpg\n",
      "Processed cos (124).jpg\n",
      "Processed cos (125).jpg\n",
      "Processed cos (126).jpg\n",
      "Processed cos (127).jpg\n",
      "Processed cos (128).jpg\n",
      "Processed cos (129).jpg\n",
      "Processed cos (13).jpg\n",
      "Processed cos (130).jpg\n",
      "Processed cos (14).jpg\n",
      "Processed cos (15).jpg\n",
      "Processed cos (16).jpg\n",
      "Processed cos (17).jpg\n",
      "Processed cos (18).jpg\n",
      "Processed cos (19).jpg\n",
      "Processed cos (2).jpg\n",
      "Processed cos (20).jpg\n",
      "Processed cos (21).jpg\n",
      "Processed cos (22).jpg\n",
      "Processed cos (23).jpg\n",
      "Processed cos (24).jpg\n",
      "Processed cos (25).jpg\n",
      "Processed cos (27).jpg\n",
      "Processed cos (28).jpg\n",
      "Processed cos (29).jpg\n",
      "Processed cos (3).jpg\n",
      "Processed cos (30).jpg\n",
      "Processed cos (31).jpg\n",
      "Processed cos (32).jpg\n",
      "Processed cos (33).jpg\n",
      "Processed cos (34).jpg\n",
      "Processed cos (35).jpg\n",
      "Processed cos (36).jpg\n",
      "Processed cos (37).jpg\n",
      "Processed cos (38).jpg\n",
      "Processed cos (39).jpg\n",
      "Processed cos (4).jpg\n",
      "Processed cos (40).jpg\n",
      "Processed cos (41).jpg\n",
      "Processed cos (42).jpg\n",
      "Processed cos (43).jpg\n",
      "Processed cos (44).jpg\n",
      "Processed cos (45).jpg\n",
      "Processed cos (47).jpg\n",
      "Processed cos (49).jpg\n",
      "Processed cos (5).jpg\n",
      "Processed cos (50).jpg\n",
      "Processed cos (51).jpg\n",
      "Processed cos (52).jpg\n",
      "Processed cos (53).jpg\n",
      "Processed cos (54).jpg\n",
      "Processed cos (55).jpg\n",
      "Processed cos (56).jpg\n",
      "Processed cos (57).jpg\n",
      "Processed cos (58).jpg\n",
      "Processed cos (6).jpg\n",
      "Processed cos (60).jpg\n",
      "Processed cos (61).jpg\n",
      "Processed cos (62).jpg\n",
      "Processed cos (63).jpg\n",
      "Processed cos (64).jpg\n",
      "Processed cos (65).jpg\n",
      "Processed cos (66).jpg\n",
      "Processed cos (67).jpg\n",
      "Processed cos (68).jpg\n",
      "Processed cos (69).jpg\n",
      "Processed cos (7).jpg\n",
      "Processed cos (70).jpg\n",
      "Processed cos (72).jpg\n",
      "Processed cos (73).jpg\n",
      "Processed cos (74).jpg\n",
      "Processed cos (75).jpg\n",
      "Processed cos (76).jpg\n",
      "Processed cos (77).jpg\n",
      "Processed cos (78).jpg\n",
      "Processed cos (8).jpg\n",
      "Processed cos (81).jpg\n",
      "Processed cos (82).jpg\n",
      "Processed cos (83).jpg\n",
      "Processed cos (84).jpg\n",
      "Processed cos (85).jpg\n",
      "Processed cos (87).jpg\n",
      "Processed cos (88).jpg\n",
      "Processed cos (89).jpg\n",
      "Processed cos (9).jpg\n",
      "Processed cos (90).jpg\n",
      "Processed cos (91).jpg\n",
      "Processed cos (92).jpg\n",
      "Processed cos (93).jpg\n",
      "Processed cos (94).jpg\n",
      "Processed cos (95).jpg\n",
      "Processed cos (96).jpg\n",
      "Processed cos (97).jpg\n",
      "Processed cos (98).jpg\n",
      "Processed cos (99).jpg\n",
      "Processed dm (1).jpg\n",
      "Processed dm (10).jpg\n",
      "Processed dm (11).jpg\n",
      "Processed dm (12).jpg\n",
      "Processed dm (13).jpg\n",
      "Processed dm (14).jpg\n",
      "Processed dm (15).jpg\n",
      "Processed dm (16).jpg\n",
      "Processed dm (17).jpg\n",
      "Processed dm (18).jpg\n",
      "Processed dm (19).jpg\n",
      "Processed dm (2).jpg\n",
      "Processed dm (20).jpg\n",
      "Processed dm (21).jpg\n",
      "Processed dm (22).jpg\n",
      "Processed dm (23).jpg\n",
      "Processed dm (24).jpg\n",
      "Processed dm (25).jpg\n",
      "Processed dm (26).jpg\n",
      "Processed dm (27).jpg\n",
      "Processed dm (28).jpg\n",
      "Processed dm (29).jpg\n",
      "Processed dm (3).jpg\n",
      "Processed dm (30).jpg\n",
      "Processed dm (4).jpg\n",
      "Processed dm (5).jpg\n",
      "Processed dm (6).jpg\n",
      "Processed dm (7).jpg\n",
      "Processed dm (8).jpg\n",
      "Processed dm (9).jpg\n",
      "Processed cos (1).jpg\n",
      "Processed cos (10).jpg\n",
      "Processed cos (100).jpg\n",
      "Processed cos (101).jpg\n",
      "Processed cos (102).jpg\n",
      "Processed cos (103).jpg\n",
      "Processed cos (104).jpg\n",
      "Processed cos (105).jpg\n",
      "Processed cos (106).jpg\n",
      "Processed cos (107).jpg\n",
      "Processed cos (108).jpg\n",
      "Processed cos (109).jpg\n",
      "Processed cos (11).jpg\n",
      "Processed cos (110).jpg\n",
      "Processed cos (111).jpg\n",
      "Processed cos (112).jpg\n",
      "Processed cos (115).jpg\n",
      "Processed cos (116).jpg\n",
      "Processed cos (118).jpg\n",
      "Processed cos (119).jpg\n",
      "Processed cos (12).jpg\n",
      "Processed cos (121).jpg\n",
      "Processed cos (122).jpg\n",
      "Processed cos (123).jpg\n",
      "Processed cos (124).jpg\n",
      "Processed cos (125).jpg\n",
      "Processed cos (126).jpg\n",
      "Processed cos (127).jpg\n",
      "Processed cos (128).jpg\n",
      "Processed cos (129).jpg\n",
      "Processed cos (13).jpg\n",
      "Processed cos (130).jpg\n",
      "Processed cos (14).jpg\n",
      "Processed cos (15).jpg\n",
      "Processed cos (16).jpg\n",
      "Processed cos (17).jpg\n",
      "Processed cos (18).jpg\n",
      "Processed cos (19).jpg\n",
      "Processed cos (2).jpg\n",
      "Processed cos (20).jpg\n",
      "Processed cos (21).jpg\n",
      "Processed cos (22).jpg\n",
      "Processed cos (23).jpg\n",
      "Processed cos (24).jpg\n",
      "Processed cos (25).jpg\n",
      "Processed cos (26).jpg\n",
      "Processed cos (27).jpg\n",
      "Processed cos (28).jpg\n",
      "Processed cos (29).jpg\n",
      "Processed cos (3).jpg\n",
      "Processed cos (30).jpg\n",
      "Processed cos (31).jpg\n",
      "Processed cos (32).jpg\n",
      "Processed cos (33).jpg\n",
      "Processed cos (34).jpg\n",
      "Processed cos (35).jpg\n",
      "Processed cos (36).jpg\n",
      "Processed cos (37).jpg\n",
      "Processed cos (38).jpg\n",
      "Processed cos (39).jpg\n",
      "Processed cos (4).jpg\n",
      "Processed cos (40).jpg\n",
      "Processed cos (41).jpg\n",
      "Processed cos (42).jpg\n",
      "Processed cos (43).jpg\n",
      "Processed cos (45).jpg\n",
      "Processed cos (46).jpg\n",
      "Processed cos (47).jpg\n",
      "Processed cos (48).jpg\n",
      "Processed cos (49).jpg\n",
      "Processed cos (5).jpg\n",
      "Processed cos (50).jpg\n",
      "Processed cos (51).jpg\n",
      "Processed cos (52).jpg\n",
      "Processed cos (53).jpg\n",
      "Processed cos (54).jpg\n",
      "Processed cos (55).jpg\n",
      "Processed cos (56).jpg\n",
      "Processed cos (57).jpg\n",
      "Processed cos (58).jpg\n",
      "Processed cos (59).jpg\n",
      "Processed cos (6).jpg\n",
      "Processed cos (60).jpg\n",
      "Processed cos (61).jpg\n",
      "Processed cos (62).jpg\n",
      "Processed cos (63).jpg\n",
      "Processed cos (64).jpg\n",
      "Processed cos (65).jpg\n",
      "Processed cos (66).jpg\n",
      "Processed cos (67).jpg\n",
      "Processed cos (68).jpg\n",
      "Processed cos (69).jpg\n",
      "Processed cos (7).jpg\n",
      "Processed cos (70).jpg\n",
      "Processed cos (71).jpg\n",
      "Processed cos (72).jpg\n",
      "Processed cos (73).jpg\n",
      "Processed cos (74).jpg\n",
      "Processed cos (75).jpg\n",
      "Processed cos (76).jpg\n",
      "Processed cos (78).jpg\n",
      "Processed cos (79).jpg\n",
      "Processed cos (8).jpg\n",
      "Processed cos (80).jpg\n",
      "Processed cos (81).jpg\n",
      "Processed cos (82).jpg\n",
      "Processed cos (83).jpg\n",
      "Processed cos (84).jpg\n",
      "Processed cos (85).jpg\n",
      "Processed cos (86).jpg\n",
      "Processed cos (87).jpg\n",
      "Processed cos (88).jpg\n",
      "Processed cos (9).jpg\n",
      "Processed cos (91).jpg\n",
      "Processed cos (92).jpg\n",
      "Processed cos (93).jpg\n",
      "Processed cos (94).jpg\n",
      "Processed cos (96).jpg\n",
      "Processed cos (97).jpg\n",
      "Processed cos (98).jpg\n",
      "Processed cos (99).jpg\n",
      "Processed google_0001.jpg_person_0.jpg\n",
      "Processed google_0002.jpg_person_0.jpg\n",
      "Processed google_0004.png_person_0.jpg\n",
      "Processed google_0010.jpg_person_0.jpg\n",
      "Processed google_0011.jpg_person_0.jpg\n",
      "Processed google_0028.jpg_person_0.jpg\n",
      "Processed google_0033.jpg_person_0.jpg\n",
      "Processed google_0049.jpg_person_0.jpg\n",
      "Processed google_0064.png_person_0.jpg\n",
      "Processed google_0093.jpg_person_0.jpg\n",
      "Processed google_0099.jpg_person_0.jpg\n",
      "Processed google_0115.jpg_person_0.jpg\n",
      "Processed google_0123.jpg_person_0.jpg\n",
      "Processed google_0136.jpg_person_0.jpg\n",
      "Processed google_0138.jpg_person_0.jpg\n",
      "Processed google_0142.jpg_person_0.jpg\n",
      "Processed google_0144.jpg_person_0.jpg\n",
      "Processed google_0190.png_person_0.jpg\n",
      "Processed google_0221.jpg_person_0.jpg\n",
      "Processed google_0232.jpg_person_0.jpg\n",
      "Processed google_0251.png_person_0.jpg\n",
      "Processed google_0260.png_person_0.jpg\n",
      "Processed google_0279.jpg_person_0.jpg\n",
      "Processed google_0289.png_person_0.jpg\n",
      "Processed google_0354.jpg_person_0.jpg\n",
      "Processed google_0359.png_person_0.jpg\n",
      "Processed google_0361.png_person_0.jpg\n",
      "Processed google_0363.png_person_0.jpg\n",
      "Processed google_0368.webp_person_0.jpg\n"
     ]
    }
   ],
   "source": [
    "# Apply augmentation here\n",
    "# remember to change input_folder and output_folder!!!\n",
    "char_list = ['dori', 'lisa', 'amber', 'childe', 'venti', 'zhongli', 'eula', 'ganyu', 'hutao', 'yoimiya', 'raiden', 'nahida']\n",
    "augmentation.process_folder(char_list, num_aug=3)"
   ]
  },
  {
   "cell_type": "code",
   "execution_count": null,
   "metadata": {
    "id": "TJFnw99oP2Ph"
   },
   "outputs": [],
   "source": [
    "# Target is on all the root directory for all the _extracted folders\n",
    "dataset_dir = '/dataset/augmented'\n",
    "train_dir = '/content/processed_splits/train'  # Destination for training set\n",
    "test_dir = '/content/processed_splits/test'    # Destination for test set\n",
    "val_dir = '/content/processed_splits/val'    # Destination for validation set"
   ]
  },
  {
   "cell_type": "code",
   "execution_count": null,
   "metadata": {
    "id": "l5_PmEUjP2Pi"
   },
   "outputs": [],
   "source": [
    "def train_test_val_split(dataset_dir, test_size, val_size):\n",
    "    for character_folder in os.listdir(dataset_dir):\n",
    "        character_path = os.path.join(dataset_dir, character_folder)\n",
    "\n",
    "        if os.path.isdir(character_path):\n",
    "            # Get all image filenames for the current character\n",
    "            images = os.listdir(character_path)\n",
    "\n",
    "            # Split into train+val and test sets\n",
    "            train_val_images, test_images = train_test_split(images, test_size=test_size, random_state=5242)\n",
    "\n",
    "            # Split train_val into train and val sets\n",
    "            train_images, val_images = train_test_split(train_val_images, test_size=val_size, random_state=5242)\n",
    "\n",
    "            # Create train, val, and test subfolders for the character\n",
    "            train_character_dir = os.path.join(train_dir, character_folder)\n",
    "            val_character_dir = os.path.join(val_dir, character_folder)\n",
    "            test_character_dir = os.path.join(test_dir, character_folder)\n",
    "            os.makedirs(train_character_dir, exist_ok=True)\n",
    "            os.makedirs(val_character_dir, exist_ok=True)\n",
    "            os.makedirs(test_character_dir, exist_ok=True)\n",
    "\n",
    "            # Move training images\n",
    "            for image in train_images:\n",
    "                src_image_path = os.path.join(character_path, image)\n",
    "                dst_image_path = os.path.join(train_character_dir, image)\n",
    "                shutil.copy(src_image_path, dst_image_path)\n",
    "\n",
    "            # Move validation images\n",
    "            for image in val_images:\n",
    "                src_image_path = os.path.join(character_path, image)\n",
    "                dst_image_path = os.path.join(val_character_dir, image)\n",
    "                shutil.copy(src_image_path, dst_image_path)\n",
    "\n",
    "            # Move testing images\n",
    "            for image in test_images:\n",
    "                src_image_path = os.path.join(character_path, image)\n",
    "                dst_image_path = os.path.join(test_character_dir, image)\n",
    "                shutil.copy(src_image_path, dst_image_path)\n",
    "\n",
    "            print(f'Successfully split {character_folder} into train/test/val sets.')"
   ]
  },
  {
   "cell_type": "code",
   "execution_count": null,
   "metadata": {
    "id": "8BLOXsMyP2Pj"
   },
   "outputs": [],
   "source": [
    "# Define split ratios\n",
    "test_size = 0.15\n",
    "val_size = 0.15"
   ]
  },
  {
   "cell_type": "code",
   "execution_count": null,
   "metadata": {
    "id": "O1F-ZeOCP2Pk",
    "outputId": "fad240fd-edbc-40ef-9037-e067a1d2d110"
   },
   "outputs": [
    {
     "name": "stdout",
     "output_type": "stream",
     "text": [
      "Successfully split amber_augmented into train/test/val sets.\n",
      "Successfully split childe_augmented into train/test/val sets.\n",
      "Successfully split dori_augmented into train/test/val sets.\n",
      "Successfully split eula_augmented into train/test/val sets.\n",
      "Successfully split ganyu_augmented into train/test/val sets.\n",
      "Successfully split hutao_augmented into train/test/val sets.\n",
      "Successfully split lisa_augmented into train/test/val sets.\n",
      "Successfully split nahida_augmented into train/test/val sets.\n",
      "Successfully split raiden_augmented into train/test/val sets.\n",
      "Successfully split venti_augmented into train/test/val sets.\n",
      "Successfully split yoimiya_augmented into train/test/val sets.\n",
      "Successfully split zhongli_augmented into train/test/val sets.\n"
     ]
    }
   ],
   "source": [
    "train_test_val_split(dataset_dir, test_size, val_size)"
   ]
  },
  {
   "cell_type": "code",
   "execution_count": null,
   "metadata": {
    "id": "SZLD5wcyP2Pl"
   },
   "outputs": [],
   "source": [
    "# Transformations\n",
    "transform = transforms.Compose([\n",
    "    transforms.Resize((224, 224)),\n",
    "    transforms.ToTensor(),\n",
    "    transforms.Normalize(mean=[0.485, 0.456, 0.406], std=[0.229, 0.224, 0.225])\n",
    "])\n",
    "\n",
    "train_dataset = torchvision.datasets.ImageFolder(train_dir, transform=transform)\n",
    "val_dataset = torchvision.datasets.ImageFolder(val_dir, transform=transform)\n",
    "\n",
    "# Pass these datasets to DataLoader\n",
    "train_loader = torch.utils.data.DataLoader(train_dataset, batch_size=32, shuffle=True)\n",
    "val_loader = torch.utils.data.DataLoader(val_dataset, batch_size=32, shuffle=False)"
   ]
  },
  {
   "cell_type": "code",
   "execution_count": null,
   "metadata": {
    "colab": {
     "base_uri": "https://localhost:8080/"
    },
    "id": "1kzp4gKooEf9",
    "outputId": "5de24d3f-2816-4e78-c95d-ce3d7e29e6b4"
   },
   "outputs": [
    {
     "name": "stdout",
     "output_type": "stream",
     "text": [
      "损坏的图像文件已跳过: /content/processed_splits/train/amber_augmented/google_0149.jpg_person_0_aug_2.jpg\n"
     ]
    },
    {
     "name": "stderr",
     "output_type": "stream",
     "text": [
      "/usr/local/lib/python3.10/dist-packages/torch/utils/data/dataloader.py:617: UserWarning: This DataLoader will create 8 worker processes in total. Our suggested max number of worker in current system is 2, which is smaller than what this DataLoader is going to create. Please be aware that excessive worker creation might get DataLoader running slow or even freeze, lower the worker number to avoid potential slowness/freeze if necessary.\n",
      "  warnings.warn(\n"
     ]
    }
   ],
   "source": [
    "class SafeImageFolder(datasets.ImageFolder):\n",
    "    def __init__(self, root, transform=None):\n",
    "        super(SafeImageFolder, self).__init__(root, transform)\n",
    "        self.samples = self._filter_corrupted_samples(self.samples)\n",
    "\n",
    "    def _filter_corrupted_samples(self, samples):\n",
    "        valid_samples = []\n",
    "        for path, label in samples:\n",
    "            try:\n",
    "                with Image.open(path) as img:\n",
    "                    img.verify()\n",
    "                valid_samples.append((path, label))\n",
    "            except (IOError, UnidentifiedImageError):\n",
    "                print(f\"Skip bad image: {path}\")\n",
    "        return valid_samples\n",
    "\n",
    "transform = transforms.Compose([\n",
    "    transforms.Resize((224, 224)),\n",
    "    transforms.ToTensor(),\n",
    "])\n",
    "\n",
    "train_dataset = SafeImageFolder(root='/content/processed_splits/train/', transform=transform)\n",
    "val_dataset = SafeImageFolder(root='/content/processed_splits/val/', transform=transform)\n",
    "\n",
    "train_loader = torch.utils.data.DataLoader(train_dataset, batch_size=32, shuffle=True, num_workers=8, pin_memory=True)\n",
    "val_loader = torch.utils.data.DataLoader(val_dataset, batch_size=32, shuffle=False, num_workers=8, pin_memory=True)\n"
   ]
  },
  {
   "cell_type": "markdown",
   "metadata": {
    "id": "bQaiVv4rP2Pm"
   },
   "source": [
    "# Training"
   ]
  },
  {
   "cell_type": "code",
   "execution_count": null,
   "metadata": {
    "id": "XvuDTrbFP2Pn"
   },
   "outputs": [],
   "source": [
    "# Loss Function\n",
    "criterion = nn.CrossEntropyLoss()\n",
    "\n",
    "# Optimizer\n",
    "optimizer = optim.AdamW(filter(lambda p: p.requires_grad, model.parameters()), lr=0.001, betas=(0.9, 0.999), eps=1e-08, weight_decay=0.01, amsgrad=False, maximize=False, foreach=None, capturable=False, differentiable=False, fused=None)\n",
    "\n",
    "# Learning Rate Scheduler\n",
    "scheduler = optim.lr_scheduler.StepLR(optimizer, step_size=10, gamma=0.1)\n"
   ]
  },
  {
   "cell_type": "markdown",
   "metadata": {
    "id": "GaA-w4asP2P4"
   },
   "source": [
    "## Evaluation"
   ]
  },
  {
   "cell_type": "code",
   "execution_count": 5,
   "metadata": {
    "colab": {
     "base_uri": "https://localhost:8080/",
     "height": 1000,
     "referenced_widgets": [
      "d2909681ddd746299ba96ac28a770317",
      "53fb43aa67854675b23fdc66d0fac760",
      "9546d0b763264fdcb817ba01d48c6703",
      "50c6ce8756e34573841b0219d8812c54",
      "73f266fde9f84d34b0afe69edddceb9f",
      "c64cff60226e4b00b6eed3c508f4ad8c",
      "e041b77b2e7f4c208f3a07b4c1ca0161",
      "ff86fd03919e4b27b01e6409e790f3da",
      "6da7e6cd9f8843b581c50df3d74b7d24",
      "c0d6265587ac4bd3b976767be39d8f9d",
      "d951891fd30c48ae9571dfc4c1d5e512"
     ]
    },
    "id": "0P-tIAVs6U52",
    "outputId": "44788ed1-d140-49c8-f9f4-aa268c98145b"
   },
   "outputs": [
    {
     "name": "stdout",
     "output_type": "stream",
     "text": [
      "使用设备: cuda\n"
     ]
    },
    {
     "data": {
      "application/vnd.jupyter.widget-view+json": {
       "model_id": "d2909681ddd746299ba96ac28a770317",
       "version_major": 2,
       "version_minor": 0
      },
      "text/plain": [
       "preprocessor_config.json:   0%|          | 0.00/160 [00:00<?, ?B/s]"
      ]
     },
     "metadata": {},
     "output_type": "display_data"
    },
    {
     "name": "stderr",
     "output_type": "stream",
     "text": [
      "/usr/local/lib/python3.10/dist-packages/transformers/models/vit/feature_extraction_vit.py:28: FutureWarning: The class ViTFeatureExtractor is deprecated and will be removed in version 5 of Transformers. Please use ViTImageProcessor instead.\n",
      "  warnings.warn(\n"
     ]
    },
    {
     "name": "stdout",
     "output_type": "stream",
     "text": [
      "损坏的图像文件已跳过: /content/processed_splits/train/amber_augmented/google_0149.jpg_person_0_aug_2.jpg\n"
     ]
    },
    {
     "name": "stderr",
     "output_type": "stream",
     "text": [
      "/usr/local/lib/python3.10/dist-packages/torch/utils/data/dataloader.py:617: UserWarning: This DataLoader will create 8 worker processes in total. Our suggested max number of worker in current system is 2, which is smaller than what this DataLoader is going to create. Please be aware that excessive worker creation might get DataLoader running slow or even freeze, lower the worker number to avoid potential slowness/freeze if necessary.\n",
      "  warnings.warn(\n"
     ]
    },
    {
     "name": "stdout",
     "output_type": "stream",
     "text": [
      "\n",
      "=== Training with ReLU activation ===\n",
      "\n"
     ]
    },
    {
     "name": "stderr",
     "output_type": "stream",
     "text": [
      "<ipython-input-5-8d37a7a23e68>:57: FutureWarning: `torch.cuda.amp.GradScaler(args...)` is deprecated. Please use `torch.amp.GradScaler('cuda', args...)` instead.\n",
      "  scaler = torch.cuda.amp.GradScaler()\n"
     ]
    },
    {
     "name": "stdout",
     "output_type": "stream",
     "text": [
      "Epoch 1/30\n",
      "----------\n"
     ]
    },
    {
     "name": "stderr",
     "output_type": "stream",
     "text": [
      "\rTraining:   0%|          | 0/183 [00:00<?, ?it/s]<ipython-input-5-8d37a7a23e68>:80: FutureWarning: `torch.cuda.amp.autocast(args...)` is deprecated. Please use `torch.amp.autocast('cuda', args...)` instead.\n",
      "  with torch.cuda.amp.autocast():\n"
     ]
    },
    {
     "name": "stdout",
     "output_type": "stream",
     "text": [
      "Training Loss: 0.6724 Acc: 0.8097\n"
     ]
    },
    {
     "name": "stderr",
     "output_type": "stream",
     "text": [
      "Validation:   0%|          | 0/42 [00:00<?, ?it/s]<ipython-input-5-8d37a7a23e68>:111: FutureWarning: `torch.cuda.amp.autocast(args...)` is deprecated. Please use `torch.amp.autocast('cuda', args...)` instead.\n",
      "  with torch.cuda.amp.autocast():\n"
     ]
    },
    {
     "name": "stdout",
     "output_type": "stream",
     "text": [
      "Validation Loss: 0.1979 Acc: 0.9519\n",
      "Best model saved.\n",
      "Epoch 2/30\n",
      "----------\n"
     ]
    },
    {
     "name": "stderr",
     "output_type": "stream",
     "text": []
    },
    {
     "name": "stdout",
     "output_type": "stream",
     "text": [
      "Training Loss: 0.1500 Acc: 0.9595\n"
     ]
    },
    {
     "name": "stderr",
     "output_type": "stream",
     "text": []
    },
    {
     "name": "stdout",
     "output_type": "stream",
     "text": [
      "Validation Loss: 0.1187 Acc: 0.9722\n",
      "Best model saved.\n",
      "Epoch 3/30\n",
      "----------\n"
     ]
    },
    {
     "name": "stderr",
     "output_type": "stream",
     "text": []
    },
    {
     "name": "stdout",
     "output_type": "stream",
     "text": [
      "Training Loss: 0.0670 Acc: 0.9850\n"
     ]
    },
    {
     "name": "stderr",
     "output_type": "stream",
     "text": []
    },
    {
     "name": "stdout",
     "output_type": "stream",
     "text": [
      "Validation Loss: 0.1218 Acc: 0.9586\n",
      "No improvement for 1 epoch(s).\n",
      "Epoch 4/30\n",
      "----------\n"
     ]
    },
    {
     "name": "stderr",
     "output_type": "stream",
     "text": []
    },
    {
     "name": "stdout",
     "output_type": "stream",
     "text": [
      "Training Loss: 0.0419 Acc: 0.9913\n"
     ]
    },
    {
     "name": "stderr",
     "output_type": "stream",
     "text": []
    },
    {
     "name": "stdout",
     "output_type": "stream",
     "text": [
      "Validation Loss: 0.0827 Acc: 0.9737\n",
      "Best model saved.\n",
      "Epoch 5/30\n",
      "----------\n"
     ]
    },
    {
     "name": "stderr",
     "output_type": "stream",
     "text": []
    },
    {
     "name": "stdout",
     "output_type": "stream",
     "text": [
      "Training Loss: 0.0233 Acc: 0.9966\n"
     ]
    },
    {
     "name": "stderr",
     "output_type": "stream",
     "text": []
    },
    {
     "name": "stdout",
     "output_type": "stream",
     "text": [
      "Validation Loss: 0.0886 Acc: 0.9699\n",
      "No improvement for 1 epoch(s).\n",
      "Epoch 6/30\n",
      "----------\n"
     ]
    },
    {
     "name": "stderr",
     "output_type": "stream",
     "text": []
    },
    {
     "name": "stdout",
     "output_type": "stream",
     "text": [
      "Training Loss: 0.0188 Acc: 0.9966\n"
     ]
    },
    {
     "name": "stderr",
     "output_type": "stream",
     "text": []
    },
    {
     "name": "stdout",
     "output_type": "stream",
     "text": [
      "Validation Loss: 0.0789 Acc: 0.9752\n",
      "Best model saved.\n",
      "Epoch 7/30\n",
      "----------\n"
     ]
    },
    {
     "name": "stderr",
     "output_type": "stream",
     "text": []
    },
    {
     "name": "stdout",
     "output_type": "stream",
     "text": [
      "Training Loss: 0.0131 Acc: 0.9983\n"
     ]
    },
    {
     "name": "stderr",
     "output_type": "stream",
     "text": []
    },
    {
     "name": "stdout",
     "output_type": "stream",
     "text": [
      "Validation Loss: 0.1015 Acc: 0.9662\n",
      "No improvement for 1 epoch(s).\n",
      "Epoch 8/30\n",
      "----------\n"
     ]
    },
    {
     "name": "stderr",
     "output_type": "stream",
     "text": []
    },
    {
     "name": "stdout",
     "output_type": "stream",
     "text": [
      "Training Loss: 0.0119 Acc: 0.9985\n"
     ]
    },
    {
     "name": "stderr",
     "output_type": "stream",
     "text": []
    },
    {
     "name": "stdout",
     "output_type": "stream",
     "text": [
      "Validation Loss: 0.1010 Acc: 0.9669\n",
      "No improvement for 2 epoch(s).\n",
      "Epoch 9/30\n",
      "----------\n"
     ]
    },
    {
     "name": "stderr",
     "output_type": "stream",
     "text": []
    },
    {
     "name": "stdout",
     "output_type": "stream",
     "text": [
      "Training Loss: 0.0134 Acc: 0.9966\n"
     ]
    },
    {
     "name": "stderr",
     "output_type": "stream",
     "text": []
    },
    {
     "name": "stdout",
     "output_type": "stream",
     "text": [
      "Validation Loss: 0.0937 Acc: 0.9707\n",
      "No improvement for 3 epoch(s).\n",
      "Epoch 10/30\n",
      "----------\n"
     ]
    },
    {
     "name": "stderr",
     "output_type": "stream",
     "text": []
    },
    {
     "name": "stdout",
     "output_type": "stream",
     "text": [
      "Training Loss: 0.0093 Acc: 0.9985\n"
     ]
    },
    {
     "name": "stderr",
     "output_type": "stream",
     "text": []
    },
    {
     "name": "stdout",
     "output_type": "stream",
     "text": [
      "Validation Loss: 0.0870 Acc: 0.9752\n",
      "No improvement for 4 epoch(s).\n",
      "Epoch 11/30\n",
      "----------\n"
     ]
    },
    {
     "name": "stderr",
     "output_type": "stream",
     "text": []
    },
    {
     "name": "stdout",
     "output_type": "stream",
     "text": [
      "Training Loss: 0.0056 Acc: 0.9993\n"
     ]
    },
    {
     "name": "stderr",
     "output_type": "stream",
     "text": []
    },
    {
     "name": "stdout",
     "output_type": "stream",
     "text": [
      "Validation Loss: 0.0766 Acc: 0.9759\n",
      "Best model saved.\n",
      "Epoch 12/30\n",
      "----------\n"
     ]
    },
    {
     "name": "stderr",
     "output_type": "stream",
     "text": []
    },
    {
     "name": "stdout",
     "output_type": "stream",
     "text": [
      "Training Loss: 0.0048 Acc: 0.9993\n"
     ]
    },
    {
     "name": "stderr",
     "output_type": "stream",
     "text": []
    },
    {
     "name": "stdout",
     "output_type": "stream",
     "text": [
      "Validation Loss: 0.0781 Acc: 0.9744\n",
      "No improvement for 1 epoch(s).\n",
      "Epoch 13/30\n",
      "----------\n"
     ]
    },
    {
     "name": "stderr",
     "output_type": "stream",
     "text": []
    },
    {
     "name": "stdout",
     "output_type": "stream",
     "text": [
      "Training Loss: 0.0034 Acc: 1.0000\n"
     ]
    },
    {
     "name": "stderr",
     "output_type": "stream",
     "text": []
    },
    {
     "name": "stdout",
     "output_type": "stream",
     "text": [
      "Validation Loss: 0.0778 Acc: 0.9759\n",
      "No improvement for 2 epoch(s).\n",
      "Epoch 14/30\n",
      "----------\n"
     ]
    },
    {
     "name": "stderr",
     "output_type": "stream",
     "text": []
    },
    {
     "name": "stdout",
     "output_type": "stream",
     "text": [
      "Training Loss: 0.0028 Acc: 1.0000\n"
     ]
    },
    {
     "name": "stderr",
     "output_type": "stream",
     "text": []
    },
    {
     "name": "stdout",
     "output_type": "stream",
     "text": [
      "Validation Loss: 0.0775 Acc: 0.9759\n",
      "No improvement for 3 epoch(s).\n",
      "Epoch 15/30\n",
      "----------\n"
     ]
    },
    {
     "name": "stderr",
     "output_type": "stream",
     "text": []
    },
    {
     "name": "stdout",
     "output_type": "stream",
     "text": [
      "Training Loss: 0.0025 Acc: 0.9998\n"
     ]
    },
    {
     "name": "stderr",
     "output_type": "stream",
     "text": []
    },
    {
     "name": "stdout",
     "output_type": "stream",
     "text": [
      "Validation Loss: 0.0769 Acc: 0.9767\n",
      "Best model saved.\n",
      "Epoch 16/30\n",
      "----------\n"
     ]
    },
    {
     "name": "stderr",
     "output_type": "stream",
     "text": []
    },
    {
     "name": "stdout",
     "output_type": "stream",
     "text": [
      "Training Loss: 0.0021 Acc: 1.0000\n"
     ]
    },
    {
     "name": "stderr",
     "output_type": "stream",
     "text": []
    },
    {
     "name": "stdout",
     "output_type": "stream",
     "text": [
      "Validation Loss: 0.0753 Acc: 0.9774\n",
      "Best model saved.\n",
      "Epoch 17/30\n",
      "----------\n"
     ]
    },
    {
     "name": "stderr",
     "output_type": "stream",
     "text": []
    },
    {
     "name": "stdout",
     "output_type": "stream",
     "text": [
      "Training Loss: 0.0024 Acc: 0.9998\n"
     ]
    },
    {
     "name": "stderr",
     "output_type": "stream",
     "text": []
    },
    {
     "name": "stdout",
     "output_type": "stream",
     "text": [
      "Validation Loss: 0.0758 Acc: 0.9774\n",
      "No improvement for 1 epoch(s).\n",
      "Epoch 18/30\n",
      "----------\n"
     ]
    },
    {
     "name": "stderr",
     "output_type": "stream",
     "text": []
    },
    {
     "name": "stdout",
     "output_type": "stream",
     "text": [
      "Training Loss: 0.0019 Acc: 1.0000\n"
     ]
    },
    {
     "name": "stderr",
     "output_type": "stream",
     "text": []
    },
    {
     "name": "stdout",
     "output_type": "stream",
     "text": [
      "Validation Loss: 0.0740 Acc: 0.9782\n",
      "Best model saved.\n",
      "Epoch 19/30\n",
      "----------\n"
     ]
    },
    {
     "name": "stderr",
     "output_type": "stream",
     "text": []
    },
    {
     "name": "stdout",
     "output_type": "stream",
     "text": [
      "Training Loss: 0.0021 Acc: 1.0000\n"
     ]
    },
    {
     "name": "stderr",
     "output_type": "stream",
     "text": []
    },
    {
     "name": "stdout",
     "output_type": "stream",
     "text": [
      "Validation Loss: 0.0735 Acc: 0.9789\n",
      "Best model saved.\n",
      "Epoch 20/30\n",
      "----------\n"
     ]
    },
    {
     "name": "stderr",
     "output_type": "stream",
     "text": []
    },
    {
     "name": "stdout",
     "output_type": "stream",
     "text": [
      "Training Loss: 0.0022 Acc: 1.0000\n"
     ]
    },
    {
     "name": "stderr",
     "output_type": "stream",
     "text": []
    },
    {
     "name": "stdout",
     "output_type": "stream",
     "text": [
      "Validation Loss: 0.0742 Acc: 0.9789\n",
      "No improvement for 1 epoch(s).\n",
      "Epoch 21/30\n",
      "----------\n"
     ]
    },
    {
     "name": "stderr",
     "output_type": "stream",
     "text": []
    },
    {
     "name": "stdout",
     "output_type": "stream",
     "text": [
      "Training Loss: 0.0015 Acc: 1.0000\n"
     ]
    },
    {
     "name": "stderr",
     "output_type": "stream",
     "text": []
    },
    {
     "name": "stdout",
     "output_type": "stream",
     "text": [
      "Validation Loss: 0.0739 Acc: 0.9789\n",
      "No improvement for 2 epoch(s).\n",
      "Epoch 22/30\n",
      "----------\n"
     ]
    },
    {
     "name": "stderr",
     "output_type": "stream",
     "text": []
    },
    {
     "name": "stdout",
     "output_type": "stream",
     "text": [
      "Training Loss: 0.0019 Acc: 1.0000\n"
     ]
    },
    {
     "name": "stderr",
     "output_type": "stream",
     "text": []
    },
    {
     "name": "stdout",
     "output_type": "stream",
     "text": [
      "Validation Loss: 0.0737 Acc: 0.9789\n",
      "No improvement for 3 epoch(s).\n",
      "Epoch 23/30\n",
      "----------\n"
     ]
    },
    {
     "name": "stderr",
     "output_type": "stream",
     "text": []
    },
    {
     "name": "stdout",
     "output_type": "stream",
     "text": [
      "Training Loss: 0.0019 Acc: 1.0000\n"
     ]
    },
    {
     "name": "stderr",
     "output_type": "stream",
     "text": []
    },
    {
     "name": "stdout",
     "output_type": "stream",
     "text": [
      "Validation Loss: 0.0737 Acc: 0.9789\n",
      "No improvement for 4 epoch(s).\n",
      "Epoch 24/30\n",
      "----------\n"
     ]
    },
    {
     "name": "stderr",
     "output_type": "stream",
     "text": []
    },
    {
     "name": "stdout",
     "output_type": "stream",
     "text": [
      "Training Loss: 0.0017 Acc: 1.0000\n"
     ]
    },
    {
     "name": "stderr",
     "output_type": "stream",
     "text": []
    },
    {
     "name": "stdout",
     "output_type": "stream",
     "text": [
      "Validation Loss: 0.0734 Acc: 0.9789\n",
      "No improvement for 5 epoch(s).\n",
      "Early stopping triggered.\n",
      "[ReLU] Training complete. Best Validation Accuracy: 0.9789\n",
      "\n",
      "=== Training with LeakyReLU activation ===\n",
      "\n",
      "Epoch 1/30\n",
      "----------\n"
     ]
    },
    {
     "name": "stderr",
     "output_type": "stream",
     "text": []
    },
    {
     "name": "stdout",
     "output_type": "stream",
     "text": [
      "Training Loss: 0.6238 Acc: 0.8161\n"
     ]
    },
    {
     "name": "stderr",
     "output_type": "stream",
     "text": []
    },
    {
     "name": "stdout",
     "output_type": "stream",
     "text": [
      "Validation Loss: 0.1917 Acc: 0.9474\n",
      "Best model saved.\n",
      "Epoch 2/30\n",
      "----------\n"
     ]
    },
    {
     "name": "stderr",
     "output_type": "stream",
     "text": []
    },
    {
     "name": "stdout",
     "output_type": "stream",
     "text": [
      "Training Loss: 0.1399 Acc: 0.9624\n"
     ]
    },
    {
     "name": "stderr",
     "output_type": "stream",
     "text": []
    },
    {
     "name": "stdout",
     "output_type": "stream",
     "text": [
      "Validation Loss: 0.1165 Acc: 0.9677\n",
      "Best model saved.\n",
      "Epoch 3/30\n",
      "----------\n"
     ]
    },
    {
     "name": "stderr",
     "output_type": "stream",
     "text": []
    },
    {
     "name": "stdout",
     "output_type": "stream",
     "text": [
      "Training Loss: 0.0669 Acc: 0.9845\n"
     ]
    },
    {
     "name": "stderr",
     "output_type": "stream",
     "text": []
    },
    {
     "name": "stdout",
     "output_type": "stream",
     "text": [
      "Validation Loss: 0.1168 Acc: 0.9617\n",
      "No improvement for 1 epoch(s).\n",
      "Epoch 4/30\n",
      "----------\n"
     ]
    },
    {
     "name": "stderr",
     "output_type": "stream",
     "text": []
    },
    {
     "name": "stdout",
     "output_type": "stream",
     "text": [
      "Training Loss: 0.0403 Acc: 0.9903\n"
     ]
    },
    {
     "name": "stderr",
     "output_type": "stream",
     "text": []
    },
    {
     "name": "stdout",
     "output_type": "stream",
     "text": [
      "Validation Loss: 0.0968 Acc: 0.9714\n",
      "Best model saved.\n",
      "Epoch 5/30\n",
      "----------\n"
     ]
    },
    {
     "name": "stderr",
     "output_type": "stream",
     "text": []
    },
    {
     "name": "stdout",
     "output_type": "stream",
     "text": [
      "Training Loss: 0.0301 Acc: 0.9935\n"
     ]
    },
    {
     "name": "stderr",
     "output_type": "stream",
     "text": []
    },
    {
     "name": "stdout",
     "output_type": "stream",
     "text": [
      "Validation Loss: 0.0915 Acc: 0.9707\n",
      "No improvement for 1 epoch(s).\n",
      "Epoch 6/30\n",
      "----------\n"
     ]
    },
    {
     "name": "stderr",
     "output_type": "stream",
     "text": []
    },
    {
     "name": "stdout",
     "output_type": "stream",
     "text": [
      "Training Loss: 0.0175 Acc: 0.9971\n"
     ]
    },
    {
     "name": "stderr",
     "output_type": "stream",
     "text": []
    },
    {
     "name": "stdout",
     "output_type": "stream",
     "text": [
      "Validation Loss: 0.0798 Acc: 0.9759\n",
      "Best model saved.\n",
      "Epoch 7/30\n",
      "----------\n"
     ]
    },
    {
     "name": "stderr",
     "output_type": "stream",
     "text": []
    },
    {
     "name": "stdout",
     "output_type": "stream",
     "text": [
      "Training Loss: 0.0111 Acc: 0.9988\n"
     ]
    },
    {
     "name": "stderr",
     "output_type": "stream",
     "text": []
    },
    {
     "name": "stdout",
     "output_type": "stream",
     "text": [
      "Validation Loss: 0.0864 Acc: 0.9714\n",
      "No improvement for 1 epoch(s).\n",
      "Epoch 8/30\n",
      "----------\n"
     ]
    },
    {
     "name": "stderr",
     "output_type": "stream",
     "text": []
    },
    {
     "name": "stdout",
     "output_type": "stream",
     "text": [
      "Training Loss: 0.0093 Acc: 0.9988\n"
     ]
    },
    {
     "name": "stderr",
     "output_type": "stream",
     "text": []
    },
    {
     "name": "stdout",
     "output_type": "stream",
     "text": [
      "Validation Loss: 0.0918 Acc: 0.9714\n",
      "No improvement for 2 epoch(s).\n",
      "Epoch 9/30\n",
      "----------\n"
     ]
    },
    {
     "name": "stderr",
     "output_type": "stream",
     "text": []
    },
    {
     "name": "stdout",
     "output_type": "stream",
     "text": [
      "Training Loss: 0.0088 Acc: 0.9988\n"
     ]
    },
    {
     "name": "stderr",
     "output_type": "stream",
     "text": []
    },
    {
     "name": "stdout",
     "output_type": "stream",
     "text": [
      "Validation Loss: 0.0869 Acc: 0.9774\n",
      "Best model saved.\n",
      "Epoch 10/30\n",
      "----------\n"
     ]
    },
    {
     "name": "stderr",
     "output_type": "stream",
     "text": []
    },
    {
     "name": "stdout",
     "output_type": "stream",
     "text": [
      "Training Loss: 0.0145 Acc: 0.9962\n"
     ]
    },
    {
     "name": "stderr",
     "output_type": "stream",
     "text": []
    },
    {
     "name": "stdout",
     "output_type": "stream",
     "text": [
      "Validation Loss: 0.1286 Acc: 0.9647\n",
      "No improvement for 1 epoch(s).\n",
      "Epoch 11/30\n",
      "----------\n"
     ]
    },
    {
     "name": "stderr",
     "output_type": "stream",
     "text": []
    },
    {
     "name": "stdout",
     "output_type": "stream",
     "text": [
      "Training Loss: 0.0096 Acc: 0.9971\n"
     ]
    },
    {
     "name": "stderr",
     "output_type": "stream",
     "text": []
    },
    {
     "name": "stdout",
     "output_type": "stream",
     "text": [
      "Validation Loss: 0.0860 Acc: 0.9744\n",
      "No improvement for 2 epoch(s).\n",
      "Epoch 12/30\n",
      "----------\n"
     ]
    },
    {
     "name": "stderr",
     "output_type": "stream",
     "text": []
    },
    {
     "name": "stdout",
     "output_type": "stream",
     "text": [
      "Training Loss: 0.0043 Acc: 0.9998\n"
     ]
    },
    {
     "name": "stderr",
     "output_type": "stream",
     "text": []
    },
    {
     "name": "stdout",
     "output_type": "stream",
     "text": [
      "Validation Loss: 0.0843 Acc: 0.9744\n",
      "No improvement for 3 epoch(s).\n",
      "Epoch 13/30\n",
      "----------\n"
     ]
    },
    {
     "name": "stderr",
     "output_type": "stream",
     "text": []
    },
    {
     "name": "stdout",
     "output_type": "stream",
     "text": [
      "Training Loss: 0.0039 Acc: 0.9998\n"
     ]
    },
    {
     "name": "stderr",
     "output_type": "stream",
     "text": []
    },
    {
     "name": "stdout",
     "output_type": "stream",
     "text": [
      "Validation Loss: 0.0833 Acc: 0.9744\n",
      "No improvement for 4 epoch(s).\n",
      "Epoch 14/30\n",
      "----------\n"
     ]
    },
    {
     "name": "stderr",
     "output_type": "stream",
     "text": []
    },
    {
     "name": "stdout",
     "output_type": "stream",
     "text": [
      "Training Loss: 0.0038 Acc: 0.9998\n"
     ]
    },
    {
     "name": "stderr",
     "output_type": "stream",
     "text": []
    },
    {
     "name": "stdout",
     "output_type": "stream",
     "text": [
      "Validation Loss: 0.0810 Acc: 0.9759\n",
      "No improvement for 5 epoch(s).\n",
      "Early stopping triggered.\n",
      "[LeakyReLU] Training complete. Best Validation Accuracy: 0.9774\n",
      "\n",
      "=== Training with ELU activation ===\n",
      "\n",
      "Epoch 1/30\n",
      "----------\n"
     ]
    },
    {
     "name": "stderr",
     "output_type": "stream",
     "text": []
    },
    {
     "name": "stdout",
     "output_type": "stream",
     "text": [
      "Training Loss: 0.5345 Acc: 0.8483\n"
     ]
    },
    {
     "name": "stderr",
     "output_type": "stream",
     "text": []
    },
    {
     "name": "stdout",
     "output_type": "stream",
     "text": [
      "Validation Loss: 0.1670 Acc: 0.9549\n",
      "Best model saved.\n",
      "Epoch 2/30\n",
      "----------\n"
     ]
    },
    {
     "name": "stderr",
     "output_type": "stream",
     "text": []
    },
    {
     "name": "stdout",
     "output_type": "stream",
     "text": [
      "Training Loss: 0.1150 Acc: 0.9699\n"
     ]
    },
    {
     "name": "stderr",
     "output_type": "stream",
     "text": []
    },
    {
     "name": "stdout",
     "output_type": "stream",
     "text": [
      "Validation Loss: 0.1308 Acc: 0.9594\n",
      "Best model saved.\n",
      "Epoch 3/30\n",
      "----------\n"
     ]
    },
    {
     "name": "stderr",
     "output_type": "stream",
     "text": []
    },
    {
     "name": "stdout",
     "output_type": "stream",
     "text": [
      "Training Loss: 0.0507 Acc: 0.9880\n"
     ]
    },
    {
     "name": "stderr",
     "output_type": "stream",
     "text": []
    },
    {
     "name": "stdout",
     "output_type": "stream",
     "text": [
      "Validation Loss: 0.1086 Acc: 0.9647\n",
      "Best model saved.\n",
      "Epoch 4/30\n",
      "----------\n"
     ]
    },
    {
     "name": "stderr",
     "output_type": "stream",
     "text": []
    },
    {
     "name": "stdout",
     "output_type": "stream",
     "text": [
      "Training Loss: 0.0279 Acc: 0.9949\n"
     ]
    },
    {
     "name": "stderr",
     "output_type": "stream",
     "text": []
    },
    {
     "name": "stdout",
     "output_type": "stream",
     "text": [
      "Validation Loss: 0.0944 Acc: 0.9692\n",
      "Best model saved.\n",
      "Epoch 5/30\n",
      "----------\n"
     ]
    },
    {
     "name": "stderr",
     "output_type": "stream",
     "text": []
    },
    {
     "name": "stdout",
     "output_type": "stream",
     "text": [
      "Training Loss: 0.0152 Acc: 0.9981\n"
     ]
    },
    {
     "name": "stderr",
     "output_type": "stream",
     "text": []
    },
    {
     "name": "stdout",
     "output_type": "stream",
     "text": [
      "Validation Loss: 0.0844 Acc: 0.9714\n",
      "Best model saved.\n",
      "Epoch 6/30\n",
      "----------\n"
     ]
    },
    {
     "name": "stderr",
     "output_type": "stream",
     "text": []
    },
    {
     "name": "stdout",
     "output_type": "stream",
     "text": [
      "Training Loss: 0.0111 Acc: 0.9986\n"
     ]
    },
    {
     "name": "stderr",
     "output_type": "stream",
     "text": []
    },
    {
     "name": "stdout",
     "output_type": "stream",
     "text": [
      "Validation Loss: 0.0847 Acc: 0.9737\n",
      "Best model saved.\n",
      "Epoch 7/30\n",
      "----------\n"
     ]
    },
    {
     "name": "stderr",
     "output_type": "stream",
     "text": []
    },
    {
     "name": "stdout",
     "output_type": "stream",
     "text": [
      "Training Loss: 0.0076 Acc: 0.9993\n"
     ]
    },
    {
     "name": "stderr",
     "output_type": "stream",
     "text": []
    },
    {
     "name": "stdout",
     "output_type": "stream",
     "text": [
      "Validation Loss: 0.0874 Acc: 0.9729\n",
      "No improvement for 1 epoch(s).\n",
      "Epoch 8/30\n",
      "----------\n"
     ]
    },
    {
     "name": "stderr",
     "output_type": "stream",
     "text": []
    },
    {
     "name": "stdout",
     "output_type": "stream",
     "text": [
      "Training Loss: 0.0044 Acc: 0.9998\n"
     ]
    },
    {
     "name": "stderr",
     "output_type": "stream",
     "text": []
    },
    {
     "name": "stdout",
     "output_type": "stream",
     "text": [
      "Validation Loss: 0.0900 Acc: 0.9737\n",
      "No improvement for 2 epoch(s).\n",
      "Epoch 9/30\n",
      "----------\n"
     ]
    },
    {
     "name": "stderr",
     "output_type": "stream",
     "text": []
    },
    {
     "name": "stdout",
     "output_type": "stream",
     "text": [
      "Training Loss: 0.0034 Acc: 0.9998\n"
     ]
    },
    {
     "name": "stderr",
     "output_type": "stream",
     "text": []
    },
    {
     "name": "stdout",
     "output_type": "stream",
     "text": [
      "Validation Loss: 0.0887 Acc: 0.9714\n",
      "No improvement for 3 epoch(s).\n",
      "Epoch 10/30\n",
      "----------\n"
     ]
    },
    {
     "name": "stderr",
     "output_type": "stream",
     "text": []
    },
    {
     "name": "stdout",
     "output_type": "stream",
     "text": [
      "Training Loss: 0.0050 Acc: 0.9995\n"
     ]
    },
    {
     "name": "stderr",
     "output_type": "stream",
     "text": []
    },
    {
     "name": "stdout",
     "output_type": "stream",
     "text": [
      "Validation Loss: 0.0878 Acc: 0.9707\n",
      "No improvement for 4 epoch(s).\n",
      "Epoch 11/30\n",
      "----------\n"
     ]
    },
    {
     "name": "stderr",
     "output_type": "stream",
     "text": []
    },
    {
     "name": "stdout",
     "output_type": "stream",
     "text": [
      "Training Loss: 0.0031 Acc: 0.9993\n"
     ]
    },
    {
     "name": "stderr",
     "output_type": "stream",
     "text": []
    },
    {
     "name": "stdout",
     "output_type": "stream",
     "text": [
      "Validation Loss: 0.0830 Acc: 0.9714\n",
      "No improvement for 5 epoch(s).\n",
      "Early stopping triggered.\n",
      "[ELU] Training complete. Best Validation Accuracy: 0.9737\n",
      "\n",
      "=== Training with Sigmoid activation ===\n",
      "\n",
      "Epoch 1/30\n",
      "----------\n"
     ]
    },
    {
     "name": "stderr",
     "output_type": "stream",
     "text": []
    },
    {
     "name": "stdout",
     "output_type": "stream",
     "text": [
      "Training Loss: 1.1053 Acc: 0.7585\n"
     ]
    },
    {
     "name": "stderr",
     "output_type": "stream",
     "text": []
    },
    {
     "name": "stdout",
     "output_type": "stream",
     "text": [
      "Validation Loss: 0.4015 Acc: 0.9406\n",
      "Best model saved.\n",
      "Epoch 2/30\n",
      "----------\n"
     ]
    },
    {
     "name": "stderr",
     "output_type": "stream",
     "text": []
    },
    {
     "name": "stdout",
     "output_type": "stream",
     "text": [
      "Training Loss: 0.2862 Acc: 0.9481\n"
     ]
    },
    {
     "name": "stderr",
     "output_type": "stream",
     "text": []
    },
    {
     "name": "stdout",
     "output_type": "stream",
     "text": [
      "Validation Loss: 0.1956 Acc: 0.9609\n",
      "Best model saved.\n",
      "Epoch 3/30\n",
      "----------\n"
     ]
    },
    {
     "name": "stderr",
     "output_type": "stream",
     "text": []
    },
    {
     "name": "stdout",
     "output_type": "stream",
     "text": [
      "Training Loss: 0.1491 Acc: 0.9768\n"
     ]
    },
    {
     "name": "stderr",
     "output_type": "stream",
     "text": []
    },
    {
     "name": "stdout",
     "output_type": "stream",
     "text": [
      "Validation Loss: 0.1420 Acc: 0.9669\n",
      "Best model saved.\n",
      "Epoch 4/30\n",
      "----------\n"
     ]
    },
    {
     "name": "stderr",
     "output_type": "stream",
     "text": []
    },
    {
     "name": "stdout",
     "output_type": "stream",
     "text": [
      "Training Loss: 0.0883 Acc: 0.9868\n"
     ]
    },
    {
     "name": "stderr",
     "output_type": "stream",
     "text": []
    },
    {
     "name": "stdout",
     "output_type": "stream",
     "text": [
      "Validation Loss: 0.1166 Acc: 0.9692\n",
      "Best model saved.\n",
      "Epoch 5/30\n",
      "----------\n"
     ]
    },
    {
     "name": "stderr",
     "output_type": "stream",
     "text": []
    },
    {
     "name": "stdout",
     "output_type": "stream",
     "text": [
      "Training Loss: 0.0579 Acc: 0.9942\n"
     ]
    },
    {
     "name": "stderr",
     "output_type": "stream",
     "text": []
    },
    {
     "name": "stdout",
     "output_type": "stream",
     "text": [
      "Validation Loss: 0.0986 Acc: 0.9767\n",
      "Best model saved.\n",
      "Epoch 6/30\n",
      "----------\n"
     ]
    },
    {
     "name": "stderr",
     "output_type": "stream",
     "text": []
    },
    {
     "name": "stdout",
     "output_type": "stream",
     "text": [
      "Training Loss: 0.0405 Acc: 0.9962\n"
     ]
    },
    {
     "name": "stderr",
     "output_type": "stream",
     "text": []
    },
    {
     "name": "stdout",
     "output_type": "stream",
     "text": [
      "Validation Loss: 0.0940 Acc: 0.9737\n",
      "No improvement for 1 epoch(s).\n",
      "Epoch 7/30\n",
      "----------\n"
     ]
    },
    {
     "name": "stderr",
     "output_type": "stream",
     "text": []
    },
    {
     "name": "stdout",
     "output_type": "stream",
     "text": [
      "Training Loss: 0.0297 Acc: 0.9978\n"
     ]
    },
    {
     "name": "stderr",
     "output_type": "stream",
     "text": []
    },
    {
     "name": "stdout",
     "output_type": "stream",
     "text": [
      "Validation Loss: 0.0880 Acc: 0.9759\n",
      "No improvement for 2 epoch(s).\n",
      "Epoch 8/30\n",
      "----------\n"
     ]
    },
    {
     "name": "stderr",
     "output_type": "stream",
     "text": []
    },
    {
     "name": "stdout",
     "output_type": "stream",
     "text": [
      "Training Loss: 0.0221 Acc: 0.9986\n"
     ]
    },
    {
     "name": "stderr",
     "output_type": "stream",
     "text": []
    },
    {
     "name": "stdout",
     "output_type": "stream",
     "text": [
      "Validation Loss: 0.0827 Acc: 0.9767\n",
      "No improvement for 3 epoch(s).\n",
      "Epoch 9/30\n",
      "----------\n"
     ]
    },
    {
     "name": "stderr",
     "output_type": "stream",
     "text": []
    },
    {
     "name": "stdout",
     "output_type": "stream",
     "text": [
      "Training Loss: 0.0170 Acc: 0.9998\n"
     ]
    },
    {
     "name": "stderr",
     "output_type": "stream",
     "text": []
    },
    {
     "name": "stdout",
     "output_type": "stream",
     "text": [
      "Validation Loss: 0.0840 Acc: 0.9752\n",
      "No improvement for 4 epoch(s).\n",
      "Epoch 10/30\n",
      "----------\n"
     ]
    },
    {
     "name": "stderr",
     "output_type": "stream",
     "text": []
    },
    {
     "name": "stdout",
     "output_type": "stream",
     "text": [
      "Training Loss: 0.0139 Acc: 0.9995\n"
     ]
    },
    {
     "name": "stderr",
     "output_type": "stream",
     "text": []
    },
    {
     "name": "stdout",
     "output_type": "stream",
     "text": [
      "Validation Loss: 0.0755 Acc: 0.9797\n",
      "Best model saved.\n",
      "Epoch 11/30\n",
      "----------\n"
     ]
    },
    {
     "name": "stderr",
     "output_type": "stream",
     "text": []
    },
    {
     "name": "stdout",
     "output_type": "stream",
     "text": [
      "Training Loss: 0.0108 Acc: 0.9998\n"
     ]
    },
    {
     "name": "stderr",
     "output_type": "stream",
     "text": []
    },
    {
     "name": "stdout",
     "output_type": "stream",
     "text": [
      "Validation Loss: 0.0757 Acc: 0.9782\n",
      "No improvement for 1 epoch(s).\n",
      "Epoch 12/30\n",
      "----------\n"
     ]
    },
    {
     "name": "stderr",
     "output_type": "stream",
     "text": []
    },
    {
     "name": "stdout",
     "output_type": "stream",
     "text": [
      "Training Loss: 0.0096 Acc: 1.0000\n"
     ]
    },
    {
     "name": "stderr",
     "output_type": "stream",
     "text": []
    },
    {
     "name": "stdout",
     "output_type": "stream",
     "text": [
      "Validation Loss: 0.0757 Acc: 0.9774\n",
      "No improvement for 2 epoch(s).\n",
      "Epoch 13/30\n",
      "----------\n"
     ]
    },
    {
     "name": "stderr",
     "output_type": "stream",
     "text": []
    },
    {
     "name": "stdout",
     "output_type": "stream",
     "text": [
      "Training Loss: 0.0097 Acc: 0.9998\n"
     ]
    },
    {
     "name": "stderr",
     "output_type": "stream",
     "text": []
    },
    {
     "name": "stdout",
     "output_type": "stream",
     "text": [
      "Validation Loss: 0.0754 Acc: 0.9767\n",
      "No improvement for 3 epoch(s).\n",
      "Epoch 14/30\n",
      "----------\n"
     ]
    },
    {
     "name": "stderr",
     "output_type": "stream",
     "text": []
    },
    {
     "name": "stdout",
     "output_type": "stream",
     "text": [
      "Training Loss: 0.0090 Acc: 1.0000\n"
     ]
    },
    {
     "name": "stderr",
     "output_type": "stream",
     "text": []
    },
    {
     "name": "stdout",
     "output_type": "stream",
     "text": [
      "Validation Loss: 0.0755 Acc: 0.9782\n",
      "No improvement for 4 epoch(s).\n",
      "Epoch 15/30\n",
      "----------\n"
     ]
    },
    {
     "name": "stderr",
     "output_type": "stream",
     "text": []
    },
    {
     "name": "stdout",
     "output_type": "stream",
     "text": [
      "Training Loss: 0.0087 Acc: 0.9997\n"
     ]
    },
    {
     "name": "stderr",
     "output_type": "stream",
     "text": []
    },
    {
     "name": "stdout",
     "output_type": "stream",
     "text": [
      "Validation Loss: 0.0757 Acc: 0.9782\n",
      "No improvement for 5 epoch(s).\n",
      "Early stopping triggered.\n",
      "[Sigmoid] Training complete. Best Validation Accuracy: 0.9797\n",
      "\n",
      "=== Training with Tanh activation ===\n",
      "\n",
      "Epoch 1/30\n",
      "----------\n"
     ]
    },
    {
     "name": "stderr",
     "output_type": "stream",
     "text": []
    },
    {
     "name": "stdout",
     "output_type": "stream",
     "text": [
      "Training Loss: 0.5701 Acc: 0.8564\n"
     ]
    },
    {
     "name": "stderr",
     "output_type": "stream",
     "text": []
    },
    {
     "name": "stdout",
     "output_type": "stream",
     "text": [
      "Validation Loss: 0.1782 Acc: 0.9617\n",
      "Best model saved.\n",
      "Epoch 2/30\n",
      "----------\n"
     ]
    },
    {
     "name": "stderr",
     "output_type": "stream",
     "text": []
    },
    {
     "name": "stdout",
     "output_type": "stream",
     "text": [
      "Training Loss: 0.1083 Acc: 0.9775\n"
     ]
    },
    {
     "name": "stderr",
     "output_type": "stream",
     "text": []
    },
    {
     "name": "stdout",
     "output_type": "stream",
     "text": [
      "Validation Loss: 0.1233 Acc: 0.9699\n",
      "Best model saved.\n",
      "Epoch 3/30\n",
      "----------\n"
     ]
    },
    {
     "name": "stderr",
     "output_type": "stream",
     "text": []
    },
    {
     "name": "stdout",
     "output_type": "stream",
     "text": [
      "Training Loss: 0.0473 Acc: 0.9932\n"
     ]
    },
    {
     "name": "stderr",
     "output_type": "stream",
     "text": []
    },
    {
     "name": "stdout",
     "output_type": "stream",
     "text": [
      "Validation Loss: 0.1101 Acc: 0.9662\n",
      "No improvement for 1 epoch(s).\n",
      "Epoch 4/30\n",
      "----------\n"
     ]
    },
    {
     "name": "stderr",
     "output_type": "stream",
     "text": []
    },
    {
     "name": "stdout",
     "output_type": "stream",
     "text": [
      "Training Loss: 0.0212 Acc: 0.9985\n"
     ]
    },
    {
     "name": "stderr",
     "output_type": "stream",
     "text": []
    },
    {
     "name": "stdout",
     "output_type": "stream",
     "text": [
      "Validation Loss: 0.0939 Acc: 0.9699\n",
      "No improvement for 2 epoch(s).\n",
      "Epoch 5/30\n",
      "----------\n"
     ]
    },
    {
     "name": "stderr",
     "output_type": "stream",
     "text": []
    },
    {
     "name": "stdout",
     "output_type": "stream",
     "text": [
      "Training Loss: 0.0121 Acc: 0.9993\n"
     ]
    },
    {
     "name": "stderr",
     "output_type": "stream",
     "text": []
    },
    {
     "name": "stdout",
     "output_type": "stream",
     "text": [
      "Validation Loss: 0.0859 Acc: 0.9729\n",
      "Best model saved.\n",
      "Epoch 6/30\n",
      "----------\n"
     ]
    },
    {
     "name": "stderr",
     "output_type": "stream",
     "text": []
    },
    {
     "name": "stdout",
     "output_type": "stream",
     "text": [
      "Training Loss: 0.0088 Acc: 0.9993\n"
     ]
    },
    {
     "name": "stderr",
     "output_type": "stream",
     "text": []
    },
    {
     "name": "stdout",
     "output_type": "stream",
     "text": [
      "Validation Loss: 0.0858 Acc: 0.9737\n",
      "Best model saved.\n",
      "Epoch 7/30\n",
      "----------\n"
     ]
    },
    {
     "name": "stderr",
     "output_type": "stream",
     "text": []
    },
    {
     "name": "stdout",
     "output_type": "stream",
     "text": [
      "Training Loss: 0.0051 Acc: 1.0000\n"
     ]
    },
    {
     "name": "stderr",
     "output_type": "stream",
     "text": []
    },
    {
     "name": "stdout",
     "output_type": "stream",
     "text": [
      "Validation Loss: 0.0798 Acc: 0.9752\n",
      "Best model saved.\n",
      "Epoch 8/30\n",
      "----------\n"
     ]
    },
    {
     "name": "stderr",
     "output_type": "stream",
     "text": []
    },
    {
     "name": "stdout",
     "output_type": "stream",
     "text": [
      "Training Loss: 0.0039 Acc: 1.0000\n"
     ]
    },
    {
     "name": "stderr",
     "output_type": "stream",
     "text": []
    },
    {
     "name": "stdout",
     "output_type": "stream",
     "text": [
      "Validation Loss: 0.0803 Acc: 0.9744\n",
      "No improvement for 1 epoch(s).\n",
      "Epoch 9/30\n",
      "----------\n"
     ]
    },
    {
     "name": "stderr",
     "output_type": "stream",
     "text": []
    },
    {
     "name": "stdout",
     "output_type": "stream",
     "text": [
      "Training Loss: 0.0025 Acc: 1.0000\n"
     ]
    },
    {
     "name": "stderr",
     "output_type": "stream",
     "text": []
    },
    {
     "name": "stdout",
     "output_type": "stream",
     "text": [
      "Validation Loss: 0.0797 Acc: 0.9752\n",
      "No improvement for 2 epoch(s).\n",
      "Epoch 10/30\n",
      "----------\n"
     ]
    },
    {
     "name": "stderr",
     "output_type": "stream",
     "text": []
    },
    {
     "name": "stdout",
     "output_type": "stream",
     "text": [
      "Training Loss: 0.0021 Acc: 1.0000\n"
     ]
    },
    {
     "name": "stderr",
     "output_type": "stream",
     "text": []
    },
    {
     "name": "stdout",
     "output_type": "stream",
     "text": [
      "Validation Loss: 0.0775 Acc: 0.9774\n",
      "Best model saved.\n",
      "Epoch 11/30\n",
      "----------\n"
     ]
    },
    {
     "name": "stderr",
     "output_type": "stream",
     "text": []
    },
    {
     "name": "stdout",
     "output_type": "stream",
     "text": [
      "Training Loss: 0.0015 Acc: 1.0000\n"
     ]
    },
    {
     "name": "stderr",
     "output_type": "stream",
     "text": []
    },
    {
     "name": "stdout",
     "output_type": "stream",
     "text": [
      "Validation Loss: 0.0770 Acc: 0.9767\n",
      "No improvement for 1 epoch(s).\n",
      "Epoch 12/30\n",
      "----------\n"
     ]
    },
    {
     "name": "stderr",
     "output_type": "stream",
     "text": []
    },
    {
     "name": "stdout",
     "output_type": "stream",
     "text": [
      "Training Loss: 0.0015 Acc: 1.0000\n"
     ]
    },
    {
     "name": "stderr",
     "output_type": "stream",
     "text": []
    },
    {
     "name": "stdout",
     "output_type": "stream",
     "text": [
      "Validation Loss: 0.0771 Acc: 0.9774\n",
      "No improvement for 2 epoch(s).\n",
      "Epoch 13/30\n",
      "----------\n"
     ]
    },
    {
     "name": "stderr",
     "output_type": "stream",
     "text": []
    },
    {
     "name": "stdout",
     "output_type": "stream",
     "text": [
      "Training Loss: 0.0014 Acc: 1.0000\n"
     ]
    },
    {
     "name": "stderr",
     "output_type": "stream",
     "text": []
    },
    {
     "name": "stdout",
     "output_type": "stream",
     "text": [
      "Validation Loss: 0.0774 Acc: 0.9774\n",
      "No improvement for 3 epoch(s).\n",
      "Epoch 14/30\n",
      "----------\n"
     ]
    },
    {
     "name": "stderr",
     "output_type": "stream",
     "text": []
    },
    {
     "name": "stdout",
     "output_type": "stream",
     "text": [
      "Training Loss: 0.0013 Acc: 1.0000\n"
     ]
    },
    {
     "name": "stderr",
     "output_type": "stream",
     "text": []
    },
    {
     "name": "stdout",
     "output_type": "stream",
     "text": [
      "Validation Loss: 0.0774 Acc: 0.9767\n",
      "No improvement for 4 epoch(s).\n",
      "Epoch 15/30\n",
      "----------\n"
     ]
    },
    {
     "name": "stderr",
     "output_type": "stream",
     "text": []
    },
    {
     "name": "stdout",
     "output_type": "stream",
     "text": [
      "Training Loss: 0.0013 Acc: 1.0000\n"
     ]
    },
    {
     "name": "stderr",
     "output_type": "stream",
     "text": []
    },
    {
     "name": "stdout",
     "output_type": "stream",
     "text": [
      "Validation Loss: 0.0775 Acc: 0.9767\n",
      "No improvement for 5 epoch(s).\n",
      "Early stopping triggered.\n",
      "[Tanh] Training complete. Best Validation Accuracy: 0.9774\n"
     ]
    },
    {
     "data": {
      "image/png": "[encoded data removed]",
      "text/plain": [
       "<Figure size 1200x800 with 1 Axes>"
      ]
     },
     "metadata": {},
     "output_type": "display_data"
    }
   ],
   "source": [
    "device = torch.device('cuda' if torch.cuda.is_available() else 'cpu')\n",
    "print(f\"使用设备: {device}\")\n",
    "num_classes = 12\n",
    "feature_extractor = ViTFeatureExtractor.from_pretrained('google/vit-base-patch16-224')\n",
    "\n",
    "def train_model(model, train_loader, val_loader, criterion, optimizer, scheduler, device, name, num_epochs=30, patience=5):\n",
    "    best_val_accuracy = 0.0\n",
    "    trigger_times = 0\n",
    "    scaler = torch.cuda.amp.GradScaler()\n",
    "    activation_name = name\n",
    "\n",
    "    train_losses = []\n",
    "    val_losses = []\n",
    "\n",
    "    for epoch in range(num_epochs):\n",
    "        print(f'Epoch {epoch+1}/{num_epochs}')\n",
    "        print('-' * 10)\n",
    "\n",
    "        model.train()\n",
    "        running_loss = 0.0\n",
    "        running_corrects = 0\n",
    "        total_samples = 0\n",
    "\n",
    "        for inputs, labels in tqdm(train_loader, desc='Training', leave=False):\n",
    "            inputs = inputs.to(device, non_blocking=True)\n",
    "            labels = labels.to(device, non_blocking=True)\n",
    "\n",
    "            optimizer.zero_grad()\n",
    "\n",
    "            with torch.cuda.amp.autocast():\n",
    "                outputs = model(inputs).logits\n",
    "                loss = criterion(outputs, labels)\n",
    "                _, preds = torch.max(outputs, 1)\n",
    "\n",
    "            scaler.scale(loss).backward()\n",
    "            scaler.step(optimizer)\n",
    "            scaler.update()\n",
    "\n",
    "            running_loss += loss.item() * inputs.size(0)\n",
    "            running_corrects += torch.sum(preds == labels.data)\n",
    "            total_samples += inputs.size(0)\n",
    "\n",
    "        epoch_loss = running_loss / total_samples\n",
    "        epoch_acc = running_corrects.double() / total_samples\n",
    "\n",
    "        train_losses.append(epoch_loss)\n",
    "\n",
    "        print(f'Training Loss: {epoch_loss:.4f} Acc: {epoch_acc:.4f}')\n",
    "\n",
    "        model.eval()\n",
    "        val_running_loss = 0.0\n",
    "        val_running_corrects = 0\n",
    "        val_total_samples = 0\n",
    "\n",
    "        with torch.no_grad():\n",
    "            for inputs, labels in tqdm(val_loader, desc='Validation', leave=False):\n",
    "                inputs = inputs.to(device, non_blocking=True)\n",
    "                labels = labels.to(device, non_blocking=True)\n",
    "\n",
    "                with torch.cuda.amp.autocast():\n",
    "                    outputs = model(inputs).logits\n",
    "                    loss = criterion(outputs, labels)\n",
    "                    _, preds = torch.max(outputs, 1)\n",
    "\n",
    "                val_running_loss += loss.item() * inputs.size(0)\n",
    "                val_running_corrects += torch.sum(preds == labels.data)\n",
    "                val_total_samples += inputs.size(0)\n",
    "\n",
    "        if val_total_samples == 0:\n",
    "            print('No valid samples in validation set for this epoch.')\n",
    "            val_accuracy = 0.0\n",
    "            val_loss = 0.0\n",
    "        else:\n",
    "            val_accuracy = val_running_corrects.double() / val_total_samples\n",
    "            val_loss = val_running_loss / val_total_samples\n",
    "\n",
    "        val_losses.append(val_loss)\n",
    "\n",
    "        print(f'Validation Loss: {val_loss:.4f} Acc: {val_accuracy:.4f}')\n",
    "\n",
    "        if val_accuracy > best_val_accuracy:\n",
    "            best_val_accuracy = val_accuracy\n",
    "            torch.save(model.state_dict(), f'best_model_{activation_name}.pth')\n",
    "            print('Best model saved.')\n",
    "            trigger_times = 0\n",
    "        else:\n",
    "            trigger_times += 1\n",
    "            print(f'No improvement for {trigger_times} epoch(s).')\n",
    "\n",
    "            if trigger_times >= patience:\n",
    "                print('Early stopping triggered.')\n",
    "                break\n",
    "\n",
    "        scheduler.step()\n",
    "\n",
    "    print(f'[{activation_name}] Training complete. Best Validation Accuracy: {best_val_accuracy:.4f}')\n",
    "    return best_val_accuracy.item(), train_losses, val_losses\n",
    "\n",
    "activation_functions = {\n",
    "    'ReLU': nn.ReLU(),\n",
    "    'LeakyReLU': nn.LeakyReLU(),\n",
    "    'ELU': nn.ELU(),\n",
    "    'Sigmoid': nn.Sigmoid(),\n",
    "    'Tanh': nn.Tanh()\n",
    "}\n",
    "\n",
    "validation_accuracies = {}\n",
    "training_losses = {}\n",
    "validation_losses = {}\n",
    "\n",
    "for name, activation in activation_functions.items():\n",
    "    print(f'\\n=== Training with {name} activation ===\\n')\n",
    "\n",
    "    model = ViTForImageClassification.from_pretrained('google/vit-base-patch16-224')\n",
    "    model.classifier = nn.Sequential(\n",
    "        nn.Linear(model.config.hidden_size, 256),\n",
    "        activation,\n",
    "        nn.Dropout(0.3),\n",
    "        nn.Linear(256, num_classes)\n",
    "    )\n",
    "\n",
    "    for param in model.vit.parameters():\n",
    "        param.requires_grad = False\n",
    "\n",
    "    model.to(device)\n",
    "    optimizer = optim.AdamW(model.classifier.parameters(), lr=1e-3, weight_decay=0.01)\n",
    "    scheduler = optim.lr_scheduler.StepLR(optimizer, step_size=10, gamma=0.1)\n",
    "    criterion = nn.CrossEntropyLoss()\n",
    "    val_acc, train_loss, val_loss = train_model(model, train_loader, val_loader, criterion, optimizer, scheduler, device, name, num_epochs=30, patience=5)\n",
    "    validation_accuracies[name] = val_acc\n",
    "    training_losses[name] = train_loss\n",
    "    validation_losses[name] = val_loss\n",
    "\n",
    "with open('validation_accuracies.json', 'w') as f:\n",
    "    json.dump(validation_accuracies, f, indent=4)\n",
    "\n",
    "plt.figure(figsize=(12, 8))\n",
    "\n",
    "for name in activation_functions.keys():\n",
    "    epochs = range(1, len(training_losses[name]) + 1)\n",
    "    plt.plot(epochs, training_losses[name], label=f'{name} Train Loss')\n",
    "    plt.plot(epochs, validation_losses[name], linestyle='--', label=f'{name} Val Loss')\n",
    "\n",
    "plt.xlabel('Epoch')\n",
    "plt.ylabel('Loss')\n",
    "plt.title('Training and Validation Loss per Epoch for Different Activation Functions')\n",
    "plt.legend()\n",
    "plt.grid(True)\n",
    "plt.savefig('loss_comparison.png')\n",
    "plt.show()\n"
   ]
  },
  {
   "cell_type": "code",
   "execution_count": null,
   "metadata": {
    "id": "7WHfPEqoP2P5",
    "outputId": "57690e63-aa6f-4623-eaf2-e4109969779d"
   },
   "outputs": [
    {
     "data": {
      "text/plain": [
       "32"
      ]
     },
     "execution_count": 35,
     "metadata": {},
     "output_type": "execute_result"
    }
   ],
   "source": [
    "import gc\n",
    "torch.cuda.empty_cache()\n",
    "gc.collect()"
   ]
  }
 ],
 "metadata": {
  "accelerator": "GPU",
  "colab": {
   "gpuType": "T4",
   "provenance": []
  },
  "kernelspec": {
   "display_name": "Python 3",
   "name": "python3"
  },
  "language_info": {
   "codemirror_mode": {
    "name": "ipython",
    "version": 3
   },
   "file_extension": ".py",
   "mimetype": "text/x-python",
   "name": "python",
   "nbconvert_exporter": "python",
   "pygments_lexer": "ipython3",
   "version": "3.11.0"
  },
  "widgets": {
   "application/vnd.jupyter.widget-state+json": {
    "04213c4d61c24d7980b408eccf8c8398": {
     "model_module": "@jupyter-widgets/base",
     "model_module_version": "1.2.0",
     "model_name": "LayoutModel",
     "state": {
      "_model_module": "@jupyter-widgets/base",
      "_model_module_version": "1.2.0",
      "_model_name": "LayoutModel",
      "_view_count": null,
      "_view_module": "@jupyter-widgets/base",
      "_view_module_version": "1.2.0",
      "_view_name": "LayoutView",
      "align_content": null,
      "align_items": null,
      "align_self": null,
      "border": null,
      "bottom": null,
      "display": null,
      "flex": null,
      "flex_flow": null,
      "grid_area": null,
      "grid_auto_columns": null,
      "grid_auto_flow": null,
      "grid_auto_rows": null,
      "grid_column": null,
      "grid_gap": null,
      "grid_row": null,
      "grid_template_areas": null,
      "grid_template_columns": null,
      "grid_template_rows": null,
      "height": null,
      "justify_content": null,
      "justify_items": null,
      "left": null,
      "margin": null,
      "max_height": null,
      "max_width": null,
      "min_height": null,
      "min_width": null,
      "object_fit": null,
      "object_position": null,
      "order": null,
      "overflow": null,
      "overflow_x": null,
      "overflow_y": null,
      "padding": null,
      "right": null,
      "top": null,
      "visibility": null,
      "width": null
     }
    },
    "0c5a7ec27b264a01bd1f98f60c5cb60c": {
     "model_module": "@jupyter-widgets/controls",
     "model_module_version": "1.5.0",
     "model_name": "ProgressStyleModel",
     "state": {
      "_model_module": "@jupyter-widgets/controls",
      "_model_module_version": "1.5.0",
      "_model_name": "ProgressStyleModel",
      "_view_count": null,
      "_view_module": "@jupyter-widgets/base",
      "_view_module_version": "1.2.0",
      "_view_name": "StyleView",
      "bar_color": null,
      "description_width": ""
     }
    },
    "118e0589ffcd44789436783dad66b0a8": {
     "model_module": "@jupyter-widgets/base",
     "model_module_version": "1.2.0",
     "model_name": "LayoutModel",
     "state": {
      "_model_module": "@jupyter-widgets/base",
      "_model_module_version": "1.2.0",
      "_model_name": "LayoutModel",
      "_view_count": null,
      "_view_module": "@jupyter-widgets/base",
      "_view_module_version": "1.2.0",
      "_view_name": "LayoutView",
      "align_content": null,
      "align_items": null,
      "align_self": null,
      "border": null,
      "bottom": null,
      "display": null,
      "flex": null,
      "flex_flow": null,
      "grid_area": null,
      "grid_auto_columns": null,
      "grid_auto_flow": null,
      "grid_auto_rows": null,
      "grid_column": null,
      "grid_gap": null,
      "grid_row": null,
      "grid_template_areas": null,
      "grid_template_columns": null,
      "grid_template_rows": null,
      "height": null,
      "justify_content": null,
      "justify_items": null,
      "left": null,
      "margin": null,
      "max_height": null,
      "max_width": null,
      "min_height": null,
      "min_width": null,
      "object_fit": null,
      "object_position": null,
      "order": null,
      "overflow": null,
      "overflow_x": null,
      "overflow_y": null,
      "padding": null,
      "right": null,
      "top": null,
      "visibility": null,
      "width": null
     }
    },
    "1c086fb492bf4ea095eccde8f1e444ca": {
     "model_module": "@jupyter-widgets/base",
     "model_module_version": "1.2.0",
     "model_name": "LayoutModel",
     "state": {
      "_model_module": "@jupyter-widgets/base",
      "_model_module_version": "1.2.0",
      "_model_name": "LayoutModel",
      "_view_count": null,
      "_view_module": "@jupyter-widgets/base",
      "_view_module_version": "1.2.0",
      "_view_name": "LayoutView",
      "align_content": null,
      "align_items": null,
      "align_self": null,
      "border": null,
      "bottom": null,
      "display": null,
      "flex": null,
      "flex_flow": null,
      "grid_area": null,
      "grid_auto_columns": null,
      "grid_auto_flow": null,
      "grid_auto_rows": null,
      "grid_column": null,
      "grid_gap": null,
      "grid_row": null,
      "grid_template_areas": null,
      "grid_template_columns": null,
      "grid_template_rows": null,
      "height": null,
      "justify_content": null,
      "justify_items": null,
      "left": null,
      "margin": null,
      "max_height": null,
      "max_width": null,
      "min_height": null,
      "min_width": null,
      "object_fit": null,
      "object_position": null,
      "order": null,
      "overflow": null,
      "overflow_x": null,
      "overflow_y": null,
      "padding": null,
      "right": null,
      "top": null,
      "visibility": null,
      "width": null
     }
    },
    "2644445370c946278267dc8cec4a48dc": {
     "model_module": "@jupyter-widgets/controls",
     "model_module_version": "1.5.0",
     "model_name": "FloatProgressModel",
     "state": {
      "_dom_classes": [],
      "_model_module": "@jupyter-widgets/controls",
      "_model_module_version": "1.5.0",
      "_model_name": "FloatProgressModel",
      "_view_count": null,
      "_view_module": "@jupyter-widgets/controls",
      "_view_module_version": "1.5.0",
      "_view_name": "ProgressView",
      "bar_style": "success",
      "description": "",
      "description_tooltip": null,
      "layout": "IPY_MODEL_04213c4d61c24d7980b408eccf8c8398",
      "max": 69665,
      "min": 0,
      "orientation": "horizontal",
      "style": "IPY_MODEL_0c5a7ec27b264a01bd1f98f60c5cb60c",
      "value": 69665
     }
    },
    "3ae3606b68844c9c85e0682f004d8850": {
     "model_module": "@jupyter-widgets/controls",
     "model_module_version": "1.5.0",
     "model_name": "DescriptionStyleModel",
     "state": {
      "_model_module": "@jupyter-widgets/controls",
      "_model_module_version": "1.5.0",
      "_model_name": "DescriptionStyleModel",
      "_view_count": null,
      "_view_module": "@jupyter-widgets/base",
      "_view_module_version": "1.2.0",
      "_view_name": "StyleView",
      "description_width": ""
     }
    },
    "48bc7c923f8e418eaf6ca3bab8f0bc0d": {
     "model_module": "@jupyter-widgets/controls",
     "model_module_version": "1.5.0",
     "model_name": "ProgressStyleModel",
     "state": {
      "_model_module": "@jupyter-widgets/controls",
      "_model_module_version": "1.5.0",
      "_model_name": "ProgressStyleModel",
      "_view_count": null,
      "_view_module": "@jupyter-widgets/base",
      "_view_module_version": "1.2.0",
      "_view_name": "StyleView",
      "bar_color": null,
      "description_width": ""
     }
    },
    "50b70d6898e24cb58b6024a91314e84e": {
     "model_module": "@jupyter-widgets/base",
     "model_module_version": "1.2.0",
     "model_name": "LayoutModel",
     "state": {
      "_model_module": "@jupyter-widgets/base",
      "_model_module_version": "1.2.0",
      "_model_name": "LayoutModel",
      "_view_count": null,
      "_view_module": "@jupyter-widgets/base",
      "_view_module_version": "1.2.0",
      "_view_name": "LayoutView",
      "align_content": null,
      "align_items": null,
      "align_self": null,
      "border": null,
      "bottom": null,
      "display": null,
      "flex": null,
      "flex_flow": null,
      "grid_area": null,
      "grid_auto_columns": null,
      "grid_auto_flow": null,
      "grid_auto_rows": null,
      "grid_column": null,
      "grid_gap": null,
      "grid_row": null,
      "grid_template_areas": null,
      "grid_template_columns": null,
      "grid_template_rows": null,
      "height": null,
      "justify_content": null,
      "justify_items": null,
      "left": null,
      "margin": null,
      "max_height": null,
      "max_width": null,
      "min_height": null,
      "min_width": null,
      "object_fit": null,
      "object_position": null,
      "order": null,
      "overflow": null,
      "overflow_x": null,
      "overflow_y": null,
      "padding": null,
      "right": null,
      "top": null,
      "visibility": null,
      "width": null
     }
    },
    "50c6ce8756e34573841b0219d8812c54": {
     "model_module": "@jupyter-widgets/controls",
     "model_module_version": "1.5.0",
     "model_name": "HTMLModel",
     "state": {
      "_dom_classes": [],
      "_model_module": "@jupyter-widgets/controls",
      "_model_module_version": "1.5.0",
      "_model_name": "HTMLModel",
      "_view_count": null,
      "_view_module": "@jupyter-widgets/controls",
      "_view_module_version": "1.5.0",
      "_view_name": "HTMLView",
      "description": "",
      "description_tooltip": null,
      "layout": "IPY_MODEL_c0d6265587ac4bd3b976767be39d8f9d",
      "placeholder": "​",
      "style": "IPY_MODEL_d951891fd30c48ae9571dfc4c1d5e512",
      "value": " 160/160 [00:00&lt;00:00, 4.22kB/s]"
     }
    },
    "53fb43aa67854675b23fdc66d0fac760": {
     "model_module": "@jupyter-widgets/controls",
     "model_module_version": "1.5.0",
     "model_name": "HTMLModel",
     "state": {
      "_dom_classes": [],
      "_model_module": "@jupyter-widgets/controls",
      "_model_module_version": "1.5.0",
      "_model_name": "HTMLModel",
      "_view_count": null,
      "_view_module": "@jupyter-widgets/controls",
      "_view_module_version": "1.5.0",
      "_view_name": "HTMLView",
      "description": "",
      "description_tooltip": null,
      "layout": "IPY_MODEL_c64cff60226e4b00b6eed3c508f4ad8c",
      "placeholder": "​",
      "style": "IPY_MODEL_e041b77b2e7f4c208f3a07b4c1ca0161",
      "value": "preprocessor_config.json: 100%"
     }
    },
    "544e819a2344489a9f524564723f7b3d": {
     "model_module": "@jupyter-widgets/controls",
     "model_module_version": "1.5.0",
     "model_name": "DescriptionStyleModel",
     "state": {
      "_model_module": "@jupyter-widgets/controls",
      "_model_module_version": "1.5.0",
      "_model_name": "DescriptionStyleModel",
      "_view_count": null,
      "_view_module": "@jupyter-widgets/base",
      "_view_module_version": "1.2.0",
      "_view_name": "StyleView",
      "description_width": ""
     }
    },
    "5c4502df28a94f6f873235cc7ed8690d": {
     "model_module": "@jupyter-widgets/controls",
     "model_module_version": "1.5.0",
     "model_name": "HTMLModel",
     "state": {
      "_dom_classes": [],
      "_model_module": "@jupyter-widgets/controls",
      "_model_module_version": "1.5.0",
      "_model_name": "HTMLModel",
      "_view_count": null,
      "_view_module": "@jupyter-widgets/controls",
      "_view_module_version": "1.5.0",
      "_view_name": "HTMLView",
      "description": "",
      "description_tooltip": null,
      "layout": "IPY_MODEL_50b70d6898e24cb58b6024a91314e84e",
      "placeholder": "​",
      "style": "IPY_MODEL_6710d0ff98974d41aace0b467e42eb1b",
      "value": " 69.7k/69.7k [00:00&lt;00:00, 2.64MB/s]"
     }
    },
    "6710d0ff98974d41aace0b467e42eb1b": {
     "model_module": "@jupyter-widgets/controls",
     "model_module_version": "1.5.0",
     "model_name": "DescriptionStyleModel",
     "state": {
      "_model_module": "@jupyter-widgets/controls",
      "_model_module_version": "1.5.0",
      "_model_name": "DescriptionStyleModel",
      "_view_count": null,
      "_view_module": "@jupyter-widgets/base",
      "_view_module_version": "1.2.0",
      "_view_name": "StyleView",
      "description_width": ""
     }
    },
    "6da7e6cd9f8843b581c50df3d74b7d24": {
     "model_module": "@jupyter-widgets/controls",
     "model_module_version": "1.5.0",
     "model_name": "ProgressStyleModel",
     "state": {
      "_model_module": "@jupyter-widgets/controls",
      "_model_module_version": "1.5.0",
      "_model_name": "ProgressStyleModel",
      "_view_count": null,
      "_view_module": "@jupyter-widgets/base",
      "_view_module_version": "1.2.0",
      "_view_name": "StyleView",
      "bar_color": null,
      "description_width": ""
     }
    },
    "73f266fde9f84d34b0afe69edddceb9f": {
     "model_module": "@jupyter-widgets/base",
     "model_module_version": "1.2.0",
     "model_name": "LayoutModel",
     "state": {
      "_model_module": "@jupyter-widgets/base",
      "_model_module_version": "1.2.0",
      "_model_name": "LayoutModel",
      "_view_count": null,
      "_view_module": "@jupyter-widgets/base",
      "_view_module_version": "1.2.0",
      "_view_name": "LayoutView",
      "align_content": null,
      "align_items": null,
      "align_self": null,
      "border": null,
      "bottom": null,
      "display": null,
      "flex": null,
      "flex_flow": null,
      "grid_area": null,
      "grid_auto_columns": null,
      "grid_auto_flow": null,
      "grid_auto_rows": null,
      "grid_column": null,
      "grid_gap": null,
      "grid_row": null,
      "grid_template_areas": null,
      "grid_template_columns": null,
      "grid_template_rows": null,
      "height": null,
      "justify_content": null,
      "justify_items": null,
      "left": null,
      "margin": null,
      "max_height": null,
      "max_width": null,
      "min_height": null,
      "min_width": null,
      "object_fit": null,
      "object_position": null,
      "order": null,
      "overflow": null,
      "overflow_x": null,
      "overflow_y": null,
      "padding": null,
      "right": null,
      "top": null,
      "visibility": null,
      "width": null
     }
    },
    "7e4d991982ca4bb78bd11bb8e769a14e": {
     "model_module": "@jupyter-widgets/controls",
     "model_module_version": "1.5.0",
     "model_name": "HTMLModel",
     "state": {
      "_dom_classes": [],
      "_model_module": "@jupyter-widgets/controls",
      "_model_module_version": "1.5.0",
      "_model_name": "HTMLModel",
      "_view_count": null,
      "_view_module": "@jupyter-widgets/controls",
      "_view_module_version": "1.5.0",
      "_view_name": "HTMLView",
      "description": "",
      "description_tooltip": null,
      "layout": "IPY_MODEL_bbe7b2eb546442ae837844f1992b8429",
      "placeholder": "​",
      "style": "IPY_MODEL_544e819a2344489a9f524564723f7b3d",
      "value": " 346M/346M [00:02&lt;00:00, 204MB/s]"
     }
    },
    "94a1401b95174bcfba6b93ba1137b5bc": {
     "model_module": "@jupyter-widgets/base",
     "model_module_version": "1.2.0",
     "model_name": "LayoutModel",
     "state": {
      "_model_module": "@jupyter-widgets/base",
      "_model_module_version": "1.2.0",
      "_model_name": "LayoutModel",
      "_view_count": null,
      "_view_module": "@jupyter-widgets/base",
      "_view_module_version": "1.2.0",
      "_view_name": "LayoutView",
      "align_content": null,
      "align_items": null,
      "align_self": null,
      "border": null,
      "bottom": null,
      "display": null,
      "flex": null,
      "flex_flow": null,
      "grid_area": null,
      "grid_auto_columns": null,
      "grid_auto_flow": null,
      "grid_auto_rows": null,
      "grid_column": null,
      "grid_gap": null,
      "grid_row": null,
      "grid_template_areas": null,
      "grid_template_columns": null,
      "grid_template_rows": null,
      "height": null,
      "justify_content": null,
      "justify_items": null,
      "left": null,
      "margin": null,
      "max_height": null,
      "max_width": null,
      "min_height": null,
      "min_width": null,
      "object_fit": null,
      "object_position": null,
      "order": null,
      "overflow": null,
      "overflow_x": null,
      "overflow_y": null,
      "padding": null,
      "right": null,
      "top": null,
      "visibility": null,
      "width": null
     }
    },
    "9546d0b763264fdcb817ba01d48c6703": {
     "model_module": "@jupyter-widgets/controls",
     "model_module_version": "1.5.0",
     "model_name": "FloatProgressModel",
     "state": {
      "_dom_classes": [],
      "_model_module": "@jupyter-widgets/controls",
      "_model_module_version": "1.5.0",
      "_model_name": "FloatProgressModel",
      "_view_count": null,
      "_view_module": "@jupyter-widgets/controls",
      "_view_module_version": "1.5.0",
      "_view_name": "ProgressView",
      "bar_style": "success",
      "description": "",
      "description_tooltip": null,
      "layout": "IPY_MODEL_ff86fd03919e4b27b01e6409e790f3da",
      "max": 160,
      "min": 0,
      "orientation": "horizontal",
      "style": "IPY_MODEL_6da7e6cd9f8843b581c50df3d74b7d24",
      "value": 160
     }
    },
    "a0ba569f8e524153bba9f61ff967e90c": {
     "model_module": "@jupyter-widgets/controls",
     "model_module_version": "1.5.0",
     "model_name": "HTMLModel",
     "state": {
      "_dom_classes": [],
      "_model_module": "@jupyter-widgets/controls",
      "_model_module_version": "1.5.0",
      "_model_name": "HTMLModel",
      "_view_count": null,
      "_view_module": "@jupyter-widgets/controls",
      "_view_module_version": "1.5.0",
      "_view_name": "HTMLView",
      "description": "",
      "description_tooltip": null,
      "layout": "IPY_MODEL_118e0589ffcd44789436783dad66b0a8",
      "placeholder": "​",
      "style": "IPY_MODEL_3ae3606b68844c9c85e0682f004d8850",
      "value": "model.safetensors: 100%"
     }
    },
    "a2a92135970e4fa1b6ac41b3ab8409e8": {
     "model_module": "@jupyter-widgets/base",
     "model_module_version": "1.2.0",
     "model_name": "LayoutModel",
     "state": {
      "_model_module": "@jupyter-widgets/base",
      "_model_module_version": "1.2.0",
      "_model_name": "LayoutModel",
      "_view_count": null,
      "_view_module": "@jupyter-widgets/base",
      "_view_module_version": "1.2.0",
      "_view_name": "LayoutView",
      "align_content": null,
      "align_items": null,
      "align_self": null,
      "border": null,
      "bottom": null,
      "display": null,
      "flex": null,
      "flex_flow": null,
      "grid_area": null,
      "grid_auto_columns": null,
      "grid_auto_flow": null,
      "grid_auto_rows": null,
      "grid_column": null,
      "grid_gap": null,
      "grid_row": null,
      "grid_template_areas": null,
      "grid_template_columns": null,
      "grid_template_rows": null,
      "height": null,
      "justify_content": null,
      "justify_items": null,
      "left": null,
      "margin": null,
      "max_height": null,
      "max_width": null,
      "min_height": null,
      "min_width": null,
      "object_fit": null,
      "object_position": null,
      "order": null,
      "overflow": null,
      "overflow_x": null,
      "overflow_y": null,
      "padding": null,
      "right": null,
      "top": null,
      "visibility": null,
      "width": null
     }
    },
    "af5efe45c24941afa69471dacc2b9228": {
     "model_module": "@jupyter-widgets/controls",
     "model_module_version": "1.5.0",
     "model_name": "DescriptionStyleModel",
     "state": {
      "_model_module": "@jupyter-widgets/controls",
      "_model_module_version": "1.5.0",
      "_model_name": "DescriptionStyleModel",
      "_view_count": null,
      "_view_module": "@jupyter-widgets/base",
      "_view_module_version": "1.2.0",
      "_view_name": "StyleView",
      "description_width": ""
     }
    },
    "bbe7b2eb546442ae837844f1992b8429": {
     "model_module": "@jupyter-widgets/base",
     "model_module_version": "1.2.0",
     "model_name": "LayoutModel",
     "state": {
      "_model_module": "@jupyter-widgets/base",
      "_model_module_version": "1.2.0",
      "_model_name": "LayoutModel",
      "_view_count": null,
      "_view_module": "@jupyter-widgets/base",
      "_view_module_version": "1.2.0",
      "_view_name": "LayoutView",
      "align_content": null,
      "align_items": null,
      "align_self": null,
      "border": null,
      "bottom": null,
      "display": null,
      "flex": null,
      "flex_flow": null,
      "grid_area": null,
      "grid_auto_columns": null,
      "grid_auto_flow": null,
      "grid_auto_rows": null,
      "grid_column": null,
      "grid_gap": null,
      "grid_row": null,
      "grid_template_areas": null,
      "grid_template_columns": null,
      "grid_template_rows": null,
      "height": null,
      "justify_content": null,
      "justify_items": null,
      "left": null,
      "margin": null,
      "max_height": null,
      "max_width": null,
      "min_height": null,
      "min_width": null,
      "object_fit": null,
      "object_position": null,
      "order": null,
      "overflow": null,
      "overflow_x": null,
      "overflow_y": null,
      "padding": null,
      "right": null,
      "top": null,
      "visibility": null,
      "width": null
     }
    },
    "c0d6265587ac4bd3b976767be39d8f9d": {
     "model_module": "@jupyter-widgets/base",
     "model_module_version": "1.2.0",
     "model_name": "LayoutModel",
     "state": {
      "_model_module": "@jupyter-widgets/base",
      "_model_module_version": "1.2.0",
      "_model_name": "LayoutModel",
      "_view_count": null,
      "_view_module": "@jupyter-widgets/base",
      "_view_module_version": "1.2.0",
      "_view_name": "LayoutView",
      "align_content": null,
      "align_items": null,
      "align_self": null,
      "border": null,
      "bottom": null,
      "display": null,
      "flex": null,
      "flex_flow": null,
      "grid_area": null,
      "grid_auto_columns": null,
      "grid_auto_flow": null,
      "grid_auto_rows": null,
      "grid_column": null,
      "grid_gap": null,
      "grid_row": null,
      "grid_template_areas": null,
      "grid_template_columns": null,
      "grid_template_rows": null,
      "height": null,
      "justify_content": null,
      "justify_items": null,
      "left": null,
      "margin": null,
      "max_height": null,
      "max_width": null,
      "min_height": null,
      "min_width": null,
      "object_fit": null,
      "object_position": null,
      "order": null,
      "overflow": null,
      "overflow_x": null,
      "overflow_y": null,
      "padding": null,
      "right": null,
      "top": null,
      "visibility": null,
      "width": null
     }
    },
    "c64cff60226e4b00b6eed3c508f4ad8c": {
     "model_module": "@jupyter-widgets/base",
     "model_module_version": "1.2.0",
     "model_name": "LayoutModel",
     "state": {
      "_model_module": "@jupyter-widgets/base",
      "_model_module_version": "1.2.0",
      "_model_name": "LayoutModel",
      "_view_count": null,
      "_view_module": "@jupyter-widgets/base",
      "_view_module_version": "1.2.0",
      "_view_name": "LayoutView",
      "align_content": null,
      "align_items": null,
      "align_self": null,
      "border": null,
      "bottom": null,
      "display": null,
      "flex": null,
      "flex_flow": null,
      "grid_area": null,
      "grid_auto_columns": null,
      "grid_auto_flow": null,
      "grid_auto_rows": null,
      "grid_column": null,
      "grid_gap": null,
      "grid_row": null,
      "grid_template_areas": null,
      "grid_template_columns": null,
      "grid_template_rows": null,
      "height": null,
      "justify_content": null,
      "justify_items": null,
      "left": null,
      "margin": null,
      "max_height": null,
      "max_width": null,
      "min_height": null,
      "min_width": null,
      "object_fit": null,
      "object_position": null,
      "order": null,
      "overflow": null,
      "overflow_x": null,
      "overflow_y": null,
      "padding": null,
      "right": null,
      "top": null,
      "visibility": null,
      "width": null
     }
    },
    "c76f85729ddc497bbc00d78c964d4ff5": {
     "model_module": "@jupyter-widgets/controls",
     "model_module_version": "1.5.0",
     "model_name": "HBoxModel",
     "state": {
      "_dom_classes": [],
      "_model_module": "@jupyter-widgets/controls",
      "_model_module_version": "1.5.0",
      "_model_name": "HBoxModel",
      "_view_count": null,
      "_view_module": "@jupyter-widgets/controls",
      "_view_module_version": "1.5.0",
      "_view_name": "HBoxView",
      "box_style": "",
      "children": [
       "IPY_MODEL_a0ba569f8e524153bba9f61ff967e90c",
       "IPY_MODEL_fff6463acf0346b3991b0015b6d46284",
       "IPY_MODEL_7e4d991982ca4bb78bd11bb8e769a14e"
      ],
      "layout": "IPY_MODEL_cdba9dfed0a6497da621f39533cf2332"
     }
    },
    "cdba9dfed0a6497da621f39533cf2332": {
     "model_module": "@jupyter-widgets/base",
     "model_module_version": "1.2.0",
     "model_name": "LayoutModel",
     "state": {
      "_model_module": "@jupyter-widgets/base",
      "_model_module_version": "1.2.0",
      "_model_name": "LayoutModel",
      "_view_count": null,
      "_view_module": "@jupyter-widgets/base",
      "_view_module_version": "1.2.0",
      "_view_name": "LayoutView",
      "align_content": null,
      "align_items": null,
      "align_self": null,
      "border": null,
      "bottom": null,
      "display": null,
      "flex": null,
      "flex_flow": null,
      "grid_area": null,
      "grid_auto_columns": null,
      "grid_auto_flow": null,
      "grid_auto_rows": null,
      "grid_column": null,
      "grid_gap": null,
      "grid_row": null,
      "grid_template_areas": null,
      "grid_template_columns": null,
      "grid_template_rows": null,
      "height": null,
      "justify_content": null,
      "justify_items": null,
      "left": null,
      "margin": null,
      "max_height": null,
      "max_width": null,
      "min_height": null,
      "min_width": null,
      "object_fit": null,
      "object_position": null,
      "order": null,
      "overflow": null,
      "overflow_x": null,
      "overflow_y": null,
      "padding": null,
      "right": null,
      "top": null,
      "visibility": null,
      "width": null
     }
    },
    "d2909681ddd746299ba96ac28a770317": {
     "model_module": "@jupyter-widgets/controls",
     "model_module_version": "1.5.0",
     "model_name": "HBoxModel",
     "state": {
      "_dom_classes": [],
      "_model_module": "@jupyter-widgets/controls",
      "_model_module_version": "1.5.0",
      "_model_name": "HBoxModel",
      "_view_count": null,
      "_view_module": "@jupyter-widgets/controls",
      "_view_module_version": "1.5.0",
      "_view_name": "HBoxView",
      "box_style": "",
      "children": [
       "IPY_MODEL_53fb43aa67854675b23fdc66d0fac760",
       "IPY_MODEL_9546d0b763264fdcb817ba01d48c6703",
       "IPY_MODEL_50c6ce8756e34573841b0219d8812c54"
      ],
      "layout": "IPY_MODEL_73f266fde9f84d34b0afe69edddceb9f"
     }
    },
    "d43a174d3779424b959923194a9f3336": {
     "model_module": "@jupyter-widgets/controls",
     "model_module_version": "1.5.0",
     "model_name": "HBoxModel",
     "state": {
      "_dom_classes": [],
      "_model_module": "@jupyter-widgets/controls",
      "_model_module_version": "1.5.0",
      "_model_name": "HBoxModel",
      "_view_count": null,
      "_view_module": "@jupyter-widgets/controls",
      "_view_module_version": "1.5.0",
      "_view_name": "HBoxView",
      "box_style": "",
      "children": [
       "IPY_MODEL_e1ec46c702ca48f3ace2b22dd32e7791",
       "IPY_MODEL_2644445370c946278267dc8cec4a48dc",
       "IPY_MODEL_5c4502df28a94f6f873235cc7ed8690d"
      ],
      "layout": "IPY_MODEL_94a1401b95174bcfba6b93ba1137b5bc"
     }
    },
    "d951891fd30c48ae9571dfc4c1d5e512": {
     "model_module": "@jupyter-widgets/controls",
     "model_module_version": "1.5.0",
     "model_name": "DescriptionStyleModel",
     "state": {
      "_model_module": "@jupyter-widgets/controls",
      "_model_module_version": "1.5.0",
      "_model_name": "DescriptionStyleModel",
      "_view_count": null,
      "_view_module": "@jupyter-widgets/base",
      "_view_module_version": "1.2.0",
      "_view_name": "StyleView",
      "description_width": ""
     }
    },
    "e041b77b2e7f4c208f3a07b4c1ca0161": {
     "model_module": "@jupyter-widgets/controls",
     "model_module_version": "1.5.0",
     "model_name": "DescriptionStyleModel",
     "state": {
      "_model_module": "@jupyter-widgets/controls",
      "_model_module_version": "1.5.0",
      "_model_name": "DescriptionStyleModel",
      "_view_count": null,
      "_view_module": "@jupyter-widgets/base",
      "_view_module_version": "1.2.0",
      "_view_name": "StyleView",
      "description_width": ""
     }
    },
    "e1ec46c702ca48f3ace2b22dd32e7791": {
     "model_module": "@jupyter-widgets/controls",
     "model_module_version": "1.5.0",
     "model_name": "HTMLModel",
     "state": {
      "_dom_classes": [],
      "_model_module": "@jupyter-widgets/controls",
      "_model_module_version": "1.5.0",
      "_model_name": "HTMLModel",
      "_view_count": null,
      "_view_module": "@jupyter-widgets/controls",
      "_view_module_version": "1.5.0",
      "_view_name": "HTMLView",
      "description": "",
      "description_tooltip": null,
      "layout": "IPY_MODEL_1c086fb492bf4ea095eccde8f1e444ca",
      "placeholder": "​",
      "style": "IPY_MODEL_af5efe45c24941afa69471dacc2b9228",
      "value": "config.json: 100%"
     }
    },
    "ff86fd03919e4b27b01e6409e790f3da": {
     "model_module": "@jupyter-widgets/base",
     "model_module_version": "1.2.0",
     "model_name": "LayoutModel",
     "state": {
      "_model_module": "@jupyter-widgets/base",
      "_model_module_version": "1.2.0",
      "_model_name": "LayoutModel",
      "_view_count": null,
      "_view_module": "@jupyter-widgets/base",
      "_view_module_version": "1.2.0",
      "_view_name": "LayoutView",
      "align_content": null,
      "align_items": null,
      "align_self": null,
      "border": null,
      "bottom": null,
      "display": null,
      "flex": null,
      "flex_flow": null,
      "grid_area": null,
      "grid_auto_columns": null,
      "grid_auto_flow": null,
      "grid_auto_rows": null,
      "grid_column": null,
      "grid_gap": null,
      "grid_row": null,
      "grid_template_areas": null,
      "grid_template_columns": null,
      "grid_template_rows": null,
      "height": null,
      "justify_content": null,
      "justify_items": null,
      "left": null,
      "margin": null,
      "max_height": null,
      "max_width": null,
      "min_height": null,
      "min_width": null,
      "object_fit": null,
      "object_position": null,
      "order": null,
      "overflow": null,
      "overflow_x": null,
      "overflow_y": null,
      "padding": null,
      "right": null,
      "top": null,
      "visibility": null,
      "width": null
     }
    },
    "fff6463acf0346b3991b0015b6d46284": {
     "model_module": "@jupyter-widgets/controls",
     "model_module_version": "1.5.0",
     "model_name": "FloatProgressModel",
     "state": {
      "_dom_classes": [],
      "_model_module": "@jupyter-widgets/controls",
      "_model_module_version": "1.5.0",
      "_model_name": "FloatProgressModel",
      "_view_count": null,
      "_view_module": "@jupyter-widgets/controls",
      "_view_module_version": "1.5.0",
      "_view_name": "ProgressView",
      "bar_style": "success",
      "description": "",
      "description_tooltip": null,
      "layout": "IPY_MODEL_a2a92135970e4fa1b6ac41b3ab8409e8",
      "max": 346293852,
      "min": 0,
      "orientation": "horizontal",
      "style": "IPY_MODEL_48bc7c923f8e418eaf6ca3bab8f0bc0d",
      "value": 346293852
     }
    }
   }
  }
 },
 "nbformat": 4,
 "nbformat_minor": 0
}
