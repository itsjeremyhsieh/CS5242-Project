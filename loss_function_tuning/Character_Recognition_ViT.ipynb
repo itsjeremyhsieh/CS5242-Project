{
 "cells": [
  {
   "cell_type": "code",
   "execution_count": 5,
   "metadata": {},
   "outputs": [],
   "source": [
    "import os\n",
    "os.chdir(\"C:/Users/Victor/Documents/CS Masters/CS5242 - Neural Networks and Deep Learning/CS5242-Project\")"
   ]
  },
  {
   "cell_type": "code",
   "execution_count": 6,
   "metadata": {},
   "outputs": [],
   "source": [
    "# Imports\n",
    "import os\n",
    "import torch\n",
    "import torch.optim as optim\n",
    "import torch.nn as nn\n",
    "import shutil\n",
    "import numpy as np\n",
    "import torchvision\n",
    "import albumentations as A\n",
    "import gc\n",
    "import matplotlib.pyplot as plt\n",
    "\n",
    "from data_augmentation import augmentation\n",
    "from torchvision.datasets import ImageFolder\n",
    "from torch.utils.data import DataLoader\n",
    "from torchvision import transforms\n",
    "from transformers import ViTForImageClassification\n",
    "from tqdm import tqdm\n",
    "from sklearn.model_selection import train_test_split"
   ]
  },
  {
   "cell_type": "code",
   "execution_count": 7,
   "metadata": {},
   "outputs": [
    {
     "data": {
      "text/plain": [
       "ViTForImageClassification(\n",
       "  (vit): ViTModel(\n",
       "    (embeddings): ViTEmbeddings(\n",
       "      (patch_embeddings): ViTPatchEmbeddings(\n",
       "        (projection): Conv2d(3, 768, kernel_size=(16, 16), stride=(16, 16))\n",
       "      )\n",
       "      (dropout): Dropout(p=0.0, inplace=False)\n",
       "    )\n",
       "    (encoder): ViTEncoder(\n",
       "      (layer): ModuleList(\n",
       "        (0-11): 12 x ViTLayer(\n",
       "          (attention): ViTSdpaAttention(\n",
       "            (attention): ViTSdpaSelfAttention(\n",
       "              (query): Linear(in_features=768, out_features=768, bias=True)\n",
       "              (key): Linear(in_features=768, out_features=768, bias=True)\n",
       "              (value): Linear(in_features=768, out_features=768, bias=True)\n",
       "              (dropout): Dropout(p=0.0, inplace=False)\n",
       "            )\n",
       "            (output): ViTSelfOutput(\n",
       "              (dense): Linear(in_features=768, out_features=768, bias=True)\n",
       "              (dropout): Dropout(p=0.0, inplace=False)\n",
       "            )\n",
       "          )\n",
       "          (intermediate): ViTIntermediate(\n",
       "            (dense): Linear(in_features=768, out_features=3072, bias=True)\n",
       "            (intermediate_act_fn): GELUActivation()\n",
       "          )\n",
       "          (output): ViTOutput(\n",
       "            (dense): Linear(in_features=3072, out_features=768, bias=True)\n",
       "            (dropout): Dropout(p=0.0, inplace=False)\n",
       "          )\n",
       "          (layernorm_before): LayerNorm((768,), eps=1e-12, elementwise_affine=True)\n",
       "          (layernorm_after): LayerNorm((768,), eps=1e-12, elementwise_affine=True)\n",
       "        )\n",
       "      )\n",
       "    )\n",
       "    (layernorm): LayerNorm((768,), eps=1e-12, elementwise_affine=True)\n",
       "  )\n",
       "  (classifier): Linear(in_features=768, out_features=1000, bias=True)\n",
       ")"
      ]
     },
     "execution_count": 7,
     "metadata": {},
     "output_type": "execute_result"
    }
   ],
   "source": [
    "device = torch.device('cuda' if torch.cuda.is_available() else 'cpu')\n",
    "\n",
    "model = ViTForImageClassification.from_pretrained('google/vit-base-patch16-224')\n",
    "model.to(device)"
   ]
  },
  {
   "cell_type": "markdown",
   "metadata": {},
   "source": [
    "## Data Preperation"
   ]
  },
  {
   "cell_type": "code",
   "execution_count": 7,
   "metadata": {},
   "outputs": [
    {
     "name": "stdout",
     "output_type": "stream",
     "text": [
      "Processed 1.jpg_person_0.jpg\n",
      "Processed 123.jpg_person_0.jpg\n",
      "Processed 1234.jpg\n",
      "Processed 1528299.jpg_person_0.jpg\n",
      "Processed 1k1tus74c44c1.jpg_person_0.jpg\n",
      "Processed 20240521_664c62af13e2b.jpg_person_0.jpg\n",
      "Processed 20240521_664c62b0a10df.jpg_person_0.jpg\n",
      "Processed 2d7e8fd5c08794cdb6efffb9d3e864f1_573116708228114109.jpg\n",
      "Processed 470570.jpg\n",
      "Processed 4d273b13111fd010b9d2ebc66d797027.jpg_person_0.jpg\n",
      "Processed 4f743c664e576f0453a417a79fb223db_2156934232139002302.jpg_person_0.jpg\n",
      "Processed 4l3uc8z96rz91.jpg_person_0.jpg\n",
      "Processed 57002ey.jpg\n",
      "Processed 5_f4b100cf-c9be-4efe-81e3-de6c9f1939b9.jpg_person_0.jpg\n",
      "Processed 640x640q90.jpg\n",
      "Processed 67087ef0efa502d7edb27ca561413c93.jpg_person_0.jpg\n",
      "Processed 815818012ab7c5b5832be3ea2cbf994a_6081765440921617244.jpg_person_0.jpg\n",
      "Processed 89c158a4ba8bc1638a057724a23c405a.jpg_person_0.jpg\n",
      "Processed b05db2010dd6aa3bd72385a3bc176f54_1148165468859077393.jpg_person_0.jpg\n",
      "Processed c29821593aeaf5490b122befc2f8a545_580631687357654309.jpg\n",
      "Processed CGI209DR_width_600_height_880.jpg_person_0.jpg\n",
      "Processed dori-cosplay-by-fraurinr8z82iq20a1.jpg\n",
      "Processed dori-cosplay-by-fraurinr8z82iq20a1.jpg_person_0.jpg\n",
      "Processed dori-cosplay-ig-v0-enfd0ujdzryc1.jpg_person_0.jpg\n",
      "Processed e9a738b014ab8832f1417f88d44e795e.jpg_person_0.jpg\n",
      "Processed eaksrmkk4b1.jpg_person_0.jpg\n",
      "Processed F2Xda5Nb0AAMxrR.jpg_person_0.jpg\n",
      "Processed FcQ_dQLWIAE-009.jpg_person_0.jpg\n",
      "Processed fleamarket.jpg\n",
      "Processed Full-Set.jpg\n",
      "Processed Genshin-Impact-Dori-Cosplay-Contact-Lenses-22.jpg_person_0.jpg\n",
      "Processed GenshinImpactDoriCosplayCostumessy.jpg_person_0.jpg\n",
      "Processed genshin_impact_dori_cosplay_1668317345_90ced54f_progressive.jpg_person_0.jpg\n",
      "Processed google_0000.jpg_person_0.jpg\n",
      "Processed google_0001 (2) 1.jpg_person_0.jpg\n",
      "Processed google_0001 (2).jpg_person_0.jpg\n",
      "Processed google_0001 1.jpg_person_0.jpg\n",
      "Processed google_0001.jpg_person_0.jpg\n",
      "Processed google_0002 (2).jpg_person_0.jpg\n",
      "Processed google_0002 1.jpg_person_0.jpg\n",
      "Processed google_0002.jpg_person_0.jpg\n",
      "Processed google_0003.jpg_person_0.jpg\n",
      "Processed google_0004 (2).jpg_person_0.jpg\n",
      "Processed google_0004 1.jpg_person_0.jpg\n",
      "Processed google_0004.jpg_person_0.jpg\n",
      "Processed google_0005 (2).jpg_person_0.jpg\n",
      "Processed google_0005.jpg_person_0.jpg\n",
      "Processed google_0007.jpg_person_0.jpg\n",
      "Processed google_0009.jpg_person_0.jpg\n",
      "Processed google_0010 (2).jpg_person_0.jpg\n",
      "Processed google_0010.jpg_person_0.jpg\n",
      "Processed google_0012.jpg_person_0.jpg\n",
      "Processed google_0013.jpg_person_0.jpg\n",
      "Processed google_0016 (2).jpg_person_0.jpg\n",
      "Processed google_0016.jpg_person_0.jpg\n",
      "Processed google_0017 (2).jpg_person_0.jpg\n",
      "Processed google_0017.jpg_person_0.jpg\n",
      "Processed google_0018 (2).jpg_person_0.jpg\n",
      "Processed google_0018.jpg_person_0.jpg\n",
      "Processed google_0020.jpg_person_0.jpg\n",
      "Processed google_0021 (2) 1.jpg_person_0.jpg\n",
      "Processed google_0021 (2).jpg_person_0.jpg\n",
      "Processed google_0023.jpg_person_0.jpg\n",
      "Processed google_0027 (2).jpg_person_0.jpg\n",
      "Processed google_0028.jpg_person_0.jpg\n",
      "Processed google_0029 1.jpg_person_0.jpg\n",
      "Processed google_0030.jpg_person_0.jpg\n",
      "Processed google_0031 1.jpg_person_0.jpg\n",
      "Processed google_0031.jpg_person_0.jpg\n",
      "Processed google_0033.jpg_person_0.jpg\n",
      "Processed google_0034.webp_person_0.jpg\n",
      "Processed google_0041.jpg_person_0.jpg\n",
      "Processed google_0042 1.jpg_person_0.jpg\n",
      "Processed google_0042.jpg_person_0.jpg\n",
      "Processed google_0043.jpg_person_0.jpg\n",
      "Processed google_0045.jpg_person_0.jpg\n",
      "Processed google_0046 (2).jpg_person_0.jpg\n",
      "Processed google_0047 (2).jpg_person_0.jpg\n",
      "Processed google_0047.jpg_person_0.jpg\n",
      "Processed google_0050.jpg_person_0.jpg\n",
      "Processed google_0051 1.jpg_person_0.jpg\n",
      "Processed google_0051.jpg_person_0.jpg\n",
      "Processed google_0054 1.jpg_person_0.jpg\n",
      "Processed google_0054.jpg_person_0.jpg\n",
      "Processed google_0055.jpg_person_0.jpg\n",
      "Processed google_0056.jpg_person_0.jpg\n",
      "Processed google_0060.jpg_person_0.jpg\n",
      "Processed google_0063.jpg_person_0.jpg\n",
      "Processed google_0066.jpg_person_0.jpg\n",
      "Processed google_0071.webp_person_0.jpg\n",
      "Processed google_0072.jpg_person_0.jpg\n",
      "Processed google_0074 (2).jpg_person_0.jpg\n",
      "Processed google_0074 1.jpg_person_0.jpg\n",
      "Processed google_0074.jpg_person_0.jpg\n",
      "Processed google_0077 1.jpg_person_0.jpg\n",
      "Processed google_0077.jpg_person_0.jpg\n",
      "Processed google_0078.jpg_person_0.jpg\n",
      "Processed google_0079 (2).jpg_person_0.jpg\n",
      "Processed google_0080.jpg_person_0.jpg\n",
      "Processed google_0084.jpg_person_0.jpg\n",
      "Processed google_0085.jpg_person_0.jpg\n",
      "Processed google_0088 (2).jpg_person_0.jpg\n",
      "Processed google_0088 (3).jpg_person_0.jpg\n",
      "Processed google_0089.jpg_person_0.jpg\n",
      "Processed google_0090.jpg_person_0.jpg\n",
      "Processed google_0091.jpg_person_0.jpg\n",
      "Processed google_0092 1.jpg_person_0.jpg\n",
      "Processed google_0092.jpg_person_0.jpg\n",
      "Processed google_0094.jpg_person_0.jpg\n",
      "Processed google_0096.jpg_person_0.jpg\n",
      "Processed google_0101.webp_person_0.jpg\n",
      "Processed google_0102.jpg_person_0.jpg\n",
      "Processed google_0107.jpg_person_0.jpg\n",
      "Processed google_0110.jpg_person_0.jpg\n",
      "Processed google_0114.jpg_person_0.jpg\n",
      "Processed google_0118.jpg_person_0.jpg\n",
      "Processed google_0119.jpg_person_0.jpg\n",
      "Processed google_0129.jpg_person_0.jpg\n",
      "Processed google_0130.jpg_person_0.jpg\n",
      "Processed google_0131.jpg_person_0.jpg\n",
      "Processed google_0133.jpg_person_0.jpg\n",
      "Processed google_0150.jpg_person_0.jpg\n",
      "Processed google_0163.jpg_person_0.jpg\n",
      "Processed google_0170.jpg_person_0.jpg\n",
      "Processed google_0172.jpg_person_0.jpg\n",
      "Processed google_0190.jpg_person_0.jpg\n",
      "Processed google_0204.jpg_person_0.jpg\n",
      "Processed google_0206.jpg_person_0.jpg\n",
      "Processed google_0212.jpg_person_0.jpg\n",
      "Processed google_0225.jpg_person_0.jpg\n",
      "Processed google_0235.jpg_person_0.jpg\n",
      "Processed google_0256.jpg_person_0.jpg\n",
      "Processed google_0319.jpg_person_0.jpg\n",
      "Processed gwefj.jpg\n",
      "Processed hq720.jpg\n",
      "Processed maxresdefault.jpg_person_0.jpg\n",
      "Processed pg58a9bbwlr91.jpg_person_0.jpg\n",
      "Processed ptj4961a53.jpg_person_0.jpg\n",
      "Processed s-l1200.jpg_person_0.jpg\n",
      "Processed S07ee3b8ea6604990bb8dc259eb511167s.jpg\n",
      "Processed S6b (2).jpg\n",
      "Processed S6b.jpg\n",
      "Processed S8264db96d08d49c0996760de47545ceeH.jpg_960x960.jpg\n",
      "Processed S98968c3ebed64a14af7eecf0c99c60acW.jpg_640x640q90.jpg\n",
      "Processed s9irh9bbwlr91.jpg_person_0.jpg\n",
      "Processed Sac564ae499a4431393593a89a0c6fb241.jpg_640x640q90.jpg\n",
      "Processed sakuranokoi_mg155_2_d_20220906121405.jpg_person_0.jpg\n",
      "Processed sg-11134201-22100-i6keklwnkyiv37.jpg_person_0.jpg\n",
      "Processed tw-11134201-7qukx-lfijg1pr5jvu55.jpg_person_0.jpg\n",
      "Processed XPEH.jpg_person_0.jpg\n",
      "Processed 0fi6u0ucs4gb1.jpg_person_0.jpg\n",
      "Processed 10f95ca9-c28b-43f9-ba04-2e9eebc41e40.jpg_person_0.jpg\n",
      "Processed 15cfe91343d9447b9a720d0a54dd8d29.jpg_person_0.jpg\n",
      "Processed 1cf090257f164106a74e82f254f45465.jpg_person_0.jpg\n",
      "Processed 202106111251542969.jpg_person_0.jpg\n",
      "Processed 20240629184826191-genshin-impact-lisa-minci-3d-model-c4835c08f6.jpg_person_0.jpg\n",
      "Processed 22337674902870_129.jpg\n",
      "Processed 22346170856026_203.jpg_person_0.jpg\n",
      "Processed 4a5cc1869a764389a83c89f14e0de3e7.jpg_person_0.jpg\n",
      "Processed 51c8b88e80dc442f8b2b4e0cfe4b2d92.jpg_person_0.jpg\n",
      "Processed 57316037_50065971be5a44b68fab4086edf4cabd.jpg_person_0.jpg\n",
      "Processed 57316037_68e17e1c43fc4b0ea4a9e0f4b98d6b5a.jpg\n",
      "Processed 6d3ffba091e64ff7bcabe6795d7afd6f.jpg\n",
      "Processed 6d3ffba091e64ff7bcabe6795d7afd6f.jpg_person_0.jpg\n",
      "Processed 81lDbnEgbCS.jpg_person_0.jpg\n",
      "Processed 931c38d2f63294857908f45522d73031_6760369147116556125.jpg_person_0.jpg\n",
      "Processed a5da308c35fd4a028c26f8627dec4e40.jpg_person_0.jpg\n",
      "Processed b7b34b06d57c4ba38ed47da498a72af4.jpg_person_0.jpg\n",
      "Processed b83c91dd54d0c3b71dfa67ea8764d7da.jpg_person_0.jpg\n",
      "Processed coser@Akira-Kyuu-2-e1654434910497.jpg_person_0.jpg\n",
      "Processed d91bceba0996e10d45fd1524edeb2cd7.jpg_person_0.jpg\n",
      "Processed ff8j9913addd1.jpg_person_0.jpg\n",
      "Processed g.jpg\n",
      "Processed g.jpg_person_0.jpg\n",
      "Processed google_0000.jpg_person_0.jpg\n",
      "Processed google_0001.jpg_person_0.jpg\n",
      "Processed google_0002.jpg_person_0.jpg\n",
      "Processed google_0003.jpg_person_0.jpg\n",
      "Processed google_0004.jpg_person_0.jpg\n",
      "Processed google_0008.jpg_person_0.jpg\n",
      "Processed google_0009 (2).jpg_person_0.jpg\n",
      "Processed google_0009.jpg_person_0.jpg\n",
      "Processed google_0010.jpg_person_0.jpg\n",
      "Processed google_0011.jpg_person_0.jpg\n",
      "Processed google_0012.jpg_person_0.jpg\n",
      "Processed google_0014.jpg_person_0.jpg\n",
      "Processed google_0016 (2).jpg_person_0.jpg\n",
      "Processed google_0016.jpg_person_0.jpg\n",
      "Processed google_0020.jpg_person_0.jpg\n",
      "Processed google_0025 (2).jpg_person_0.jpg\n",
      "Processed google_0025.jpg_person_0.jpg\n",
      "Processed google_0026.jpg_person_0.jpg\n",
      "Processed google_0029.jpg_person_0.jpg\n",
      "Processed google_0030.jpg_person_0.jpg\n",
      "Processed google_0035 (2).jpg_person_0.jpg\n",
      "Processed google_0035.jpg_person_0.jpg\n",
      "Processed google_0037 (2).jpg_person_0.jpg\n",
      "Processed google_0041.jpg_person_0.jpg\n",
      "Processed google_0042.jpg_person_0.jpg\n",
      "Processed google_0045.jpg_person_0.jpg\n",
      "Processed google_0047.jpg_person_0.jpg\n",
      "Processed google_0048.jpg_person_0.jpg\n",
      "Processed google_0057.jpg_person_0.jpg\n",
      "Processed google_0058.jpg_person_0.jpg\n",
      "Processed google_0059 (2).jpg_person_0.jpg\n",
      "Processed google_0059.jpg_person_0.jpg\n",
      "Processed google_0063.jpg_person_0.jpg\n",
      "Processed google_0064.jpg_person_0.jpg\n",
      "Processed google_0070 (2).jpg_person_0.jpg\n",
      "Processed google_0071.jpg_person_0.jpg\n",
      "Processed google_0072.jpg_person_0.jpg\n",
      "Processed google_0073.jpg_person_0.jpg\n",
      "Processed google_0074.jpg_person_0.jpg\n",
      "Processed google_0078.jpg_person_0.jpg\n",
      "Processed google_0081.jpg_person_0.jpg\n",
      "Processed google_0087.jpg_person_0.jpg\n",
      "Processed google_0088.jpg_person_0.jpg\n",
      "Processed google_0089.jpg_person_0.jpg\n",
      "Processed google_0100.jpg_person_0.jpg\n",
      "Processed google_0102.jpg_person_0.jpg\n",
      "Processed google_0109.jpg_person_0.jpg\n",
      "Processed google_0110.jpg_person_0.jpg\n",
      "Processed google_0115.jpg_person_0.jpg\n",
      "Processed google_0117.jpg_person_0.jpg\n",
      "Processed google_0119.jpg_person_0.jpg\n",
      "Processed google_0120.jpg_person_0.jpg\n",
      "Processed google_0122.jpg_person_0.jpg\n",
      "Processed google_0126.jpg_person_0.jpg\n",
      "Processed google_0127 (2).jpg_person_0.jpg\n",
      "Processed google_0129.jpg_person_0.jpg\n",
      "Processed google_0130.jpg_person_0.jpg\n",
      "Processed google_0132.jpg_person_0.jpg\n",
      "Processed google_0136.jpg_person_0.jpg\n",
      "Processed google_0139.jpg_person_0.jpg\n",
      "Processed google_0141.jpg_person_0.jpg\n",
      "Processed google_0142.jpg_person_0.jpg\n",
      "Processed google_0143.jpg_person_0.jpg\n",
      "Processed google_0144.jpg_person_0.jpg\n",
      "Processed google_0151.jpg_person_0.jpg\n",
      "Processed google_0154.jpg_person_0.jpg\n",
      "Processed google_0163 (2).jpg_person_0.jpg\n",
      "Processed google_0166.jpg_person_0.jpg\n",
      "Processed google_0167.jpg_person_0.jpg\n",
      "Processed google_0176.jpg_person_0.jpg\n",
      "Processed google_0177.jpg_person_0.jpg\n",
      "Processed google_0181.jpg_person_0.jpg\n",
      "Processed google_0184.jpg_person_0.jpg\n",
      "Processed google_0198.jpg_person_0.jpg\n",
      "Processed google_0205.jpg_person_0.jpg\n",
      "Processed google_0214.jpg_person_0.jpg\n",
      "Processed google_0215.jpg_person_0.jpg\n",
      "Processed google_0222.jpg_person_0.jpg\n",
      "Processed google_0236.jpg_person_0.jpg\n",
      "Processed google_0237.jpg_person_0.jpg\n",
      "Processed google_0246.jpg_person_0.jpg\n",
      "Processed google_0250.jpg_person_0.jpg\n",
      "Processed google_0269.jpg_person_0.jpg\n",
      "Processed google_0275.jpg_person_0.jpg\n",
      "Processed google_0296.jpg_person_0.jpg\n",
      "Processed google_0320.jpg_person_0.jpg\n",
      "Processed google_0331.jpg_person_0.jpg\n",
      "Processed google_0359.jpg_person_0.jpg\n",
      "Processed google_0366.jpg_person_0.jpg\n",
      "Processed google_0376.jpg_person_0.jpg\n",
      "Processed google_0381.jpg_person_0.jpg\n",
      "Processed google_0386.jpg_person_0.jpg\n",
      "Processed google_0389.jpg_person_0.jpg\n",
      "Processed google_0392.jpg_person_0.jpg\n",
      "Processed google_0394.jpg_person_0.jpg\n",
      "Processed google_0398.jpg_person_0.jpg\n",
      "Processed google_0409.jpg_person_0.jpg\n",
      "Processed google_0425.jpg_person_0.jpg\n",
      "Processed google_0426.jpg_person_0.jpg\n",
      "Processed google_0427.jpg_person_0.jpg\n",
      "Processed google_0431.jpg_person_0.jpg\n",
      "Processed google_0434.jpg_person_0.jpg\n",
      "Processed google_0435.jpg_person_0.jpg\n",
      "Processed google_0437.jpg_person_0.jpg\n",
      "Processed google_0455.jpg_person_0.jpg\n",
      "Processed google_0456.jpg_person_0.jpg\n",
      "Processed google_0465.jpg_person_0.jpg\n",
      "Processed grx9w4ko7b1.jpg_person_0.jpg\n",
      "Processed H3c0f3e0dde6748c4903c5f07429629faX.jpg_640x640q90.jpg\n",
      "Processed Hb6a59690ad8e422484fc5a1d793f79774.jpg_640x640Q90.jpg\n",
      "Processed images (1).jpg_person_0.jpg\n",
      "Processed images (2).jpg\n",
      "Processed images (2).jpg_person_0.jpg\n",
      "Processed images (3).jpg_person_0.jpg\n",
      "Processed images.jpg_person_0.jpg\n",
      "Processed iodxycsu9ll61.jpg_person_0.jpg\n",
      "Processed lisa-cosplay-by-temiru-self-v0-3xiuvudpmrwb1.jpg_person_0.jpg\n",
      "Processed MA3ShPl.jpg\n",
      "Processed O1CN016Mbks71EdnBJmGOQE_!!84850375.jpg_Q75.jpg_.jpg\n",
      "Processed O1CN0199cxit1JB0g07Y0kN_!!98340989.jpg_Q75.jpg_.jpg\n",
      "Processed resize_image.jpg_person_0.jpg\n",
      "Processed sddefault.jpg_person_0.jpg\n",
      "Processed t33bguddnsbc1.jpg_person_0.jpg\n",
      "Processed tw-11134201-7r990-llm446ancasd4e.jpg_person_0.jpg\n",
      "Processed w700d1q75cms.jpg_person_0.jpg\n",
      "Processed xln0d13bzuq51.jpg_person_0.jpg\n",
      "Processed 20240521_664c5eddd055c.jpg\n",
      "Processed 20240521_664c5eddd055c.jpg_person_0.jpg\n",
      "Processed 24c0dabc88e843b7ae0d4c3eadb567d4.jpeg_person_0.jpg\n",
      "Processed 272248737826dfc5b1048291fc3994ac0a9edc48r1-2048-1366v2_uhq.jpg_person_0.jpg\n",
      "Processed 52189_vP2qgVErJLd8LK1JO8wB_width_1000_height_1000_watermark.jpg_person_0.jpg\n",
      "Processed 52345788433_2de420deef_b.jpg_person_0.jpg\n",
      "Processed 52533950971_674223dde1_z.jpg_person_0.jpg\n",
      "Processed 8367ed156a899d5ee9a01232559fbd9a_2009887732557092305.jpg_person_0.jpg\n",
      "Processed A6C8yPig.jpg_person_0.jpg\n",
      "Processed amber-cosplay-by-neyrodesu-v0-ma5gr16yjh3b1.jpg_person_0.jpg\n",
      "Processed amber-genshin-cosplay-1-1630352441.jpg_person_0.jpg\n",
      "Processed amber_cosplay_genshin_impact_1690020195_5447867e_progressive.jpg_person_0.jpg\n",
      "Processed amber_genshin_impact_wind_glider___bow_cosplay_by_llyonafang_de7xysx-fullview.jpg_person_0.jpg\n",
      "Processed CGS011AM_width_600_height_880.jpg_person_0.jpg\n",
      "Processed d9a9fcmhfzt61.jpg_person_0.jpg\n",
      "Processed download.jpg_person_0.jpg\n",
      "Processed e0bbf53ee8f45fd6673bc975c12ac88048c95593r1-1366-2048v2_hq.jpg_person_0.jpg\n",
      "Processed fde8f898837f3b4e15d2a912076414ee_7854741617912683732.jpg_person_0.jpg\n",
      "Processed FQl_gRzUcAAr5Av.jpg_person_0.jpg\n",
      "Processed gc827_35_-3.jpg_person_0.jpg\n",
      "Processed genshin-impact-amber-550x309.jpg_person_0.jpg\n",
      "Processed Genshin-Impact-Amber-Cosplay-Costume-1.jpg_person_0.jpg\n",
      "Processed google_0001.jpg_person_0.jpg\n",
      "Processed google_0002.jpg_person_0.jpg\n",
      "Processed google_0003.jpg_person_0.jpg\n",
      "Processed google_0004.jpg_person_0.jpg\n",
      "Processed google_0005.jpg_person_0.jpg\n",
      "Processed google_0006.jpg_person_0.jpg\n",
      "Processed google_0007.jpg_person_0.jpg\n",
      "Processed google_0009.jpg_person_0.jpg\n",
      "Processed google_0010.jpg_person_0.jpg\n",
      "Processed google_0011.jpg_person_0.jpg\n",
      "Processed google_0012.jpg_person_0.jpg\n",
      "Processed google_0013.jpg_person_0.jpg\n",
      "Processed google_0014.jpg_person_0.jpg\n",
      "Processed google_0015.jpg_person_0.jpg\n",
      "Processed google_0017.jpg_person_0.jpg\n",
      "Processed google_0018.jpg_person_0.jpg\n",
      "Processed google_0019.jpg_person_0.jpg\n",
      "Processed google_0020.jpg_person_0.jpg\n",
      "Processed google_0022.jpg_person_0.jpg\n",
      "Processed google_0023.jpg_person_0.jpg\n",
      "Processed google_0026.jpg_person_0.jpg\n",
      "Processed google_0027.jpg_person_0.jpg\n",
      "Processed google_0031.jpg_person_0.jpg\n",
      "Processed google_0033.jpg_person_0.jpg\n",
      "Processed google_0035.jpg_person_0.jpg\n",
      "Processed google_0036.jpg_person_0.jpg\n",
      "Processed google_0039.jpg_person_0.jpg\n",
      "Processed google_0040.jpg_person_0.jpg\n",
      "Processed google_0043.jpg_person_0.jpg\n",
      "Processed google_0045.jpg_person_0.jpg\n",
      "Processed google_0050.jpg_person_0.jpg\n",
      "Processed google_0051.jpg_person_0.jpg\n",
      "Processed google_0052.jpg_person_0.jpg\n",
      "Processed google_0054.jpg_person_0.jpg\n",
      "Processed google_0055.jpg_person_0.jpg\n",
      "Processed google_0058.jpg_person_0.jpg\n",
      "Processed google_0063.jpg_person_0.jpg\n",
      "Processed google_0066.jpg_person_0.jpg\n",
      "Processed google_0067.jpg_person_0.jpg\n",
      "Processed google_0069.jpg_person_0.jpg\n",
      "Processed google_0070.jpg_person_0.jpg\n",
      "Processed google_0071.jpg_person_0.jpg\n",
      "Processed google_0072.jpg_person_0.jpg\n",
      "Processed google_0073.jpg_person_0.jpg\n",
      "Processed google_0074.jpg_person_0.jpg\n",
      "Processed google_0078.jpg_person_0.jpg\n",
      "Processed google_0080.jpg_person_0.jpg\n",
      "Processed google_0085.jpg_person_0.jpg\n",
      "Processed google_0086.jpg_person_0.jpg\n",
      "Processed google_0090.jpg_person_0.jpg\n",
      "Processed google_0093.jpg_person_0.jpg\n",
      "Processed google_0094.jpg_person_0.jpg\n",
      "Processed google_0095.jpg_person_0.jpg\n",
      "Processed google_0097.jpg_person_0.jpg\n",
      "Processed google_0098.jpg_person_0.jpg\n",
      "Processed google_0099.jpg_person_0.jpg\n",
      "Processed google_0101.jpg_person_0.jpg\n",
      "Processed google_0112.jpg_person_0.jpg\n",
      "Processed google_0129.jpg_person_0.jpg\n",
      "Processed google_0131.jpg_person_0.jpg\n",
      "Processed google_0132.jpg_person_0.jpg\n",
      "Processed google_0135.jpg_person_0.jpg\n",
      "Processed google_0136.jpg_person_0.jpg\n",
      "Processed google_0137.jpg_person_0.jpg\n",
      "Processed google_0140.jpg_person_0.jpg\n",
      "Processed google_0146.jpg_person_0.jpg\n",
      "Processed google_0149.jpg_person_0.jpg\n",
      "Processed google_0157.jpg_person_0.jpg\n",
      "Processed google_0160.jpg_person_0.jpg\n",
      "Processed google_0162.jpg_person_0.jpg\n",
      "Processed google_0170.jpg_person_0.jpg\n",
      "Processed google_0174.jpg_person_0.jpg\n",
      "Processed google_0181.jpg_person_0.jpg\n",
      "Processed google_0183.jpg_person_0.jpg\n",
      "Processed google_0190.jpg_person_0.jpg\n",
      "Processed google_0201.jpg_person_0.jpg\n",
      "Processed google_0209.jpg_person_0.jpg\n",
      "Processed google_0231.jpg_person_0.jpg\n",
      "Processed google_0237.jpg_person_0.jpg\n",
      "Processed google_0243.jpg_person_0.jpg\n",
      "Processed google_0255.jpg_person_0.jpg\n",
      "Processed google_0259.jpg_person_0.jpg\n",
      "Processed google_0262.jpg_person_0.jpg\n",
      "Processed google_0265.jpg_person_0.jpg\n",
      "Processed google_0269.jpg_person_0.jpg\n",
      "Processed google_0284.jpg_person_0.jpg\n",
      "Processed google_0286.jpg_person_0.jpg\n",
      "Processed google_0289.jpg_person_0.jpg\n",
      "Processed google_0297.jpg_person_0.jpg\n",
      "Processed google_0300.jpg_person_0.jpg\n",
      "Processed google_0301.jpg_person_0.jpg\n",
      "Processed google_0304.jpg_person_0.jpg\n",
      "Processed google_0307.jpg_person_0.jpg\n",
      "Processed google_0309.jpg_person_0.jpg\n",
      "Processed google_0327.jpg_person_0.jpg\n",
      "Processed google_0332.jpg_person_0.jpg\n",
      "Processed google_0340.jpg_person_0.jpg\n",
      "Processed google_0342.jpg_person_0.jpg\n",
      "Processed google_0355.jpg_person_0.jpg\n",
      "Processed google_0356.jpg_person_0.jpg\n",
      "Processed google_0363.jpg_person_0.jpg\n",
      "Processed google_0364.jpg_person_0.jpg\n",
      "Processed google_0365.jpg_person_0.jpg\n",
      "Processed google_0372.jpg_person_0.jpg\n",
      "Processed google_0376.jpg_person_0.jpg\n",
      "Processed google_0377.jpg_person_0.jpg\n",
      "Processed google_0382.jpg_person_0.jpg\n",
      "Processed google_0384.jpg_person_0.jpg\n",
      "Processed google_0390.jpg_person_0.jpg\n",
      "Processed google_0396.jpg_person_0.jpg\n",
      "Processed google_0404.jpg_person_0.jpg\n",
      "Processed google_0417.jpg_person_0.jpg\n",
      "Processed google_0424.jpg_person_0.jpg\n",
      "Processed google_0433.jpg_person_0.jpg\n",
      "Processed hd-standing-amber-genshin-impact-game-character-png-733961695142295ivyoy7oxey.jpg_person_0.jpg\n",
      "Processed i-img600x900-1715385619knuvec200298.jpg_person_0.jpg\n",
      "Processed images.jpg_person_0.jpg\n",
      "Processed kibvgoyhfzt61.jpg_person_0.jpg\n",
      "Processed lhbazq5dtm971.jpg_person_0.jpg\n",
      "Processed LxO1pFig.jpg_person_0.jpg\n",
      "Processed my-amber-cosplay-v0-mow0rcswkk7c1.jpg_person_0.jpg\n",
      "Processed o874pyglyg161.jpg_person_0.jpg\n",
      "Processed S9345833a05cf49579192bfbf82b00671a.jpg\n",
      "Processed Sa13b098d15d044a29953f1a58b321fe1p.jpg\n",
      "Processed self-cosplayed-as-amber-for-a-local-anime-convention-havent-v0-ctyw6628ey3b1.jpg\n",
      "Processed sg-11134201-22110-y7hakbpyd2jvf2.jpg\n",
      "Processed tg82pfm916u51 (2).jpg\n",
      "Processed tg82pfm916u51.jpg\n",
      "Processed google_0000.jpg_person_0.jpg\n",
      "Processed google_0001 (2).jpg_person_0.jpg\n",
      "Processed google_0001.jpg_person_0.jpg\n",
      "Processed google_0001_cr.jpg\n",
      "Processed google_0002.jpg_person_0.jpg\n",
      "Processed google_0005 (2).jpg_person_0.jpg\n",
      "Processed google_0005 1_cr.jpg\n",
      "Processed google_0005.jpg_person_0.jpg\n",
      "Processed google_0006.jpg_person_0.jpg\n",
      "Processed google_0007 (2)_cr.jpg\n",
      "Processed google_0007.jpg_person_0.jpg\n",
      "Processed google_0010.jpg_person_0.jpg\n",
      "Processed google_0011.jpg_person_0.jpg\n",
      "Processed google_0012.jpg_person_0.jpg\n",
      "Processed google_0013.jpg_person_0.jpg\n",
      "Processed google_0014.jpg_person_0.jpg\n",
      "Processed google_0015.jpg_person_0.jpg\n",
      "Processed google_0017.jpg_person_0.jpg\n",
      "Processed google_0018.jpg_person_0.jpg\n",
      "Processed google_0018.webp_person_0.jpg\n",
      "Processed google_0019.webp_person_0.jpg\n",
      "Processed google_0021_cr.jpg\n",
      "Processed google_0022.jpg_person_0.jpg\n",
      "Processed google_0023.jpg_person_0.jpg\n",
      "Processed google_0024.png_person_0.jpg\n",
      "Processed google_0024_cr.jpg\n",
      "Processed google_0027.jpg_person_0.jpg\n",
      "Processed google_0030.jpg_person_0.jpg\n",
      "Processed google_0030_cr.jpg\n",
      "Processed google_0031_cr.jpg\n",
      "Processed google_0038.jpg_person_0.jpg\n",
      "Processed google_0039.jpg_person_0.jpg\n",
      "Processed google_0041.jpg_person_0.jpg\n",
      "Processed google_0042 (2).jpg_person_0.jpg\n",
      "Processed google_0042.jpg_person_0.jpg\n",
      "Processed google_0043 (2).jpg_person_0.jpg\n",
      "Processed google_0043.jpg_person_0.jpg\n",
      "Processed google_0047 (2).jpg_person_0.jpg\n",
      "Processed google_0047.jpg_person_0.jpg\n",
      "Processed google_0049.webp_person_0.jpg\n",
      "Processed google_0051.jpg_person_0.jpg\n",
      "Processed google_0051.png_person_0.jpg\n",
      "Processed google_0055 1.webp_person_0.jpg\n",
      "Processed google_0055.webp_person_0.jpg\n",
      "Processed google_0057.webp_person_0.jpg\n",
      "Processed google_0060.jpg_person_0.jpg\n",
      "Processed google_0061.jpg_person_0.jpg\n",
      "Processed google_0062.jpg_person_0.jpg\n",
      "Processed google_0065.webp_person_0.jpg\n",
      "Processed google_0072.jpg_person_0.jpg\n",
      "Processed google_0076.jpg_person_0.jpg\n",
      "Processed google_0081.jpg_person_0.jpg\n",
      "Processed google_0082.jpg_person_0.jpg\n",
      "Processed google_0088.jpg_person_0.jpg\n",
      "Processed google_0091.jpg_person_0.jpg\n",
      "Processed google_0094.webp_person_0.jpg\n",
      "Processed google_0095.jpg_person_0.jpg\n",
      "Processed google_0099.jpg_person_0.jpg\n",
      "Processed google_0101.jpg_person_0.jpg\n",
      "Processed google_0102_cr.jpg\n",
      "Processed google_0103.jpg_person_0.jpg\n",
      "Processed google_0105 (2).jpg_person_0.jpg\n",
      "Processed google_0105.jpg_person_0.jpg\n",
      "Processed google_0106.jpg_person_0.jpg\n",
      "Processed google_0109.jpg_person_0.jpg\n",
      "Processed google_0110.jpg_person_0.jpg\n",
      "Processed google_0112_cr.jpg\n",
      "Processed google_0114.jpg_person_0.jpg\n",
      "Processed google_0116 (2).webp_person_0.jpg\n",
      "Processed google_0116_cr.jpg\n",
      "Processed google_0119.jpg_person_0.jpg\n",
      "Processed google_0120.jpg_person_0.jpg\n",
      "Processed google_0122_cr.jpg\n",
      "Processed google_0128.jpg_person_0.jpg\n",
      "Processed google_0130.jpg_person_0.jpg\n",
      "Processed google_0133.jpg_person_0.jpg\n",
      "Processed google_0134.jpg_person_0.jpg\n",
      "Processed google_0140.jpg_person_0.jpg\n",
      "Processed google_0144.webp_person_0.jpg\n",
      "Processed google_0152.jpg_person_0.jpg\n",
      "Processed google_0154.jpg_person_0.jpg\n",
      "Processed google_0157.webp_person_0.jpg\n",
      "Processed google_0167.jpg_person_0.jpg\n",
      "Processed google_0168.webp_person_0.jpg\n",
      "Processed google_0169 (2).jpg_person_0.jpg\n",
      "Processed google_0169.jpg_person_0.jpg\n",
      "Processed google_0170.jpg_person_0.jpg\n",
      "Processed google_0171.jpg_person_0.jpg\n",
      "Processed google_0172_cr.jpg\n",
      "Processed google_0180 (2).jpg_person_0.jpg\n",
      "Processed google_0180.jpg_person_0.jpg\n",
      "Processed google_0189 (2).jpg_person_0.jpg\n",
      "Processed google_0189.jpg_person_0.jpg\n",
      "Processed google_0195.jpg_person_0.jpg\n",
      "Processed google_0208.jpg_person_0.jpg\n",
      "Processed google_0209_cr.jpg\n",
      "Processed google_0211 (2).jpg_person_0.jpg\n",
      "Processed google_0211.jpg_person_0.jpg\n",
      "Processed google_0212.webp_person_0.jpg\n",
      "Processed google_0218.jpg_person_0.jpg\n",
      "Processed google_0225.jpg_person_0.jpg\n",
      "Processed google_0237.jpg_person_0.jpg\n",
      "Processed google_0239.jpg_person_0.jpg\n",
      "Processed google_0240_cr.jpg\n",
      "Processed google_0241.jpg_person_0.jpg\n",
      "Processed google_0244 (2)_cr.jpg\n",
      "Processed google_0244.jpg_person_0.jpg\n",
      "Processed google_0246.webp_person_0.jpg\n",
      "Processed google_0254.jpg_person_0.jpg\n",
      "Processed google_0257.webp_person_0.jpg\n",
      "Processed google_0258.jpg_person_0.jpg\n",
      "Processed google_0262_cr.jpg\n",
      "Processed google_0263.webp_person_0.jpg\n",
      "Processed google_0264.jpg_person_0.jpg\n",
      "Processed google_0265.webp_person_0.jpg\n",
      "Processed google_0268.jpg_person_0.jpg\n",
      "Processed google_0270.webp_person_0.jpg\n",
      "Processed google_0282.webp_person_0.jpg\n",
      "Processed google_0285_cr.jpg\n",
      "Processed google_0290.jpg_person_0.jpg\n",
      "Processed google_0298.webp_person_0.jpg\n",
      "Processed google_0305.jpg_person_0.jpg\n",
      "Processed google_0307.jpg_person_0.jpg\n",
      "Processed google_0311.webp_person_0.jpg\n",
      "Processed google_0316_cr.jpg\n",
      "Processed google_0324.webp_person_0.jpg\n",
      "Processed google_0326.jpg_person_0.jpg\n",
      "Processed google_0331.webp_person_0.jpg\n",
      "Processed google_0332.webp_person_0.jpg\n",
      "Processed google_0335.jpg_person_0.jpg\n",
      "Processed google_0339.jpg_person_0.jpg\n",
      "Processed google_0340.jpg_person_0.jpg\n",
      "Processed google_0345.webp_person_0.jpg\n",
      "Processed google_0349.jpg_person_0.jpg\n",
      "Processed google_0349.webp_person_0.jpg\n",
      "Processed google_0353.jpg_person_0.jpg\n",
      "Processed google_0364.webp_person_0.jpg\n",
      "Processed google_0365.jpg_person_0.jpg\n",
      "Processed google_0376.jpg_person_0.jpg\n",
      "Processed google_0387.webp_person_0.jpg\n",
      "Processed google_0389.jpg_person_0.jpg\n",
      "Processed google_0391.webp_person_0.jpg\n",
      "Processed google_0393.jpg_person_0.jpg\n",
      "Processed google_0401.jpg_person_0.jpg\n",
      "Processed google_0402.jpg_person_0.jpg\n",
      "Processed google_0403.jpg_person_0.jpg\n",
      "Processed google_0422.webp_person_0.jpg\n",
      "Processed google_0437.jpg_person_0.jpg\n",
      "Processed google_0441.webp_person_0.jpg\n",
      "Processed google_0449.jpg_person_0.jpg\n",
      "Processed google_0451.jpg_person_0.jpg\n",
      "Processed google_0473.jpg_person_0.jpg\n",
      "Processed google_0476.webp_person_0.jpg\n",
      "Processed google_0482.webp_person_0.jpg\n",
      "Processed google_0496.webp_person_0.jpg\n",
      "Processed google_0501.webp_person_0.jpg\n",
      "Processed google_0510.jpg_person_0.jpg\n",
      "Processed google_0553.webp_person_0.jpg\n",
      "Processed google_0000.webp_person_0.jpg\n",
      "Processed google_0001.jpg_person_0.jpg\n",
      "Processed google_0001.png_person_0.jpg\n",
      "Processed google_0002.png_person_0.jpg\n",
      "Processed google_0003.jpg_person_0.jpg\n",
      "Processed google_0004.jpg_person_0.jpg\n",
      "Processed google_0005 (2)_cr.jpg\n",
      "Processed google_0005.jpg_person_0.jpg\n",
      "Processed google_0006.jpg_person_0.jpg\n",
      "Processed google_0009.jpg_person_0.jpg\n",
      "Processed google_0010.jpg_person_0.jpg\n",
      "Processed google_0013.jpg_person_0.jpg\n",
      "Processed google_0016.jpg_person_0.jpg\n",
      "Processed google_0018.jpg_person_0.jpg\n",
      "Processed google_0020_cr.jpg\n",
      "Processed google_0022.jpg_person_0.jpg\n",
      "Processed google_0025.jpg_person_0.jpg\n",
      "Processed google_0026 (2).jpg_person_0.jpg\n",
      "Processed google_0026.jpg_person_0.jpg\n",
      "Processed google_0029.jpg_person_0.jpg\n",
      "Processed google_0029_cr.jpg\n",
      "Processed google_0034 (2).jpg_person_0.jpg\n",
      "Processed google_0034.jpg_person_0.jpg\n",
      "Processed google_0038.jpg_person_0.jpg\n",
      "Processed google_0039.jpg_person_0.jpg\n",
      "Processed google_0039.webp_person_0.jpg\n",
      "Processed google_0040.jpg_person_0.jpg\n",
      "Processed google_0041.jpg_person_0.jpg\n",
      "Processed google_0048.jpg_person_0.jpg\n",
      "Processed google_0049.jpg_person_0.jpg\n",
      "Processed google_0051.jpg_person_0.jpg\n",
      "Processed google_0053.jpg_person_0.jpg\n",
      "Processed google_0054.webp_person_0.jpg\n",
      "Processed google_0057_cr.jpg\n",
      "Processed google_0058.jpg_person_0.jpg\n",
      "Processed google_0059.jpg_person_0.jpg\n",
      "Processed google_0060.jpg_person_0.jpg\n",
      "Processed google_0065.jpg_person_0.jpg\n",
      "Processed google_0066.jpg_person_0.jpg\n",
      "Processed google_0069.jpg_person_0.jpg\n",
      "Processed google_0070.jpg_person_0.jpg\n",
      "Processed google_0071.jpg_person_0.jpg\n",
      "Processed google_0073.jpg_person_0.jpg\n",
      "Processed google_0075.jpg_person_0.jpg\n",
      "Processed google_0079.jpg_person_0.jpg\n",
      "Processed google_0080.jpg_person_0.jpg\n",
      "Processed google_0083.jpg_person_0.jpg\n",
      "Processed google_0085.webp_person_0.jpg\n",
      "Processed google_0086.webp_person_0.jpg\n",
      "Processed google_0089.jpg_person_0.jpg\n",
      "Processed google_0090.jpg_person_0.jpg\n",
      "Processed google_0091.jpg_person_0.jpg\n",
      "Processed google_0094_cr.jpg\n",
      "Processed google_0096.jpg_person_0.jpg\n",
      "Processed google_0097_cr.jpg\n",
      "Processed google_0099.webp_person_0.jpg\n",
      "Processed google_0102_cr.jpg\n",
      "Processed google_0103.jpg_person_0.jpg\n",
      "Processed google_0106.webp_person_0.jpg\n",
      "Processed google_0106_cr.jpg\n",
      "Processed google_0109.webp_person_0.jpg\n",
      "Processed google_0109_cr.jpg\n",
      "Processed google_0111.jpg_person_0.jpg\n",
      "Processed google_0112.jpg_person_0.jpg\n",
      "Processed google_0113.jpg_person_0.jpg\n",
      "Processed google_0118.webp_person_0.jpg\n",
      "Processed google_0119.jpg_person_0.jpg\n",
      "Processed google_0123_cr.jpg\n",
      "Processed google_0133 (2).jpg_person_0.jpg\n",
      "Processed google_0133.jpg_person_0.jpg\n",
      "Processed google_0134_cr.jpg\n",
      "Processed google_0139.jpg_person_0.jpg\n",
      "Processed google_0141 (2)_cr.jpg\n",
      "Processed google_0141.jpg_person_0.jpg\n",
      "Processed google_0142.jpg_person_0.jpg\n",
      "Processed google_0144.jpg_person_0.jpg\n",
      "Processed google_0145.jpg_person_0.jpg\n",
      "Processed google_0146.jpg_person_0.jpg\n",
      "Processed google_0149_cr.jpg\n",
      "Processed google_0150.jpg_person_0.jpg\n",
      "Processed google_0151.webp_person_0.jpg\n",
      "Processed google_0152_cr.jpg\n",
      "Processed google_0154 (2).jpg_person_0.jpg\n",
      "Processed google_0154.jpg_person_0.jpg\n",
      "Processed google_0157_cr.jpg\n",
      "Processed google_0159.jpg_person_0.jpg\n",
      "Processed google_0160 (2).jpg_person_0.jpg\n",
      "Processed google_0160.jpg_person_0.jpg\n",
      "Processed google_0164.jpg_person_0.jpg\n",
      "Processed google_0165.jpg_person_0.jpg\n",
      "Processed google_0166.webp_person_0.jpg\n",
      "Processed google_0167.jpg_person_0.jpg\n",
      "Processed google_0169.jpg_person_0.jpg\n",
      "Processed google_0170.jpg_person_0.jpg\n",
      "Processed google_0172.jpg_person_0.jpg\n",
      "Processed google_0173.webp_person_0.jpg\n",
      "Processed google_0181.jpg_person_0.jpg\n",
      "Processed google_0190 (2).jpg_person_0.jpg\n",
      "Processed google_0190.jpg_person_0.jpg\n",
      "Processed google_0191.jpg_person_0.jpg\n",
      "Processed google_0194.webp_person_0.jpg\n",
      "Processed google_0206.jpg_person_0.jpg\n",
      "Processed google_0208.jpg_person_0.jpg\n",
      "Processed google_0213_cr.jpg\n",
      "Processed google_0215.jpg_person_0.jpg\n",
      "Processed google_0226.webp_person_0.jpg\n",
      "Processed google_0229.jpg_person_0.jpg\n",
      "Processed google_0237.jpg_person_0.jpg\n",
      "Processed google_0239.png_person_0.jpg\n",
      "Processed google_0240_cr.jpg\n",
      "Processed google_0244.webp_person_0.jpg\n",
      "Processed google_0249_cr.jpg\n",
      "Processed google_0251.jpg_person_0.jpg\n",
      "Processed google_0252.jpg_person_0.jpg\n",
      "Processed google_0259.jpg_person_0.jpg\n",
      "Processed google_0263.webp_person_0.jpg\n",
      "Processed google_0267.webp_person_0.jpg\n",
      "Processed google_0269.jpg_person_0.jpg\n",
      "Processed google_0271.jpg_person_0.jpg\n",
      "Processed google_0272.webp_person_0.jpg\n",
      "Processed google_0281_cr.jpg\n",
      "Processed google_0285.jpg_person_0.jpg\n",
      "Processed google_0296_cr.jpg\n",
      "Processed google_0317.jpg_person_0.jpg\n",
      "Processed google_0318.webp_person_0.jpg\n",
      "Processed google_0319.jpg_person_0.jpg\n",
      "Processed google_0321.webp_person_0.jpg\n",
      "Processed google_0327.webp_person_0.jpg\n",
      "Processed google_0329 (2).webp_person_0.jpg\n",
      "Processed google_0329.webp_person_0.jpg\n",
      "Processed google_0336.jpg_person_0.jpg\n",
      "Processed google_0349.jpg_person_0.jpg\n",
      "Processed google_0367.jpg_person_0.jpg\n",
      "Processed google_0369 (2).webp_person_0.jpg\n",
      "Processed google_0369.webp_person_0.jpg\n",
      "Processed google_0371.webp_person_0.jpg\n",
      "Processed google_0375.jpg_person_0.jpg\n",
      "Processed google_0379.webp_person_0.jpg\n",
      "Processed google_0380_cr.jpg\n",
      "Processed google_0382.jpg_person_0.jpg\n",
      "Processed google_0384.webp_person_0.jpg\n",
      "Processed google_0386_cr.jpg\n",
      "Processed google_0388.webp_person_0.jpg\n",
      "Processed google_0399.webp_person_0.jpg\n",
      "Processed google_0402.webp_person_0.jpg\n",
      "Processed google_0412.jpg_person_0.jpg\n",
      "Processed google_0412_cr.jpg\n",
      "Processed google_0415.jpg_person_0.jpg\n",
      "Processed google_0415.webp_person_0.jpg\n",
      "Processed google_0421.webp_person_0.jpg\n",
      "Processed google_0423.jpg_person_0.jpg\n",
      "Processed google_0424.jpg_person_0.jpg\n",
      "Processed google_0435.jpg_person_0.jpg\n",
      "Processed google_0446.webp_person_0.jpg\n",
      "Processed google_0450.webp_person_0.jpg\n",
      "Processed google_0000 (2).jpg_person_0.jpg\n",
      "Processed google_0000.jpg_person_0.jpg\n",
      "Processed google_0000.png_person_0.jpg\n",
      "Processed google_0001.jpg_person_0.jpg\n",
      "Processed google_0002 (2).jpg_person_0.jpg\n",
      "Processed google_0002.jpg_person_0.jpg\n",
      "Processed google_0003.jpg_person_0.jpg\n",
      "Processed google_0004.jpg_person_0.jpg\n",
      "Processed google_0005.jpg_person_0.jpg\n",
      "Processed google_0007.jpg_person_0.jpg\n",
      "Processed google_0008.jpg_person_0.jpg\n",
      "Processed google_0009.jpg_person_0.jpg\n",
      "Processed google_0010.jpg_person_0.jpg\n",
      "Processed google_0011.jpg_person_0.jpg\n",
      "Processed google_0012.jpg_person_0.jpg\n",
      "Processed google_0013.jpg_person_0.jpg\n",
      "Processed google_0014.jpg_person_0.jpg\n",
      "Processed google_0014.webp_person_0.jpg\n",
      "Processed google_0015.jpg_person_0.jpg\n",
      "Processed google_0016.jpg_person_0.jpg\n",
      "Processed google_0018.jpg_person_0.jpg\n",
      "Processed google_0019.webp_person_0.jpg\n",
      "Processed google_0020.jpg_person_0.jpg\n",
      "Processed google_0023.webp_person_0.jpg\n",
      "Processed google_0024.jpg_person_0.jpg\n",
      "Processed google_0028.jpg_person_0.jpg\n",
      "Processed google_0029.jpg_person_0.jpg\n",
      "Processed google_0029.png_person_0.jpg\n",
      "Processed google_0031.jpg_person_0.jpg\n",
      "Processed google_0035.jpg_person_0.jpg\n",
      "Processed google_0036.jpg_person_0.jpg\n",
      "Processed google_0037.jpg_person_0.jpg\n",
      "Processed google_0038 (2).jpg_person_0.jpg\n",
      "Processed google_0038.jpg_person_0.jpg\n",
      "Processed google_0039 (2)_cr.jpg\n",
      "Processed google_0039.jpg_person_0.jpg\n",
      "Processed google_0040.jpg_person_0.jpg\n",
      "Processed google_0042.png_person_0.jpg\n",
      "Processed google_0043.jpg_person_0.jpg\n",
      "Processed google_0044_cr.jpg\n",
      "Processed google_0046.jpg_person_0.jpg\n",
      "Processed google_0046.png_person_0.jpg\n",
      "Processed google_0047.jpg_person_0.jpg\n",
      "Processed google_0048.jpg_person_0.jpg\n",
      "Processed google_0050.jpg_person_0.jpg\n",
      "Processed google_0051.jpg_person_0.jpg\n",
      "Processed google_0052.webp_person_0.jpg\n",
      "Processed google_0053.jpg_person_0.jpg\n",
      "Processed google_0054.webp_person_0.jpg\n",
      "Processed google_0055.jpg_person_0.jpg\n",
      "Processed google_0058.jpg_person_0.jpg\n",
      "Processed google_0060.jpg_person_0.jpg\n",
      "Processed google_0063.jpg_person_0.jpg\n",
      "Processed google_0063.webp_person_0.jpg\n",
      "Processed google_0064 (2).jpg_person_0.jpg\n",
      "Processed google_0064.jpg_person_0.jpg\n",
      "Processed google_0066.jpg_person_0.jpg\n",
      "Processed google_0067.webp_person_0.jpg\n",
      "Processed google_0068.jpg_person_0.jpg\n",
      "Processed google_0068.webp_person_0.jpg\n",
      "Processed google_0069.jpg_person_0.jpg\n",
      "Processed google_0072 (2).jpg_person_0.jpg\n",
      "Processed google_0072.jpg_person_0.jpg\n",
      "Processed google_0075_cr.jpg\n",
      "Processed google_0076_cr.jpg\n",
      "Processed google_0077.jpg_person_0.jpg\n",
      "Processed google_0081.jpg_person_0.jpg\n",
      "Processed google_0082.jpg_person_0.jpg\n",
      "Processed google_0083_cr.jpg\n",
      "Processed google_0085.webp_person_0.jpg\n",
      "Processed google_0087.png_person_0.jpg\n",
      "Processed google_0089_cr.jpg\n",
      "Processed google_0091.jpg_person_0.jpg\n",
      "Processed google_0095.jpg_person_0.jpg\n",
      "Processed google_0096.jpg_person_0.jpg\n",
      "Processed google_0099_cr.jpg\n",
      "Processed google_0100_cr.jpg\n",
      "Processed google_0101.webp_person_0.jpg\n",
      "Processed google_0103.jpg_person_0.jpg\n",
      "Processed google_0105.webp_person_0.jpg\n",
      "Processed google_0110.jpg_person_0.jpg\n",
      "Processed google_0110.webp_person_0.jpg\n",
      "Processed google_0114.webp_person_0.jpg\n",
      "Processed google_0115.jpg_person_0.jpg\n",
      "Processed google_0116.webp_person_0.jpg\n",
      "Processed google_0120.webp_person_0.jpg\n",
      "Processed google_0122.png_person_0.jpg\n",
      "Processed google_0123.jpg_person_0.jpg\n",
      "Processed google_0126 (2).jpg_person_0.jpg\n",
      "Processed google_0126.jpg_person_0.jpg\n",
      "Processed google_0128.jpg_person_0.jpg\n",
      "Processed google_0129.webp_person_0.jpg\n",
      "Processed google_0134.webp_person_0.jpg\n",
      "Processed google_0142.jpg_person_0.jpg\n",
      "Processed google_0148.jpg_person_0.jpg\n",
      "Processed google_0150.jpg_person_0.jpg\n",
      "Processed google_0152.jpg_person_0.jpg\n",
      "Processed google_0156.webp_person_0.jpg\n",
      "Processed google_0158.jpg_person_0.jpg\n",
      "Processed google_0168.jpg_person_0.jpg\n",
      "Processed google_0169.jpg_person_0.jpg\n",
      "Processed google_0170.jpg_person_0.jpg\n",
      "Processed google_0172.webp_person_0.jpg\n",
      "Processed google_0174_cr.jpg\n",
      "Processed google_0180.jpg_person_0.jpg\n",
      "Processed google_0185_cr.jpg\n",
      "Processed google_0189.webp_person_0.jpg\n",
      "Processed google_0192.webp_person_0.jpg\n",
      "Processed google_0193_cr.jpg\n",
      "Processed google_0194.jpg_person_0.jpg\n",
      "Processed google_0197.webp_person_0.jpg\n",
      "Processed google_0206.webp_person_0.jpg\n",
      "Processed google_0209.jpg_person_0.jpg\n",
      "Processed google_0212.jpg_person_0.jpg\n",
      "Processed google_0213.jpg_person_0.jpg\n",
      "Processed google_0224.png_person_0.jpg\n",
      "Processed google_0236.webp_person_0.jpg\n",
      "Processed google_0240.jpg_person_0.jpg\n",
      "Processed google_0243.jpg_person_0.jpg\n",
      "Processed google_0245.webp_person_0.jpg\n",
      "Processed google_0259.webp_person_0.jpg\n",
      "Processed google_0264_cr.jpg\n",
      "Processed google_0265_cr.jpg\n",
      "Processed google_0269.webp_person_0.jpg\n",
      "Processed google_0283.jpg_person_0.jpg\n",
      "Processed google_0289_cr.jpg\n",
      "Processed google_0303.jpg_person_0.jpg\n",
      "Processed google_0317.jpg_person_0.jpg\n",
      "Processed google_0319.jpg_person_0.jpg\n",
      "Processed google_0330.jpg_person_0.jpg\n",
      "Processed google_0330.webp_person_0.jpg\n",
      "Processed google_0333 (2).jpg_person_0.jpg\n",
      "Processed google_0333.jpg_person_0.jpg\n",
      "Processed google_0340.jpg_person_0.jpg\n",
      "Processed google_0355.jpg_person_0.jpg\n",
      "Processed google_0359.webp_person_0.jpg\n",
      "Processed google_0368.jpg_person_0.jpg\n",
      "Processed google_0374.webp_person_0.jpg\n",
      "Processed google_0378.webp_person_0.jpg\n",
      "Processed google_0383.webp_person_0.jpg\n",
      "Processed google_0384.jpg_person_0.jpg\n",
      "Processed google_0385.webp_person_0.jpg\n",
      "Processed google_0397.webp_person_0.jpg\n",
      "Processed google_0418.jpg_person_0.jpg\n",
      "Processed google_0423.webp_person_0.jpg\n",
      "Processed google_0429.jpg_person_0.jpg\n",
      "Processed google_0441.jpg_person_0.jpg\n",
      "Processed google_0449.jpg_person_0.jpg\n",
      "Processed google_0459.jpg_person_0.jpg\n",
      "Processed google_0483.jpg_person_0.jpg\n",
      "Processed cropped_google_0000.jpg\n",
      "Processed cropped_google_0001.jpg\n",
      "Processed cropped_google_0002 (1).jpg\n",
      "Processed cropped_google_0002.jpg\n",
      "Processed cropped_google_0003 (1).jpg\n",
      "Processed cropped_google_0003.jpg\n",
      "Processed cropped_google_0004.jpg\n",
      "Processed cropped_google_0005.jpg\n",
      "Processed cropped_google_0006.jpg\n",
      "Processed cropped_google_0007 (1).jpg\n",
      "Processed cropped_google_0007.jpg\n",
      "Processed cropped_google_0008.jpg\n",
      "Processed cropped_google_0009 (1).png\n",
      "Processed cropped_google_0009.jpg\n",
      "Processed cropped_google_0010.jpg\n",
      "Processed cropped_google_0011.jpg\n",
      "Processed cropped_google_0012.jpg\n",
      "Processed cropped_google_0013 (1).jpg\n",
      "Processed cropped_google_0013.jpg\n",
      "Processed cropped_google_0014.jpg\n",
      "Processed cropped_google_0015 (1).jpg\n",
      "Processed cropped_google_0015.jpg\n",
      "Processed cropped_google_0016.png\n",
      "Processed cropped_google_0017.jpg\n",
      "Processed cropped_google_0018 (1).jpg\n",
      "Processed cropped_google_0018.jpg\n",
      "Processed cropped_google_0019 (1).jpg\n",
      "Processed cropped_google_0019.jpg\n",
      "Processed cropped_google_0020 (1).jpg\n",
      "Processed cropped_google_0020.jpg\n",
      "Processed cropped_google_0021 (1).jpg\n",
      "Processed cropped_google_0021.jpg\n",
      "Processed cropped_google_0022.jpg\n",
      "Processed cropped_google_0023.jpg\n",
      "Processed cropped_google_0024 (1).jpg\n",
      "Processed cropped_google_0024.jpg\n",
      "Processed cropped_google_0026.jpg\n",
      "Processed cropped_google_0027.jpg\n",
      "Processed cropped_google_0028.jpg\n",
      "Processed cropped_google_0029 (1).jpg\n",
      "Processed cropped_google_0029.jpg\n",
      "Processed cropped_google_0030.jpg\n",
      "Processed cropped_google_0031.jpg\n",
      "Processed cropped_google_0032.jpg\n",
      "Processed cropped_google_0033.jpg\n",
      "Processed cropped_google_0034.jpg\n",
      "Processed cropped_google_0035.jpg\n",
      "Processed cropped_google_0036.jpg\n",
      "Processed cropped_google_0037.jpg\n",
      "Processed cropped_google_0038.jpg\n",
      "Processed cropped_google_0039.jpg\n",
      "Processed cropped_google_0040.jpg\n",
      "Processed cropped_google_0041.jpg\n",
      "Processed cropped_google_0042.jpg\n",
      "Processed cropped_google_0043.jpg\n",
      "Processed cropped_google_0044.jpg\n",
      "Processed cropped_google_0045.jpg\n",
      "Processed cropped_google_0046.jpg\n",
      "Processed cropped_google_0047.jpg\n",
      "Processed cropped_google_0048.jpg\n",
      "Processed cropped_google_0049.jpg\n",
      "Processed cropped_google_0050.jpg\n",
      "Processed cropped_google_0051.jpg\n",
      "Processed cropped_google_0053.jpg\n",
      "Processed cropped_google_0054.jpg\n",
      "Processed cropped_google_0058.jpg\n",
      "Processed cropped_google_0059.jpg\n",
      "Processed cropped_google_0060.jpg\n",
      "Processed cropped_google_0063.jpg\n",
      "Processed cropped_google_0065.jpg\n",
      "Processed cropped_google_0066.jpg\n",
      "Processed cropped_google_0067.jpg\n",
      "Processed cropped_google_0069.jpg\n",
      "Processed cropped_google_0070.jpg\n",
      "Processed cropped_google_0071.jpg\n",
      "Processed cropped_google_0072.jpg\n",
      "Processed cropped_google_0073.jpg\n",
      "Processed cropped_google_0075.jpg\n",
      "Processed cropped_google_0076.jpg\n",
      "Processed cropped_google_0077.jpg\n",
      "Processed cropped_google_0079.jpg\n",
      "Processed cropped_google_0081.png\n",
      "Processed cropped_google_0082.jpg\n",
      "Processed cropped_google_0083.jpg\n",
      "Processed cropped_google_0084.jpg\n",
      "Processed cropped_google_0085.jpg\n",
      "Processed cropped_google_0087.jpg\n",
      "Processed cropped_google_0088.jpg\n",
      "Processed cropped_google_0089.jpg\n",
      "Processed cropped_google_0090.png\n",
      "Processed cropped_google_0091.jpg\n",
      "Processed cropped_google_0092.jpg\n",
      "Processed cropped_google_0095.jpg\n",
      "Processed cropped_google_0096.jpg\n",
      "Processed cropped_google_0100.jpg\n",
      "Processed cropped_google_0101.jpg\n",
      "Processed cropped_google_0102.png\n",
      "Processed cropped_google_0105.jpg\n",
      "Processed cropped_google_0109.jpg\n",
      "Processed cropped_google_0110.jpg\n",
      "Processed cropped_google_0111.jpg\n",
      "Processed cropped_google_0114.jpg\n",
      "Processed cropped_google_0115.jpg\n",
      "Processed cropped_google_0116.jpg\n",
      "Processed Eula_0__game_art_cropped.png\n",
      "Processed Eula_10__game_art_cropped.png\n",
      "Processed Eula_11__game_art_cropped.png\n",
      "Processed Eula_12__game_art_cropped.jpg\n",
      "Processed Eula_13__game_art_cropped.png\n",
      "Processed Eula_14__game_art_cropped.jpg\n",
      "Processed Eula_15__game_art_cropped.jpg\n",
      "Processed Eula_17__game_art.png\n",
      "Processed Eula_18__game_art.jpg\n",
      "Processed Eula_19__game_art.jpg\n",
      "Processed Eula_1__game_art.jpg\n",
      "Processed Eula_1__game_art_cropped.png\n",
      "Processed Eula_20__game_art.png\n",
      "Processed Eula_21__game_art.jpg\n",
      "Processed Eula_22__game_art.png\n",
      "Processed Eula_23__game_art.jpg\n",
      "Processed Eula_24__game_art.jpg\n",
      "Processed Eula_25__game_art.png\n",
      "Processed Eula_26__game_art.png\n",
      "Processed Eula_27__game_art.jpg\n",
      "Processed Eula_29__game_art.jpg\n",
      "Processed Eula_2__game_art.png\n",
      "Processed Eula_2__game_art_cropped.jpg\n",
      "Processed Eula_3__game_art_cropped.jpg\n",
      "Processed Eula_4__game_art_cropped.png\n",
      "Processed Eula_5__game_art_cropped.png\n",
      "Processed Eula_6__game_art_cropped.png\n",
      "Processed Eula_7__game_art_cropped.png\n",
      "Processed Eula_8__game_art_cropped.png\n",
      "Processed Eula_9__game_art_cropped.jpg\n",
      "Processed cropped_google_0000 (1).jpg\n",
      "Processed cropped_google_0000.jpg\n",
      "Processed cropped_google_0001.jpg\n",
      "Processed cropped_google_0002.jpg\n",
      "Processed cropped_google_0003.jpg\n",
      "Processed cropped_google_0004.jpg\n",
      "Processed cropped_google_0005.jpg\n",
      "Processed cropped_google_0006.jpg\n",
      "Processed cropped_google_0007.jpg\n",
      "Processed cropped_google_0008.jpg\n",
      "Processed cropped_google_0010.jpg\n",
      "Processed cropped_google_0011.jpg\n",
      "Processed cropped_google_0012.jpg\n",
      "Processed cropped_google_0013 (1).jpg\n",
      "Processed cropped_google_0014.jpg\n",
      "Processed cropped_google_0015.jpg\n",
      "Processed cropped_google_0016.jpg\n",
      "Processed cropped_google_0017.jpg\n",
      "Processed cropped_google_0018.jpg\n",
      "Processed cropped_google_0019.jpg\n",
      "Processed cropped_google_0020.jpg\n",
      "Processed cropped_google_0021.jpg\n",
      "Processed cropped_google_0022.jpg\n",
      "Processed cropped_google_0023.jpg\n",
      "Processed cropped_google_0024.jpg\n",
      "Processed cropped_google_0025 (1).jpg\n",
      "Processed cropped_google_0025.jpg\n",
      "Processed cropped_google_0026.jpg\n",
      "Processed cropped_google_0027.jpg\n",
      "Processed cropped_google_0030.jpg\n",
      "Processed cropped_google_0031.jpg\n",
      "Processed cropped_google_0032.jpg\n",
      "Processed cropped_google_0033.jpg\n",
      "Processed cropped_google_0034.jpg\n",
      "Processed cropped_google_0037.jpg\n",
      "Processed cropped_google_0038.jpg\n",
      "Processed cropped_google_0039.jpg\n",
      "Processed cropped_google_0042.jpg\n",
      "Processed cropped_google_0043.jpg\n",
      "Processed cropped_google_0044.jpg\n",
      "Processed cropped_google_0045.jpg\n",
      "Processed cropped_google_0047.jpg\n",
      "Processed cropped_google_0049.jpg\n",
      "Processed cropped_google_0050.jpg\n",
      "Processed cropped_google_0051.jpg\n",
      "Processed cropped_google_0052.jpg\n",
      "Processed cropped_google_0056.jpg\n",
      "Processed cropped_google_0057.jpg\n",
      "Processed cropped_google_0059.jpg\n",
      "Processed cropped_google_0060.png\n",
      "Processed cropped_google_0061.jpg\n",
      "Processed cropped_google_0063.jpg\n",
      "Processed cropped_google_0064.jpg\n",
      "Processed cropped_google_0066.jpg\n",
      "Processed cropped_google_0068.jpg\n",
      "Processed cropped_google_0069.jpg\n",
      "Processed cropped_google_0070.jpg\n",
      "Processed cropped_google_0073.jpg\n",
      "Processed cropped_google_0074.jpg\n",
      "Processed cropped_google_0078.jpg\n",
      "Processed cropped_google_0080.jpg\n",
      "Processed cropped_google_0081.jpg\n",
      "Processed cropped_google_0082.jpg\n",
      "Processed cropped_google_0085.jpg\n",
      "Processed cropped_google_0086.jpg\n",
      "Processed cropped_google_0089.jpg\n",
      "Processed cropped_google_0090.jpg\n",
      "Processed cropped_google_0092.jpg\n",
      "Processed cropped_google_0093.jpg\n",
      "Processed cropped_google_0094.jpg\n",
      "Processed cropped_google_0095.jpg\n",
      "Processed cropped_google_0099.jpg\n",
      "Processed cropped_google_0100.jpg\n",
      "Processed cropped_google_0101.jpg\n",
      "Processed cropped_google_0102.jpg\n",
      "Processed cropped_google_0105.jpg\n",
      "Processed cropped_google_0106.jpg\n",
      "Processed cropped_google_0107.jpg\n",
      "Processed cropped_google_0108.jpg\n",
      "Processed cropped_google_0109.jpg\n",
      "Processed cropped_google_0110.jpg\n",
      "Processed cropped_google_0112.jpg\n",
      "Processed cropped_google_0114.jpg\n",
      "Processed cropped_google_0115.jpg\n",
      "Processed cropped_google_0121.jpg\n",
      "Processed cropped_google_0127.jpg\n",
      "Processed cropped_google_0128.jpg\n",
      "Processed cropped_google_0131.jpg\n",
      "Processed cropped_google_0132.jpg\n",
      "Processed cropped_google_0133.jpg\n",
      "Processed cropped_google_0139.jpg\n",
      "Processed cropped_google_0143.jpg\n",
      "Processed cropped_google_0144.jpg\n",
      "Processed cropped_google_0145.jpg\n",
      "Processed cropped_google_0146.jpg\n",
      "Processed cropped_google_0147.jpg\n",
      "Processed cropped_google_0149.jpg\n",
      "Processed Ganyu_0__game_art_cropped.png\n",
      "Processed Ganyu_10__game_art_cropped.png\n",
      "Processed Ganyu_11__game_art_cropped.jpg\n",
      "Processed Ganyu_12__game_art_cropped.jpg\n",
      "Processed Ganyu_14__game_art_cropped.jpg\n",
      "Processed Ganyu_15__game_art_cropped.png\n",
      "Processed Ganyu_17__game_art_cropped.jpg\n",
      "Processed Ganyu_18__game_art_cropped.jpg\n",
      "Processed Ganyu_19__game_art_cropped.jpg\n",
      "Processed Ganyu_1__game_art_cropped.png\n",
      "Processed Ganyu_20__game_art_cropped.jpg\n",
      "Processed Ganyu_21__game_art_cropped.jpg\n",
      "Processed Ganyu_22__game_art_cropped.png\n",
      "Processed Ganyu_24__game_art_cropped.jpg\n",
      "Processed Ganyu_25__game_art_cropped.jpg\n",
      "Processed Ganyu_26__game_art_cropped.jpg\n",
      "Processed Ganyu_27__game_art_cropped.jpg\n",
      "Processed Ganyu_28__game_art_cropped.png\n",
      "Processed Ganyu_29__game_art_cropped.jpg\n",
      "Processed Ganyu_2__game_art_cropped.jpg\n",
      "Processed Ganyu_3__game_art_cropped.jpg\n",
      "Processed Ganyu_5__game_art_cropped.jpg\n",
      "Processed Ganyu_6__game_art_cropped.jpg\n",
      "Processed Ganyu_7__game_art_cropped.png\n",
      "Processed Ganyu_9__game_art_cropped.jpg\n",
      "Processed google_0123.jpg\n",
      "Processed cropped_google_0000 (1).jpg\n",
      "Processed cropped_google_0000.jpg\n",
      "Processed cropped_google_0001 (1).jpg\n",
      "Processed cropped_google_0001.jpg\n",
      "Processed cropped_google_0002 (1).jpg\n",
      "Processed cropped_google_0002 (2).jpg\n",
      "Processed cropped_google_0002.jpg\n",
      "Processed cropped_google_0003 (1).png\n",
      "Processed cropped_google_0003.jpg\n",
      "Processed cropped_google_0005 (1).jpg\n",
      "Processed cropped_google_0006 (1).jpg\n",
      "Processed cropped_google_0006.jpg\n",
      "Processed cropped_google_0007 (1).jpg\n",
      "Processed cropped_google_0007.jpg\n",
      "Processed cropped_google_0008 (1).jpg\n",
      "Processed cropped_google_0008.jpg\n",
      "Processed cropped_google_0009 (1).jpg\n",
      "Processed cropped_google_0009.jpg\n",
      "Processed cropped_google_0010.jpg\n",
      "Processed cropped_google_0011.jpg\n",
      "Processed cropped_google_0012 (1).jpg\n",
      "Processed cropped_google_0012.jpg\n",
      "Processed cropped_google_0013.jpg\n",
      "Processed cropped_google_0014.jpg\n",
      "Processed cropped_google_0015.jpg\n",
      "Processed cropped_google_0016.jpg\n",
      "Processed cropped_google_0017.jpg\n",
      "Processed cropped_google_0018.jpg\n",
      "Processed cropped_google_0019.jpg\n",
      "Processed cropped_google_0020.jpg\n",
      "Processed cropped_google_0021 (1).jpg\n",
      "Processed cropped_google_0021.jpg\n",
      "Processed cropped_google_0022 (1).jpg\n",
      "Processed cropped_google_0022.jpg\n",
      "Processed cropped_google_0023 (1).jpg\n",
      "Processed cropped_google_0023.jpg\n",
      "Processed cropped_google_0024.jpg\n",
      "Processed cropped_google_0026.jpg\n",
      "Processed cropped_google_0028 (1).jpg\n",
      "Processed cropped_google_0029.jpg\n",
      "Processed cropped_google_0030.jpg\n",
      "Processed cropped_google_0031.jpg\n",
      "Processed cropped_google_0032.jpg\n",
      "Processed cropped_google_0033.jpg\n",
      "Processed cropped_google_0034.png\n",
      "Processed cropped_google_0037.jpg\n",
      "Processed cropped_google_0038.jpg\n",
      "Processed cropped_google_0039 (1).jpg\n",
      "Processed cropped_google_0039.jpg\n",
      "Processed cropped_google_0040.jpg\n",
      "Processed cropped_google_0043.jpg\n",
      "Processed cropped_google_0044.jpg\n",
      "Processed cropped_google_0045.jpg\n",
      "Processed cropped_google_0046.jpg\n",
      "Processed cropped_google_0047.jpg\n",
      "Processed cropped_google_0049.jpg\n",
      "Processed cropped_google_0050.jpg\n",
      "Processed cropped_google_0051.jpg\n",
      "Processed cropped_google_0052.jpg\n",
      "Processed cropped_google_0053.jpg\n",
      "Processed cropped_google_0054.jpg\n",
      "Processed cropped_google_0055.jpg\n",
      "Processed cropped_google_0056.jpg\n",
      "Processed cropped_google_0057.jpg\n",
      "Processed cropped_google_0058.jpg\n",
      "Processed cropped_google_0060.png\n",
      "Processed cropped_google_0061.png\n",
      "Processed cropped_google_0062.jpg\n",
      "Processed cropped_google_0065.jpg\n",
      "Processed cropped_google_0066.jpg\n",
      "Processed cropped_google_0070.jpg\n",
      "Processed cropped_google_0071.jpg\n",
      "Processed cropped_google_0072.jpg\n",
      "Processed cropped_google_0073.jpg\n",
      "Processed cropped_google_0074.jpg\n",
      "Processed cropped_google_0075.jpg\n",
      "Processed cropped_google_0077.jpg\n",
      "Processed cropped_google_0078.jpg\n",
      "Processed cropped_google_0079.jpg\n",
      "Processed cropped_google_0080.jpg\n",
      "Processed cropped_google_0081.jpg\n",
      "Processed cropped_google_0083.jpg\n",
      "Processed cropped_google_0084.jpg\n",
      "Processed cropped_google_0085.jpg\n",
      "Processed cropped_google_0086.jpg\n",
      "Processed cropped_google_0087.jpg\n",
      "Processed cropped_google_0088.jpg\n",
      "Processed cropped_google_0090 (1).jpg\n",
      "Processed cropped_google_0090.jpg\n",
      "Processed cropped_google_0093.jpg\n",
      "Processed cropped_google_0094.png\n",
      "Processed cropped_google_0095.jpg\n",
      "Processed cropped_google_0097.jpg\n",
      "Processed cropped_google_0098.jpg\n",
      "Processed cropped_google_0099.png\n",
      "Processed cropped_google_0100.jpg\n",
      "Processed cropped_google_0104.jpg\n",
      "Processed cropped_google_0106.jpg\n",
      "Processed cropped_google_0107.jpg\n",
      "Processed cropped_google_0109.jpg\n",
      "Processed cropped_google_0110.jpg\n",
      "Processed cropped_google_0111.jpg\n",
      "Processed cropped_google_0115.jpg\n",
      "Processed cropped_google_0118.png\n",
      "Processed cropped_google_0119.jpg\n",
      "Processed cropped_google_0127.jpg\n",
      "Processed cropped_google_0133.jpg\n",
      "Processed cropped_google_0134.jpg\n",
      "Processed cropped_google_0139.jpg\n",
      "Processed cropped_google_0140 (1).jpg\n",
      "Processed cropped_google_0141.jpg\n",
      "Processed cropped_google_0143.jpg\n",
      "Processed cropped_google_0146.jpg\n",
      "Processed cropped_google_0147.jpg\n",
      "Processed google_0103.jpg\n",
      "Processed Hutao_0__game_art_cropped.png\n",
      "Processed Hutao_10__game_art_cropped.jpg\n",
      "Processed Hutao_11__game_art_cropped.jpg\n",
      "Processed Hutao_13__game_art_cropped.jpg\n",
      "Processed Hutao_14__game_art.jpg\n",
      "Processed Hutao_15__game_art.jpg\n",
      "Processed Hutao_16__game_art.png\n",
      "Processed Hutao_17__game_art.jpg\n",
      "Processed Hutao_19__game_art.jpg\n",
      "Processed Hutao_1__game_art_cropped.jpg\n",
      "Processed Hutao_20__game_art.jpg\n",
      "Processed Hutao_21__game_art.jpg\n",
      "Processed Hutao_22__game_art.jpg\n",
      "Processed Hutao_23__game_art.jpg\n",
      "Processed Hutao_24__game_art.jpg\n",
      "Processed Hutao_25__game_art.jpg\n",
      "Processed Hutao_27__game_art.jpg\n",
      "Processed Hutao_28__game_art.jpg\n",
      "Processed Hutao_29__game_art.jpg\n",
      "Processed Hutao_2__game_art_cropped.jpg\n",
      "Processed Hutao_3__game_art_cropped.jpg\n",
      "Processed Hutao_4__game_art_cropped.png\n",
      "Processed Hutao_5__game_art_cropped.jpg\n",
      "Processed Hutao_6__game_art_cropped.jpg\n",
      "Processed Hutao_7__game_art_cropped.jpg\n",
      "Processed Hutao_8__game_art_cropped.png\n",
      "Processed Hutao_9__game_art_cropped.png\n",
      "Processed cos (1).jpg\n",
      "Processed cos (10).jpg\n",
      "Processed cos (100).jpg\n",
      "Processed cos (101).jpg\n",
      "Processed cos (102).jpg\n",
      "Processed cos (103).jpg\n",
      "Processed cos (104).jpg\n",
      "Processed cos (105).jpg\n",
      "Processed cos (109).jpg\n",
      "Processed cos (11).jpg\n",
      "Processed cos (110).jpg\n",
      "Processed cos (111).jpg\n",
      "Processed cos (112).jpg\n",
      "Processed cos (113).jpg\n",
      "Processed cos (114).jpg\n",
      "Processed cos (115).jpg\n",
      "Processed cos (116).jpg\n",
      "Processed cos (117).jpg\n",
      "Processed cos (118).jpg\n",
      "Processed cos (119).jpg\n",
      "Processed cos (12).jpg\n",
      "Processed cos (120).jpg\n",
      "Processed cos (121).jpg\n",
      "Processed cos (122).jpg\n",
      "Processed cos (123).jpg\n",
      "Processed cos (124).jpg\n",
      "Processed cos (125).jpg\n",
      "Processed cos (126).jpg\n",
      "Processed cos (127).jpg\n",
      "Processed cos (128).jpg\n",
      "Processed cos (129).jpg\n",
      "Processed cos (13).jpg\n",
      "Processed cos (130).jpg\n",
      "Processed cos (14).jpg\n",
      "Processed cos (15).jpg\n",
      "Processed cos (16).jpg\n",
      "Processed cos (17).jpg\n",
      "Processed cos (18).jpg\n",
      "Processed cos (2).jpg\n",
      "Processed cos (20).jpg\n",
      "Processed cos (21).jpg\n",
      "Processed cos (22).jpg\n",
      "Processed cos (23).jpg\n",
      "Processed cos (24).jpg\n",
      "Processed cos (25).jpg\n",
      "Processed cos (26).jpg\n",
      "Processed cos (27).jpg\n",
      "Processed cos (28).jpg\n",
      "Processed cos (29).jpg\n",
      "Processed cos (3).jpg\n",
      "Processed cos (30).jpg\n",
      "Processed cos (31).jpg\n",
      "Processed cos (32).jpg\n",
      "Processed cos (33).jpg\n",
      "Processed cos (34).jpg\n",
      "Processed cos (35).jpg\n",
      "Processed cos (36).jpg\n",
      "Processed cos (37).jpg\n",
      "Processed cos (39).jpg\n",
      "Processed cos (4).jpg\n",
      "Processed cos (40).jpg\n",
      "Processed cos (41).jpg\n",
      "Processed cos (42).jpg\n",
      "Processed cos (43).jpg\n",
      "Processed cos (44).jpg\n",
      "Processed cos (45).jpg\n",
      "Processed cos (46).jpg\n",
      "Processed cos (47).jpg\n",
      "Processed cos (48).jpg\n",
      "Processed cos (49).jpg\n",
      "Processed cos (5).jpg\n",
      "Processed cos (50).jpg\n",
      "Processed cos (51).jpg\n",
      "Processed cos (52).jpg\n",
      "Processed cos (53).jpg\n",
      "Processed cos (54).jpg\n",
      "Processed cos (55).jpg\n",
      "Processed cos (56).jpg\n",
      "Processed cos (57).jpg\n",
      "Processed cos (58).jpg\n",
      "Processed cos (6).jpg\n",
      "Processed cos (60).jpg\n",
      "Processed cos (61).jpg\n",
      "Processed cos (63).jpg\n",
      "Processed cos (64).jpg\n",
      "Processed cos (65).jpg\n",
      "Processed cos (66).jpg\n",
      "Processed cos (67).jpg\n",
      "Processed cos (68).jpg\n",
      "Processed cos (69).jpg\n",
      "Processed cos (7).jpg\n",
      "Processed cos (70).jpg\n",
      "Processed cos (71).jpg\n",
      "Processed cos (72).jpg\n",
      "Processed cos (73).jpg\n",
      "Processed cos (74).jpg\n",
      "Processed cos (75).jpg\n",
      "Processed cos (76).jpg\n",
      "Processed cos (77).jpg\n",
      "Processed cos (78).jpg\n",
      "Processed cos (79).jpg\n",
      "Processed cos (8).jpg\n",
      "Processed cos (80).jpg\n",
      "Processed cos (81).jpg\n",
      "Processed cos (82).jpg\n",
      "Processed cos (83).jpg\n",
      "Processed cos (85).jpg\n",
      "Processed cos (86).jpg\n",
      "Processed cos (87).jpg\n",
      "Processed cos (88).jpg\n",
      "Processed cos (89).jpg\n",
      "Processed cos (90).jpg\n",
      "Processed cos (92).jpg\n",
      "Processed cos (93).jpg\n",
      "Processed cos (94).jpg\n",
      "Processed cos (95).jpg\n",
      "Processed cos (96).jpg\n",
      "Processed cos (97).jpg\n",
      "Processed cos (98).jpg\n",
      "Processed cos (99).jpg\n",
      "Processed google_0003.jpg_person_0.jpg\n",
      "Processed google_0005.jpg_person_0.jpg\n",
      "Processed google_0010.jpg_person_0.jpg\n",
      "Processed google_0020.jpg_person_0.jpg\n",
      "Processed google_0029.jpg_person_0.jpg\n",
      "Processed google_0030.jpg_person_0.jpg\n",
      "Processed google_0033.jpg_person_0.jpg\n",
      "Processed google_0035.png_person_0.jpg\n",
      "Processed google_0046.jpg_person_0.jpg\n",
      "Processed google_0054.png_person_0.jpg\n",
      "Processed google_0066.jpg_person_0.jpg\n",
      "Processed google_0068.jpg_person_0.jpg\n",
      "Processed google_0072.jpg_person_0.jpg\n",
      "Processed google_0078.jpg_person_0.jpg\n",
      "Processed google_0093.png_person_0.jpg\n",
      "Processed google_0099.jpg_person_0.jpg\n",
      "Processed google_0124.png_person_0.jpg\n",
      "Processed google_0128.jpg_person_0.jpg\n",
      "Processed google_0131.jpg_person_0.jpg\n",
      "Processed google_0132.jpg_person_0.jpg\n",
      "Processed google_0146.jpg_person_0.jpg\n",
      "Processed google_0192.jpg_person_0.jpg\n",
      "Processed google_0214.jpg_person_0.jpg\n",
      "Processed google_0230.jpg_person_0.jpg\n",
      "Processed google_0245.jpg_person_0.jpg\n",
      "Processed google_0264.jpg_person_0.jpg\n",
      "Processed google_0305.png_person_0.jpg\n",
      "Processed google_0357.webp_person_0.jpg\n",
      "Processed google_0361.jpg_person_0.jpg\n",
      "Processed google_0364.png_person_0.jpg\n",
      "Processed cos (1).jpg\n",
      "Processed cos (10).jpg\n",
      "Processed cos (100).jpg\n",
      "Processed cos (101).jpg\n",
      "Processed cos (102).jpg\n",
      "Processed cos (103).jpg\n",
      "Processed cos (104).jpg\n",
      "Processed cos (105).jpg\n",
      "Processed cos (106).jpg\n",
      "Processed cos (107).jpg\n",
      "Processed cos (108).jpg\n",
      "Processed cos (109).jpg\n",
      "Processed cos (11).jpg\n",
      "Processed cos (110).jpg\n",
      "Processed cos (111).jpg\n",
      "Processed cos (112).jpg\n",
      "Processed cos (113).jpg\n",
      "Processed cos (114).jpg\n",
      "Processed cos (115).jpg\n",
      "Processed cos (116).jpg\n",
      "Processed cos (117).jpg\n",
      "Processed cos (118).jpg\n",
      "Processed cos (119).jpg\n",
      "Processed cos (120).jpg\n",
      "Processed cos (122).jpg\n",
      "Processed cos (123).jpg\n",
      "Processed cos (124).jpg\n",
      "Processed cos (125).jpg\n",
      "Processed cos (126).jpg\n",
      "Processed cos (127).jpg\n",
      "Processed cos (128).jpg\n",
      "Processed cos (129).jpg\n",
      "Processed cos (13).jpg\n",
      "Processed cos (130).jpg\n",
      "Processed cos (14).jpg\n",
      "Processed cos (15).jpg\n",
      "Processed cos (16).jpg\n",
      "Processed cos (17).jpg\n",
      "Processed cos (18).jpg\n",
      "Processed cos (19).jpg\n",
      "Processed cos (2).jpg\n",
      "Processed cos (20).jpg\n",
      "Processed cos (21).jpg\n",
      "Processed cos (22).jpg\n",
      "Processed cos (23).jpg\n",
      "Processed cos (24).jpg\n",
      "Processed cos (25).jpg\n",
      "Processed cos (27).jpg\n",
      "Processed cos (28).jpg\n",
      "Processed cos (29).jpg\n",
      "Processed cos (3).jpg\n",
      "Processed cos (30).jpg\n",
      "Processed cos (31).jpg\n",
      "Processed cos (32).jpg\n",
      "Processed cos (33).jpg\n",
      "Processed cos (34).jpg\n",
      "Processed cos (35).jpg\n",
      "Processed cos (36).jpg\n",
      "Processed cos (37).jpg\n",
      "Processed cos (38).jpg\n",
      "Processed cos (39).jpg\n",
      "Processed cos (4).jpg\n",
      "Processed cos (40).jpg\n",
      "Processed cos (41).jpg\n",
      "Processed cos (42).jpg\n",
      "Processed cos (43).jpg\n",
      "Processed cos (44).jpg\n",
      "Processed cos (45).jpg\n",
      "Processed cos (47).jpg\n",
      "Processed cos (49).jpg\n",
      "Processed cos (5).jpg\n",
      "Processed cos (50).jpg\n",
      "Processed cos (51).jpg\n",
      "Processed cos (52).jpg\n",
      "Processed cos (53).jpg\n",
      "Processed cos (54).jpg\n",
      "Processed cos (55).jpg\n",
      "Processed cos (56).jpg\n",
      "Processed cos (57).jpg\n",
      "Processed cos (58).jpg\n",
      "Processed cos (6).jpg\n",
      "Processed cos (60).jpg\n",
      "Processed cos (61).jpg\n",
      "Processed cos (62).jpg\n",
      "Processed cos (63).jpg\n",
      "Processed cos (64).jpg\n",
      "Processed cos (65).jpg\n",
      "Processed cos (66).jpg\n",
      "Processed cos (67).jpg\n",
      "Processed cos (68).jpg\n",
      "Processed cos (69).jpg\n",
      "Processed cos (7).jpg\n",
      "Processed cos (70).jpg\n",
      "Processed cos (72).jpg\n",
      "Processed cos (73).jpg\n",
      "Processed cos (74).jpg\n",
      "Processed cos (75).jpg\n",
      "Processed cos (76).jpg\n",
      "Processed cos (77).jpg\n",
      "Processed cos (78).jpg\n",
      "Processed cos (8).jpg\n",
      "Processed cos (81).jpg\n",
      "Processed cos (82).jpg\n",
      "Processed cos (83).jpg\n",
      "Processed cos (84).jpg\n",
      "Processed cos (85).jpg\n",
      "Processed cos (87).jpg\n",
      "Processed cos (88).jpg\n",
      "Processed cos (89).jpg\n",
      "Processed cos (9).jpg\n",
      "Processed cos (90).jpg\n",
      "Processed cos (91).jpg\n",
      "Processed cos (92).jpg\n",
      "Processed cos (93).jpg\n",
      "Processed cos (94).jpg\n",
      "Processed cos (95).jpg\n",
      "Processed cos (96).jpg\n",
      "Processed cos (97).jpg\n",
      "Processed cos (98).jpg\n",
      "Processed cos (99).jpg\n",
      "Processed dm (1).jpg\n",
      "Processed dm (10).jpg\n",
      "Processed dm (11).jpg\n",
      "Processed dm (12).jpg\n",
      "Processed dm (13).jpg\n",
      "Processed dm (14).jpg\n",
      "Processed dm (15).jpg\n",
      "Processed dm (16).jpg\n",
      "Processed dm (17).jpg\n",
      "Processed dm (18).jpg\n",
      "Processed dm (19).jpg\n",
      "Processed dm (2).jpg\n",
      "Processed dm (20).jpg\n",
      "Processed dm (21).jpg\n",
      "Processed dm (22).jpg\n",
      "Processed dm (23).jpg\n",
      "Processed dm (24).jpg\n",
      "Processed dm (25).jpg\n",
      "Processed dm (26).jpg\n",
      "Processed dm (27).jpg\n",
      "Processed dm (28).jpg\n",
      "Processed dm (29).jpg\n",
      "Processed dm (3).jpg\n",
      "Processed dm (30).jpg\n",
      "Processed dm (4).jpg\n",
      "Processed dm (5).jpg\n",
      "Processed dm (6).jpg\n",
      "Processed dm (7).jpg\n",
      "Processed dm (8).jpg\n",
      "Processed dm (9).jpg\n",
      "Processed cos (1).jpg\n",
      "Processed cos (10).jpg\n",
      "Processed cos (100).jpg\n",
      "Processed cos (101).jpg\n",
      "Processed cos (102).jpg\n",
      "Processed cos (103).jpg\n",
      "Processed cos (104).jpg\n",
      "Processed cos (105).jpg\n",
      "Processed cos (106).jpg\n",
      "Processed cos (107).jpg\n",
      "Processed cos (108).jpg\n",
      "Processed cos (109).jpg\n",
      "Processed cos (11).jpg\n",
      "Processed cos (110).jpg\n",
      "Processed cos (111).jpg\n",
      "Processed cos (112).jpg\n",
      "Processed cos (115).jpg\n",
      "Processed cos (116).jpg\n",
      "Processed cos (118).jpg\n",
      "Processed cos (119).jpg\n",
      "Processed cos (12).jpg\n",
      "Processed cos (121).jpg\n",
      "Processed cos (122).jpg\n",
      "Processed cos (123).jpg\n",
      "Processed cos (124).jpg\n",
      "Processed cos (125).jpg\n",
      "Processed cos (126).jpg\n",
      "Processed cos (127).jpg\n",
      "Processed cos (128).jpg\n",
      "Processed cos (129).jpg\n",
      "Processed cos (13).jpg\n",
      "Processed cos (130).jpg\n",
      "Processed cos (14).jpg\n",
      "Processed cos (15).jpg\n",
      "Processed cos (16).jpg\n",
      "Processed cos (17).jpg\n",
      "Processed cos (18).jpg\n",
      "Processed cos (19).jpg\n",
      "Processed cos (2).jpg\n",
      "Processed cos (20).jpg\n",
      "Processed cos (21).jpg\n",
      "Processed cos (22).jpg\n",
      "Processed cos (23).jpg\n",
      "Processed cos (24).jpg\n",
      "Processed cos (25).jpg\n",
      "Processed cos (26).jpg\n",
      "Processed cos (27).jpg\n",
      "Processed cos (28).jpg\n",
      "Processed cos (29).jpg\n",
      "Processed cos (3).jpg\n",
      "Processed cos (30).jpg\n",
      "Processed cos (31).jpg\n",
      "Processed cos (32).jpg\n",
      "Processed cos (33).jpg\n",
      "Processed cos (34).jpg\n",
      "Processed cos (35).jpg\n",
      "Processed cos (36).jpg\n",
      "Processed cos (37).jpg\n",
      "Processed cos (38).jpg\n",
      "Processed cos (39).jpg\n",
      "Processed cos (4).jpg\n",
      "Processed cos (40).jpg\n",
      "Processed cos (41).jpg\n",
      "Processed cos (42).jpg\n",
      "Processed cos (43).jpg\n",
      "Processed cos (45).jpg\n",
      "Processed cos (46).jpg\n",
      "Processed cos (47).jpg\n",
      "Processed cos (48).jpg\n",
      "Processed cos (49).jpg\n",
      "Processed cos (5).jpg\n",
      "Processed cos (50).jpg\n",
      "Processed cos (51).jpg\n",
      "Processed cos (52).jpg\n",
      "Processed cos (53).jpg\n",
      "Processed cos (54).jpg\n",
      "Processed cos (55).jpg\n",
      "Processed cos (56).jpg\n",
      "Processed cos (57).jpg\n",
      "Processed cos (58).jpg\n",
      "Processed cos (59).jpg\n",
      "Processed cos (6).jpg\n",
      "Processed cos (60).jpg\n",
      "Processed cos (61).jpg\n",
      "Processed cos (62).jpg\n",
      "Processed cos (63).jpg\n",
      "Processed cos (64).jpg\n",
      "Processed cos (65).jpg\n",
      "Processed cos (66).jpg\n",
      "Processed cos (67).jpg\n",
      "Processed cos (68).jpg\n",
      "Processed cos (69).jpg\n",
      "Processed cos (7).jpg\n",
      "Processed cos (70).jpg\n",
      "Processed cos (71).jpg\n",
      "Processed cos (72).jpg\n",
      "Processed cos (73).jpg\n",
      "Processed cos (74).jpg\n",
      "Processed cos (75).jpg\n",
      "Processed cos (76).jpg\n",
      "Processed cos (78).jpg\n",
      "Processed cos (79).jpg\n",
      "Processed cos (8).jpg\n",
      "Processed cos (80).jpg\n",
      "Processed cos (81).jpg\n",
      "Processed cos (82).jpg\n",
      "Processed cos (83).jpg\n",
      "Processed cos (84).jpg\n",
      "Processed cos (85).jpg\n",
      "Processed cos (86).jpg\n",
      "Processed cos (87).jpg\n",
      "Processed cos (88).jpg\n",
      "Processed cos (9).jpg\n",
      "Processed cos (91).jpg\n",
      "Processed cos (92).jpg\n",
      "Processed cos (93).jpg\n",
      "Processed cos (94).jpg\n",
      "Processed cos (96).jpg\n",
      "Processed cos (97).jpg\n",
      "Processed cos (98).jpg\n",
      "Processed cos (99).jpg\n",
      "Processed google_0001.jpg_person_0.jpg\n",
      "Processed google_0002.jpg_person_0.jpg\n",
      "Processed google_0004.png_person_0.jpg\n",
      "Processed google_0010.jpg_person_0.jpg\n",
      "Processed google_0011.jpg_person_0.jpg\n",
      "Processed google_0028.jpg_person_0.jpg\n",
      "Processed google_0033.jpg_person_0.jpg\n",
      "Processed google_0049.jpg_person_0.jpg\n",
      "Processed google_0064.png_person_0.jpg\n",
      "Processed google_0093.jpg_person_0.jpg\n",
      "Processed google_0099.jpg_person_0.jpg\n",
      "Processed google_0115.jpg_person_0.jpg\n",
      "Processed google_0123.jpg_person_0.jpg\n",
      "Processed google_0136.jpg_person_0.jpg\n",
      "Processed google_0138.jpg_person_0.jpg\n",
      "Processed google_0142.jpg_person_0.jpg\n",
      "Processed google_0144.jpg_person_0.jpg\n",
      "Processed google_0190.png_person_0.jpg\n",
      "Processed google_0221.jpg_person_0.jpg\n",
      "Processed google_0232.jpg_person_0.jpg\n",
      "Processed google_0251.png_person_0.jpg\n",
      "Processed google_0260.png_person_0.jpg\n",
      "Processed google_0279.jpg_person_0.jpg\n",
      "Processed google_0289.png_person_0.jpg\n",
      "Processed google_0354.jpg_person_0.jpg\n",
      "Processed google_0359.png_person_0.jpg\n",
      "Processed google_0361.png_person_0.jpg\n",
      "Processed google_0363.png_person_0.jpg\n",
      "Processed google_0368.webp_person_0.jpg\n"
     ]
    }
   ],
   "source": [
    "# Apply augmentation here\n",
    "# remember to change input_folder and output_folder!!!\n",
    "char_list = ['dori', 'lisa', 'amber', 'childe', 'venti', 'zhongli', 'eula', 'ganyu', 'hutao', 'yoimiya', 'raiden', 'nahida']\n",
    "augmentation.process_folder(char_list, num_aug=3)"
   ]
  },
  {
   "cell_type": "code",
   "execution_count": 8,
   "metadata": {},
   "outputs": [],
   "source": [
    "# Target is on all the root directory for all the _extracted folders\n",
    "dataset_dir = './dataset/augmented' # Whatever folder the augmented dataset is in\n",
    "train_dir = './processed_splits/train'  # Destination for training set\n",
    "test_dir = './processed_splits/test'    # Destination for test set\n",
    "val_dir = './processed_splits/val'    # Destination for validation set\n",
    "\n",
    "os.makedirs(train_dir, exist_ok=True)\n",
    "os.makedirs(test_dir, exist_ok=True)\n",
    "os.makedirs(val_dir, exist_ok=True)"
   ]
  },
  {
   "cell_type": "code",
   "execution_count": 5,
   "metadata": {},
   "outputs": [],
   "source": [
    "def train_test_val_split(dataset_dir, test_size, val_size):\n",
    "    for character_folder in os.listdir(dataset_dir):\n",
    "        character_path = os.path.join(dataset_dir, character_folder)\n",
    "\n",
    "        if os.path.isdir(character_path):\n",
    "            # Get all image filenames for the current character\n",
    "            images = os.listdir(character_path)\n",
    "\n",
    "            # Split into train+val and test sets\n",
    "            train_val_images, test_images = train_test_split(images, test_size=test_size, random_state=5242)\n",
    "\n",
    "            # Split train_val into train and val sets\n",
    "            train_images, val_images = train_test_split(train_val_images, test_size=val_size, random_state=5242)\n",
    "\n",
    "            # Create train, val, and test subfolders for the character\n",
    "            train_character_dir = os.path.join(train_dir, character_folder)\n",
    "            val_character_dir = os.path.join(val_dir, character_folder)\n",
    "            test_character_dir = os.path.join(test_dir, character_folder)\n",
    "            os.makedirs(train_character_dir, exist_ok=True)\n",
    "            os.makedirs(val_character_dir, exist_ok=True)\n",
    "            os.makedirs(test_character_dir, exist_ok=True)\n",
    "\n",
    "            # Move training images\n",
    "            for image in train_images:\n",
    "                src_image_path = os.path.join(character_path, image)\n",
    "                dst_image_path = os.path.join(train_character_dir, image)\n",
    "                shutil.copy(src_image_path, dst_image_path)\n",
    "\n",
    "            # Move validation images\n",
    "            for image in val_images:\n",
    "                src_image_path = os.path.join(character_path, image)\n",
    "                dst_image_path = os.path.join(val_character_dir, image)\n",
    "                shutil.copy(src_image_path, dst_image_path)\n",
    "\n",
    "            # Move testing images\n",
    "            for image in test_images:\n",
    "                src_image_path = os.path.join(character_path, image)\n",
    "                dst_image_path = os.path.join(test_character_dir, image)\n",
    "                shutil.copy(src_image_path, dst_image_path)\n",
    "\n",
    "            print(f'Successfully split {character_folder} into train/test/val sets.')"
   ]
  },
  {
   "cell_type": "code",
   "execution_count": 9,
   "metadata": {},
   "outputs": [],
   "source": [
    "# Define split ratios\n",
    "test_size = 0.15\n",
    "val_size = 0.15"
   ]
  },
  {
   "cell_type": "code",
   "execution_count": 21,
   "metadata": {},
   "outputs": [
    {
     "name": "stdout",
     "output_type": "stream",
     "text": [
      "Successfully split amber_augmented into train/test/val sets.\n",
      "Successfully split childe_augmented into train/test/val sets.\n",
      "Successfully split dori_augmented into train/test/val sets.\n",
      "Successfully split eula_augmented into train/test/val sets.\n",
      "Successfully split ganyu_augmented into train/test/val sets.\n",
      "Successfully split hutao_augmented into train/test/val sets.\n",
      "Successfully split lisa_augmented into train/test/val sets.\n",
      "Successfully split nahida_augmented into train/test/val sets.\n",
      "Successfully split raiden_augmented into train/test/val sets.\n",
      "Successfully split venti_augmented into train/test/val sets.\n",
      "Successfully split yoimiya_augmented into train/test/val sets.\n",
      "Successfully split zhongli_augmented into train/test/val sets.\n"
     ]
    }
   ],
   "source": [
    "train_test_val_split(dataset_dir, test_size, val_size)"
   ]
  },
  {
   "cell_type": "code",
   "execution_count": 10,
   "metadata": {},
   "outputs": [],
   "source": [
    "# Transformations\n",
    "transform = transforms.Compose([\n",
    "    transforms.Resize((224, 224)),\n",
    "    transforms.ToTensor(),\n",
    "    transforms.Normalize(mean=[0.485, 0.456, 0.406], std=[0.229, 0.224, 0.225])\n",
    "])\n",
    "\n",
    "train_dataset = torchvision.datasets.ImageFolder(train_dir, transform=transform)\n",
    "val_dataset = torchvision.datasets.ImageFolder(val_dir, transform=transform)\n",
    "\n",
    "# Pass these datasets to DataLoader\n",
    "train_loader = torch.utils.data.DataLoader(train_dataset, batch_size=32, shuffle=True)\n",
    "val_loader = torch.utils.data.DataLoader(val_dataset, batch_size=32, shuffle=False)"
   ]
  },
  {
   "cell_type": "markdown",
   "metadata": {},
   "source": [
    "# Training"
   ]
  },
  {
   "cell_type": "code",
   "execution_count": 11,
   "metadata": {},
   "outputs": [],
   "source": [
    "# Loss Function\n",
    "criterion = nn.CrossEntropyLoss()\n",
    "\n",
    "# Optimizer\n",
    "optimizer = optim.AdamW(filter(lambda p: p.requires_grad, model.parameters()), lr=0.001, betas=(0.9, 0.999), eps=1e-08, weight_decay=0.01, amsgrad=False, maximize=False, foreach=None, capturable=False, differentiable=False, fused=None)\n",
    "\n",
    "# Learning Rate Scheduler\n",
    "scheduler = optim.lr_scheduler.StepLR(optimizer, step_size=10, gamma=0.1)\n"
   ]
  },
  {
   "cell_type": "code",
   "execution_count": 12,
   "metadata": {},
   "outputs": [],
   "source": [
    "def train(model, train_loader, val_loader, criterion, optimizer, scheduler, device, num_epochs=30, patience=5):\n",
    "    best_val_accuracy = 0.0\n",
    "    trigger_times = 0\n",
    "\n",
    "    train_losses=[]\n",
    "    val_losses=[]\n",
    "\n",
    "    for epoch in range(num_epochs):\n",
    "        print(f'Epoch {epoch+1}/{num_epochs}')\n",
    "        print('-' * 10)\n",
    "\n",
    "        # Training Phase\n",
    "        model.train()\n",
    "        running_loss = 0.0\n",
    "        running_corrects = 0\n",
    "\n",
    "        for inputs, labels in tqdm(train_loader, desc='Training', leave=False):\n",
    "            inputs = inputs.to(device)\n",
    "            labels = labels.to(device)\n",
    "\n",
    "            optimizer.zero_grad()\n",
    "\n",
    "            # Forward pass\n",
    "            outputs = model(inputs).logits\n",
    "            \n",
    "            # Labels for accuracy\n",
    "            labels_copy = labels.clone()\n",
    "\n",
    "            # Adjustments based on loss function\n",
    "            if isinstance(criterion, nn.NLLLoss):\n",
    "                outputs = nn.functional.log_softmax(outputs, dim=1)\n",
    "            elif isinstance(criterion, nn.KLDivLoss):\n",
    "                outputs = nn.functional.log_softmax(outputs, dim=1)\n",
    "                labels = nn.functional.one_hot(labels, num_classes=12).float().to(device)\n",
    "            elif isinstance(criterion, nn.MSELoss):\n",
    "                outputs = nn.functional.softmax(outputs, dim=1)\n",
    "                labels = nn.functional.one_hot(labels, num_classes=12).float().to(device)\n",
    "            else:\n",
    "                # For CrossEntropyLoss\n",
    "                pass\n",
    "\n",
    "            _, preds = torch.max(outputs, 1)\n",
    "            loss = criterion(outputs, labels)\n",
    "\n",
    "            # Backward pass and optimization\n",
    "            loss.backward()\n",
    "            optimizer.step()\n",
    "\n",
    "            # Statistics\n",
    "            running_loss += loss.item() * inputs.size(0)\n",
    "            running_corrects += torch.sum(preds == labels_copy.data)\n",
    "\n",
    "        epoch_loss = running_loss / len(train_loader.dataset)\n",
    "        epoch_acc = running_corrects.double() / len(train_loader.dataset)\n",
    "        train_losses.append(epoch_loss)\n",
    "\n",
    "        print(f'Training Loss: {epoch_loss:.4f} Acc: {epoch_acc:.4f}')\n",
    "\n",
    "        # Validation Phase\n",
    "        model.eval()\n",
    "        val_running_corrects = 0\n",
    "        val_running_loss = 0\n",
    "        \n",
    "        with torch.no_grad():\n",
    "            for inputs, labels in tqdm(val_loader, desc='Validation', leave=False):\n",
    "                inputs = inputs.to(device)\n",
    "                labels = labels.to(device)\n",
    "\n",
    "                outputs = model(inputs).logits\n",
    "\n",
    "                # Labels for accuracy\n",
    "                labels_copy = labels.clone()\n",
    "\n",
    "                # Adjustments based on loss function\n",
    "                if isinstance(criterion, nn.NLLLoss):\n",
    "                    outputs = nn.functional.log_softmax(outputs, dim=1)\n",
    "                elif isinstance(criterion, nn.KLDivLoss):\n",
    "                    outputs = nn.functional.log_softmax(outputs, dim=1)\n",
    "                    labels = nn.functional.one_hot(labels, num_classes=12).float().to(device)\n",
    "                elif isinstance(criterion, nn.MSELoss):\n",
    "                    outputs = nn.functional.softmax(outputs, dim=1)\n",
    "                    labels = nn.functional.one_hot(labels, num_classes=12).float().to(device)\n",
    "                else:\n",
    "                    pass\n",
    "                \n",
    "                _, preds = torch.max(outputs, 1)\n",
    "                \n",
    "                val_running_loss+=loss.item()*inputs.size(0)\n",
    "                val_running_corrects += torch.sum(preds == labels_copy.data)\n",
    "\n",
    "        val_accuracy = val_running_corrects.double() / len(val_loader.dataset)\n",
    "        val_loss = val_running_loss/len(val_loader.dataset)\n",
    "        val_losses.append(val_loss)\n",
    "        print(f'Validation Acc: {val_accuracy:.4f}')\n",
    "\n",
    "        # Check for improvement\n",
    "        if val_accuracy > best_val_accuracy:\n",
    "            best_val_accuracy = val_accuracy\n",
    "            torch.save(model.state_dict(), 'best_model.pth')\n",
    "            print('Best model saved.')\n",
    "            trigger_times = 0\n",
    "        else:\n",
    "            trigger_times += 1\n",
    "            print(f'No improvement for {trigger_times} epoch(s).')\n",
    "\n",
    "            if trigger_times >= patience:\n",
    "                print('Early stopping triggered.')\n",
    "                break\n",
    "\n",
    "        # Step the scheduler\n",
    "        scheduler.step()\n",
    "\n",
    "    print(f'Training complete. Best Validation Accuracy: {best_val_accuracy:.4f}')\n",
    "\n",
    "    return train_losses, val_losses"
   ]
  },
  {
   "cell_type": "code",
   "execution_count": 13,
   "metadata": {},
   "outputs": [],
   "source": [
    "# Loss functions\n",
    "loss_functions = {\n",
    "    'MSELoss': nn.MSELoss(),  # Mean Squared Error Loss\n",
    "    'KLDivLoss': nn.KLDivLoss(reduction='batchmean'),  # Kullback-Leibler Divergence Loss\n",
    "    'CrossEntropyLoss': nn.CrossEntropyLoss(), # Cross Entropy Loss\n",
    "    'NLLLoss': nn.NLLLoss(),  # Negative Log Likelihood Loss\n",
    "}\n"
   ]
  },
  {
   "cell_type": "code",
   "execution_count": 14,
   "metadata": {},
   "outputs": [],
   "source": [
    "def compareLossFunctions(loss_functions, train_dataset, val_dataset, device, num_epochs=30, patience=5):\n",
    "    loss_results = {}\n",
    "\n",
    "    for loss_function_name, criterion in loss_functions.items():\n",
    "        print(f'\\nTraining with loss function: {loss_function_name}')\n",
    "        \n",
    "        # Re-initialize model\n",
    "        model = ViTForImageClassification.from_pretrained(\n",
    "            'google/vit-base-patch16-224',\n",
    "            num_labels=12,\n",
    "            ignore_mismatched_sizes=True\n",
    "        )\n",
    "        model.to(device)\n",
    "        \n",
    "        optimizer = optim.AdamW(filter(lambda p: p.requires_grad, model.parameters()), lr=0.001, betas=(0.9, 0.999), eps=1e-08, weight_decay=0.01, amsgrad=False, maximize=False, foreach=None, capturable=False, differentiable=False, fused=None)\n",
    "        scheduler = optim.lr_scheduler.StepLR(optimizer, step_size=10, gamma=0.1)\n",
    "        \n",
    "        train_loader = torch.utils.data.DataLoader(train_dataset, batch_size=32, shuffle=True)\n",
    "        val_loader = torch.utils.data.DataLoader(val_dataset, batch_size=32, shuffle=False)\n",
    "        \n",
    "        # Collection of metrics required to see which loss function is the best\n",
    "        train_losses,val_losses = train(model, train_loader, val_loader, criterion, optimizer, scheduler, device, num_epochs=30, patience=5)\n",
    "        loss_results[loss_function_name]={'train':train_losses,'val':val_losses}\n",
    "\n",
    "        del model\n",
    "\n",
    "    return loss_results"
   ]
  },
  {
   "cell_type": "code",
   "execution_count": 15,
   "metadata": {},
   "outputs": [
    {
     "name": "stdout",
     "output_type": "stream",
     "text": [
      "\n",
      "Training with loss function: MSELoss\n"
     ]
    },
    {
     "name": "stderr",
     "output_type": "stream",
     "text": [
      "Some weights of ViTForImageClassification were not initialized from the model checkpoint at google/vit-base-patch16-224 and are newly initialized because the shapes did not match:\n",
      "- classifier.bias: found shape torch.Size([1000]) in the checkpoint and torch.Size([12]) in the model instantiated\n",
      "- classifier.weight: found shape torch.Size([1000, 768]) in the checkpoint and torch.Size([12, 768]) in the model instantiated\n",
      "You should probably TRAIN this model on a down-stream task to be able to use it for predictions and inference.\n"
     ]
    },
    {
     "name": "stdout",
     "output_type": "stream",
     "text": [
      "Epoch 1/30\n",
      "----------\n"
     ]
    },
    {
     "name": "stderr",
     "output_type": "stream",
     "text": [
      "                                                           \r"
     ]
    },
    {
     "name": "stdout",
     "output_type": "stream",
     "text": [
      "Training Loss: 0.0681 Acc: 0.3161\n"
     ]
    },
    {
     "name": "stderr",
     "output_type": "stream",
     "text": [
      "                                                           \r"
     ]
    },
    {
     "name": "stdout",
     "output_type": "stream",
     "text": [
      "Validation Acc: 0.5065\n",
      "Best model saved.\n",
      "Epoch 2/30\n",
      "----------\n"
     ]
    },
    {
     "name": "stderr",
     "output_type": "stream",
     "text": [
      "                                                           \r"
     ]
    },
    {
     "name": "stdout",
     "output_type": "stream",
     "text": [
      "Training Loss: 0.0404 Acc: 0.6506\n"
     ]
    },
    {
     "name": "stderr",
     "output_type": "stream",
     "text": [
      "                                                           \r"
     ]
    },
    {
     "name": "stdout",
     "output_type": "stream",
     "text": [
      "Validation Acc: 0.7202\n",
      "Best model saved.\n",
      "Epoch 3/30\n",
      "----------\n"
     ]
    },
    {
     "name": "stderr",
     "output_type": "stream",
     "text": [
      "                                                           \r"
     ]
    },
    {
     "name": "stdout",
     "output_type": "stream",
     "text": [
      "Training Loss: 0.0300 Acc: 0.7504\n"
     ]
    },
    {
     "name": "stderr",
     "output_type": "stream",
     "text": [
      "                                                           \r"
     ]
    },
    {
     "name": "stdout",
     "output_type": "stream",
     "text": [
      "Validation Acc: 0.7581\n",
      "Best model saved.\n",
      "Epoch 4/30\n",
      "----------\n"
     ]
    },
    {
     "name": "stderr",
     "output_type": "stream",
     "text": [
      "                                                           \r"
     ]
    },
    {
     "name": "stdout",
     "output_type": "stream",
     "text": [
      "Training Loss: 0.0230 Acc: 0.8167\n"
     ]
    },
    {
     "name": "stderr",
     "output_type": "stream",
     "text": [
      "                                                           \r"
     ]
    },
    {
     "name": "stdout",
     "output_type": "stream",
     "text": [
      "Validation Acc: 0.8026\n",
      "Best model saved.\n",
      "Epoch 5/30\n",
      "----------\n"
     ]
    },
    {
     "name": "stderr",
     "output_type": "stream",
     "text": [
      "                                                           \r"
     ]
    },
    {
     "name": "stdout",
     "output_type": "stream",
     "text": [
      "Training Loss: 0.0207 Acc: 0.8308\n"
     ]
    },
    {
     "name": "stderr",
     "output_type": "stream",
     "text": [
      "                                                           \r"
     ]
    },
    {
     "name": "stdout",
     "output_type": "stream",
     "text": [
      "Validation Acc: 0.8492\n",
      "Best model saved.\n",
      "Epoch 6/30\n",
      "----------\n"
     ]
    },
    {
     "name": "stderr",
     "output_type": "stream",
     "text": [
      "                                                           \r"
     ]
    },
    {
     "name": "stdout",
     "output_type": "stream",
     "text": [
      "Training Loss: 0.0169 Acc: 0.8651\n"
     ]
    },
    {
     "name": "stderr",
     "output_type": "stream",
     "text": [
      "                                                           \r"
     ]
    },
    {
     "name": "stdout",
     "output_type": "stream",
     "text": [
      "Validation Acc: 0.7874\n",
      "No improvement for 1 epoch(s).\n",
      "Epoch 7/30\n",
      "----------\n"
     ]
    },
    {
     "name": "stderr",
     "output_type": "stream",
     "text": [
      "                                                           \r"
     ]
    },
    {
     "name": "stdout",
     "output_type": "stream",
     "text": [
      "Training Loss: 0.0177 Acc: 0.8547\n"
     ]
    },
    {
     "name": "stderr",
     "output_type": "stream",
     "text": [
      "                                                           \r"
     ]
    },
    {
     "name": "stdout",
     "output_type": "stream",
     "text": [
      "Validation Acc: 0.8004\n",
      "No improvement for 2 epoch(s).\n",
      "Epoch 8/30\n",
      "----------\n"
     ]
    },
    {
     "name": "stderr",
     "output_type": "stream",
     "text": [
      "                                                           \r"
     ]
    },
    {
     "name": "stdout",
     "output_type": "stream",
     "text": [
      "Training Loss: 0.0152 Acc: 0.8749\n"
     ]
    },
    {
     "name": "stderr",
     "output_type": "stream",
     "text": [
      "                                                           \r"
     ]
    },
    {
     "name": "stdout",
     "output_type": "stream",
     "text": [
      "Validation Acc: 0.8395\n",
      "No improvement for 3 epoch(s).\n",
      "Epoch 9/30\n",
      "----------\n"
     ]
    },
    {
     "name": "stderr",
     "output_type": "stream",
     "text": [
      "                                                           \r"
     ]
    },
    {
     "name": "stdout",
     "output_type": "stream",
     "text": [
      "Training Loss: 0.0140 Acc: 0.8902\n"
     ]
    },
    {
     "name": "stderr",
     "output_type": "stream",
     "text": [
      "                                                           \r"
     ]
    },
    {
     "name": "stdout",
     "output_type": "stream",
     "text": [
      "Validation Acc: 0.8536\n",
      "Best model saved.\n",
      "Epoch 10/30\n",
      "----------\n"
     ]
    },
    {
     "name": "stderr",
     "output_type": "stream",
     "text": [
      "                                                           \r"
     ]
    },
    {
     "name": "stdout",
     "output_type": "stream",
     "text": [
      "Training Loss: 0.0118 Acc: 0.9069\n"
     ]
    },
    {
     "name": "stderr",
     "output_type": "stream",
     "text": [
      "                                                           \r"
     ]
    },
    {
     "name": "stdout",
     "output_type": "stream",
     "text": [
      "Validation Acc: 0.8655\n",
      "Best model saved.\n",
      "Epoch 11/30\n",
      "----------\n"
     ]
    },
    {
     "name": "stderr",
     "output_type": "stream",
     "text": [
      "                                                           \r"
     ]
    },
    {
     "name": "stdout",
     "output_type": "stream",
     "text": [
      "Training Loss: 0.0059 Acc: 0.9537\n"
     ]
    },
    {
     "name": "stderr",
     "output_type": "stream",
     "text": [
      "                                                           \r"
     ]
    },
    {
     "name": "stdout",
     "output_type": "stream",
     "text": [
      "Validation Acc: 0.9056\n",
      "Best model saved.\n",
      "Epoch 12/30\n",
      "----------\n"
     ]
    },
    {
     "name": "stderr",
     "output_type": "stream",
     "text": [
      "                                                           \r"
     ]
    },
    {
     "name": "stdout",
     "output_type": "stream",
     "text": [
      "Training Loss: 0.0035 Acc: 0.9741\n"
     ]
    },
    {
     "name": "stderr",
     "output_type": "stream",
     "text": [
      "                                                           \r"
     ]
    },
    {
     "name": "stdout",
     "output_type": "stream",
     "text": [
      "Validation Acc: 0.9089\n",
      "Best model saved.\n",
      "Epoch 13/30\n",
      "----------\n"
     ]
    },
    {
     "name": "stderr",
     "output_type": "stream",
     "text": [
      "                                                           \r"
     ]
    },
    {
     "name": "stdout",
     "output_type": "stream",
     "text": [
      "Training Loss: 0.0027 Acc: 0.9800\n"
     ]
    },
    {
     "name": "stderr",
     "output_type": "stream",
     "text": [
      "                                                           \r"
     ]
    },
    {
     "name": "stdout",
     "output_type": "stream",
     "text": [
      "Validation Acc: 0.9089\n",
      "No improvement for 1 epoch(s).\n",
      "Epoch 14/30\n",
      "----------\n"
     ]
    },
    {
     "name": "stderr",
     "output_type": "stream",
     "text": [
      "                                                           \r"
     ]
    },
    {
     "name": "stdout",
     "output_type": "stream",
     "text": [
      "Training Loss: 0.0023 Acc: 0.9829\n"
     ]
    },
    {
     "name": "stderr",
     "output_type": "stream",
     "text": [
      "                                                           \r"
     ]
    },
    {
     "name": "stdout",
     "output_type": "stream",
     "text": [
      "Validation Acc: 0.9154\n",
      "Best model saved.\n",
      "Epoch 15/30\n",
      "----------\n"
     ]
    },
    {
     "name": "stderr",
     "output_type": "stream",
     "text": [
      "                                                           \r"
     ]
    },
    {
     "name": "stdout",
     "output_type": "stream",
     "text": [
      "Training Loss: 0.0019 Acc: 0.9855\n"
     ]
    },
    {
     "name": "stderr",
     "output_type": "stream",
     "text": [
      "                                                           \r"
     ]
    },
    {
     "name": "stdout",
     "output_type": "stream",
     "text": [
      "Validation Acc: 0.9132\n",
      "No improvement for 1 epoch(s).\n",
      "Epoch 16/30\n",
      "----------\n"
     ]
    },
    {
     "name": "stderr",
     "output_type": "stream",
     "text": [
      "                                                           \r"
     ]
    },
    {
     "name": "stdout",
     "output_type": "stream",
     "text": [
      "Training Loss: 0.0016 Acc: 0.9882\n"
     ]
    },
    {
     "name": "stderr",
     "output_type": "stream",
     "text": [
      "                                                           \r"
     ]
    },
    {
     "name": "stdout",
     "output_type": "stream",
     "text": [
      "Validation Acc: 0.9154\n",
      "No improvement for 2 epoch(s).\n",
      "Epoch 17/30\n",
      "----------\n"
     ]
    },
    {
     "name": "stderr",
     "output_type": "stream",
     "text": [
      "                                                           \r"
     ]
    },
    {
     "name": "stdout",
     "output_type": "stream",
     "text": [
      "Training Loss: 0.0014 Acc: 0.9884\n"
     ]
    },
    {
     "name": "stderr",
     "output_type": "stream",
     "text": [
      "                                                           \r"
     ]
    },
    {
     "name": "stdout",
     "output_type": "stream",
     "text": [
      "Validation Acc: 0.9143\n",
      "No improvement for 3 epoch(s).\n",
      "Epoch 18/30\n",
      "----------\n"
     ]
    },
    {
     "name": "stderr",
     "output_type": "stream",
     "text": [
      "                                                           \r"
     ]
    },
    {
     "name": "stdout",
     "output_type": "stream",
     "text": [
      "Training Loss: 0.0013 Acc: 0.9898\n"
     ]
    },
    {
     "name": "stderr",
     "output_type": "stream",
     "text": [
      "                                                           \r"
     ]
    },
    {
     "name": "stdout",
     "output_type": "stream",
     "text": [
      "Validation Acc: 0.9100\n",
      "No improvement for 4 epoch(s).\n",
      "Epoch 19/30\n",
      "----------\n"
     ]
    },
    {
     "name": "stderr",
     "output_type": "stream",
     "text": [
      "                                                           \r"
     ]
    },
    {
     "name": "stdout",
     "output_type": "stream",
     "text": [
      "Training Loss: 0.0011 Acc: 0.9914\n"
     ]
    },
    {
     "name": "stderr",
     "output_type": "stream",
     "text": [
      "                                                           \r"
     ]
    },
    {
     "name": "stdout",
     "output_type": "stream",
     "text": [
      "Validation Acc: 0.9111\n",
      "No improvement for 5 epoch(s).\n",
      "Early stopping triggered.\n",
      "Training complete. Best Validation Accuracy: 0.9154\n",
      "\n",
      "Training with loss function: KLDivLoss\n"
     ]
    },
    {
     "name": "stderr",
     "output_type": "stream",
     "text": [
      "Some weights of ViTForImageClassification were not initialized from the model checkpoint at google/vit-base-patch16-224 and are newly initialized because the shapes did not match:\n",
      "- classifier.bias: found shape torch.Size([1000]) in the checkpoint and torch.Size([12]) in the model instantiated\n",
      "- classifier.weight: found shape torch.Size([1000, 768]) in the checkpoint and torch.Size([12, 768]) in the model instantiated\n",
      "You should probably TRAIN this model on a down-stream task to be able to use it for predictions and inference.\n"
     ]
    },
    {
     "name": "stdout",
     "output_type": "stream",
     "text": [
      "Epoch 1/30\n",
      "----------\n"
     ]
    },
    {
     "name": "stderr",
     "output_type": "stream",
     "text": [
      "                                                           \r"
     ]
    },
    {
     "name": "stdout",
     "output_type": "stream",
     "text": [
      "Training Loss: 1.0290 Acc: 0.6625\n"
     ]
    },
    {
     "name": "stderr",
     "output_type": "stream",
     "text": [
      "                                                           \r"
     ]
    },
    {
     "name": "stdout",
     "output_type": "stream",
     "text": [
      "Validation Acc: 0.7993\n",
      "Best model saved.\n",
      "Epoch 2/30\n",
      "----------\n"
     ]
    },
    {
     "name": "stderr",
     "output_type": "stream",
     "text": [
      "                                                           \r"
     ]
    },
    {
     "name": "stdout",
     "output_type": "stream",
     "text": [
      "Training Loss: 0.5090 Acc: 0.8369\n"
     ]
    },
    {
     "name": "stderr",
     "output_type": "stream",
     "text": [
      "                                                           \r"
     ]
    },
    {
     "name": "stdout",
     "output_type": "stream",
     "text": [
      "Validation Acc: 0.8134\n",
      "Best model saved.\n",
      "Epoch 3/30\n",
      "----------\n"
     ]
    },
    {
     "name": "stderr",
     "output_type": "stream",
     "text": [
      "                                                           \r"
     ]
    },
    {
     "name": "stdout",
     "output_type": "stream",
     "text": [
      "Training Loss: 0.4013 Acc: 0.8696\n"
     ]
    },
    {
     "name": "stderr",
     "output_type": "stream",
     "text": [
      "                                                           \r"
     ]
    },
    {
     "name": "stdout",
     "output_type": "stream",
     "text": [
      "Validation Acc: 0.8829\n",
      "Best model saved.\n",
      "Epoch 4/30\n",
      "----------\n"
     ]
    },
    {
     "name": "stderr",
     "output_type": "stream",
     "text": [
      "                                                           \r"
     ]
    },
    {
     "name": "stdout",
     "output_type": "stream",
     "text": [
      "Training Loss: 0.2859 Acc: 0.9067\n"
     ]
    },
    {
     "name": "stderr",
     "output_type": "stream",
     "text": [
      "                                                           \r"
     ]
    },
    {
     "name": "stdout",
     "output_type": "stream",
     "text": [
      "Validation Acc: 0.8341\n",
      "No improvement for 1 epoch(s).\n",
      "Epoch 5/30\n",
      "----------\n"
     ]
    },
    {
     "name": "stderr",
     "output_type": "stream",
     "text": [
      "                                                           \r"
     ]
    },
    {
     "name": "stdout",
     "output_type": "stream",
     "text": [
      "Training Loss: 0.2837 Acc: 0.9053\n"
     ]
    },
    {
     "name": "stderr",
     "output_type": "stream",
     "text": [
      "                                                           \r"
     ]
    },
    {
     "name": "stdout",
     "output_type": "stream",
     "text": [
      "Validation Acc: 0.8970\n",
      "Best model saved.\n",
      "Epoch 6/30\n",
      "----------\n"
     ]
    },
    {
     "name": "stderr",
     "output_type": "stream",
     "text": [
      "                                                           \r"
     ]
    },
    {
     "name": "stdout",
     "output_type": "stream",
     "text": [
      "Training Loss: 0.1645 Acc: 0.9494\n"
     ]
    },
    {
     "name": "stderr",
     "output_type": "stream",
     "text": [
      "                                                           \r"
     ]
    },
    {
     "name": "stdout",
     "output_type": "stream",
     "text": [
      "Validation Acc: 0.9067\n",
      "Best model saved.\n",
      "Epoch 7/30\n",
      "----------\n"
     ]
    },
    {
     "name": "stderr",
     "output_type": "stream",
     "text": [
      "                                                           \r"
     ]
    },
    {
     "name": "stdout",
     "output_type": "stream",
     "text": [
      "Training Loss: 0.1715 Acc: 0.9429\n"
     ]
    },
    {
     "name": "stderr",
     "output_type": "stream",
     "text": [
      "                                                           \r"
     ]
    },
    {
     "name": "stdout",
     "output_type": "stream",
     "text": [
      "Validation Acc: 0.8818\n",
      "No improvement for 1 epoch(s).\n",
      "Epoch 8/30\n",
      "----------\n"
     ]
    },
    {
     "name": "stderr",
     "output_type": "stream",
     "text": [
      "                                                           \r"
     ]
    },
    {
     "name": "stdout",
     "output_type": "stream",
     "text": [
      "Training Loss: 0.1761 Acc: 0.9437\n"
     ]
    },
    {
     "name": "stderr",
     "output_type": "stream",
     "text": [
      "                                                           \r"
     ]
    },
    {
     "name": "stdout",
     "output_type": "stream",
     "text": [
      "Validation Acc: 0.8872\n",
      "No improvement for 2 epoch(s).\n",
      "Epoch 9/30\n",
      "----------\n"
     ]
    },
    {
     "name": "stderr",
     "output_type": "stream",
     "text": [
      "                                                           \r"
     ]
    },
    {
     "name": "stdout",
     "output_type": "stream",
     "text": [
      "Training Loss: 0.1443 Acc: 0.9516\n"
     ]
    },
    {
     "name": "stderr",
     "output_type": "stream",
     "text": [
      "                                                           \r"
     ]
    },
    {
     "name": "stdout",
     "output_type": "stream",
     "text": [
      "Validation Acc: 0.8753\n",
      "No improvement for 3 epoch(s).\n",
      "Epoch 10/30\n",
      "----------\n"
     ]
    },
    {
     "name": "stderr",
     "output_type": "stream",
     "text": [
      "                                                           \r"
     ]
    },
    {
     "name": "stdout",
     "output_type": "stream",
     "text": [
      "Training Loss: 0.1403 Acc: 0.9520\n"
     ]
    },
    {
     "name": "stderr",
     "output_type": "stream",
     "text": [
      "                                                           \r"
     ]
    },
    {
     "name": "stdout",
     "output_type": "stream",
     "text": [
      "Validation Acc: 0.8829\n",
      "No improvement for 4 epoch(s).\n",
      "Epoch 11/30\n",
      "----------\n"
     ]
    },
    {
     "name": "stderr",
     "output_type": "stream",
     "text": [
      "                                                           \r"
     ]
    },
    {
     "name": "stdout",
     "output_type": "stream",
     "text": [
      "Training Loss: 0.0305 Acc: 0.9900\n"
     ]
    },
    {
     "name": "stderr",
     "output_type": "stream",
     "text": [
      "                                                           \r"
     ]
    },
    {
     "name": "stdout",
     "output_type": "stream",
     "text": [
      "Validation Acc: 0.9306\n",
      "Best model saved.\n",
      "Epoch 12/30\n",
      "----------\n"
     ]
    },
    {
     "name": "stderr",
     "output_type": "stream",
     "text": [
      "                                                           \r"
     ]
    },
    {
     "name": "stdout",
     "output_type": "stream",
     "text": [
      "Training Loss: 0.0052 Acc: 0.9994\n"
     ]
    },
    {
     "name": "stderr",
     "output_type": "stream",
     "text": [
      "                                                           \r"
     ]
    },
    {
     "name": "stdout",
     "output_type": "stream",
     "text": [
      "Validation Acc: 0.9295\n",
      "No improvement for 1 epoch(s).\n",
      "Epoch 13/30\n",
      "----------\n"
     ]
    },
    {
     "name": "stderr",
     "output_type": "stream",
     "text": [
      "                                                           \r"
     ]
    },
    {
     "name": "stdout",
     "output_type": "stream",
     "text": [
      "Training Loss: 0.0030 Acc: 0.9998\n"
     ]
    },
    {
     "name": "stderr",
     "output_type": "stream",
     "text": [
      "                                                           \r"
     ]
    },
    {
     "name": "stdout",
     "output_type": "stream",
     "text": [
      "Validation Acc: 0.9306\n",
      "No improvement for 2 epoch(s).\n",
      "Epoch 14/30\n",
      "----------\n"
     ]
    },
    {
     "name": "stderr",
     "output_type": "stream",
     "text": [
      "                                                           \r"
     ]
    },
    {
     "name": "stdout",
     "output_type": "stream",
     "text": [
      "Training Loss: 0.0022 Acc: 0.9996\n"
     ]
    },
    {
     "name": "stderr",
     "output_type": "stream",
     "text": [
      "                                                           \r"
     ]
    },
    {
     "name": "stdout",
     "output_type": "stream",
     "text": [
      "Validation Acc: 0.9306\n",
      "No improvement for 3 epoch(s).\n",
      "Epoch 15/30\n",
      "----------\n"
     ]
    },
    {
     "name": "stderr",
     "output_type": "stream",
     "text": [
      "                                                           \r"
     ]
    },
    {
     "name": "stdout",
     "output_type": "stream",
     "text": [
      "Training Loss: 0.0017 Acc: 0.9998\n"
     ]
    },
    {
     "name": "stderr",
     "output_type": "stream",
     "text": [
      "                                                           \r"
     ]
    },
    {
     "name": "stdout",
     "output_type": "stream",
     "text": [
      "Validation Acc: 0.9306\n",
      "No improvement for 4 epoch(s).\n",
      "Epoch 16/30\n",
      "----------\n"
     ]
    },
    {
     "name": "stderr",
     "output_type": "stream",
     "text": [
      "                                                           \r"
     ]
    },
    {
     "name": "stdout",
     "output_type": "stream",
     "text": [
      "Training Loss: 0.0014 Acc: 0.9998\n"
     ]
    },
    {
     "name": "stderr",
     "output_type": "stream",
     "text": [
      "                                                           \r"
     ]
    },
    {
     "name": "stdout",
     "output_type": "stream",
     "text": [
      "Validation Acc: 0.9306\n",
      "No improvement for 5 epoch(s).\n",
      "Early stopping triggered.\n",
      "Training complete. Best Validation Accuracy: 0.9306\n",
      "\n",
      "Training with loss function: CrossEntropyLoss\n"
     ]
    },
    {
     "name": "stderr",
     "output_type": "stream",
     "text": [
      "Some weights of ViTForImageClassification were not initialized from the model checkpoint at google/vit-base-patch16-224 and are newly initialized because the shapes did not match:\n",
      "- classifier.bias: found shape torch.Size([1000]) in the checkpoint and torch.Size([12]) in the model instantiated\n",
      "- classifier.weight: found shape torch.Size([1000, 768]) in the checkpoint and torch.Size([12, 768]) in the model instantiated\n",
      "You should probably TRAIN this model on a down-stream task to be able to use it for predictions and inference.\n"
     ]
    },
    {
     "name": "stdout",
     "output_type": "stream",
     "text": [
      "Epoch 1/30\n",
      "----------\n"
     ]
    },
    {
     "name": "stderr",
     "output_type": "stream",
     "text": [
      "                                                           \r"
     ]
    },
    {
     "name": "stdout",
     "output_type": "stream",
     "text": [
      "Training Loss: 1.4378 Acc: 0.5037\n"
     ]
    },
    {
     "name": "stderr",
     "output_type": "stream",
     "text": [
      "                                                           \r"
     ]
    },
    {
     "name": "stdout",
     "output_type": "stream",
     "text": [
      "Validation Acc: 0.7484\n",
      "Best model saved.\n",
      "Epoch 2/30\n",
      "----------\n"
     ]
    },
    {
     "name": "stderr",
     "output_type": "stream",
     "text": [
      "                                                           \r"
     ]
    },
    {
     "name": "stdout",
     "output_type": "stream",
     "text": [
      "Training Loss: 0.6548 Acc: 0.7920\n"
     ]
    },
    {
     "name": "stderr",
     "output_type": "stream",
     "text": [
      "                                                           \r"
     ]
    },
    {
     "name": "stdout",
     "output_type": "stream",
     "text": [
      "Validation Acc: 0.7744\n",
      "Best model saved.\n",
      "Epoch 3/30\n",
      "----------\n"
     ]
    },
    {
     "name": "stderr",
     "output_type": "stream",
     "text": [
      "                                                           \r"
     ]
    },
    {
     "name": "stdout",
     "output_type": "stream",
     "text": [
      "Training Loss: 0.4937 Acc: 0.8398\n"
     ]
    },
    {
     "name": "stderr",
     "output_type": "stream",
     "text": [
      "                                                           \r"
     ]
    },
    {
     "name": "stdout",
     "output_type": "stream",
     "text": [
      "Validation Acc: 0.8102\n",
      "Best model saved.\n",
      "Epoch 4/30\n",
      "----------\n"
     ]
    },
    {
     "name": "stderr",
     "output_type": "stream",
     "text": [
      "                                                           \r"
     ]
    },
    {
     "name": "stdout",
     "output_type": "stream",
     "text": [
      "Training Loss: 0.3436 Acc: 0.8843\n"
     ]
    },
    {
     "name": "stderr",
     "output_type": "stream",
     "text": [
      "                                                           \r"
     ]
    },
    {
     "name": "stdout",
     "output_type": "stream",
     "text": [
      "Validation Acc: 0.8308\n",
      "Best model saved.\n",
      "Epoch 5/30\n",
      "----------\n"
     ]
    },
    {
     "name": "stderr",
     "output_type": "stream",
     "text": [
      "                                                           \r"
     ]
    },
    {
     "name": "stdout",
     "output_type": "stream",
     "text": [
      "Training Loss: 0.3093 Acc: 0.8927\n"
     ]
    },
    {
     "name": "stderr",
     "output_type": "stream",
     "text": [
      "                                                           \r"
     ]
    },
    {
     "name": "stdout",
     "output_type": "stream",
     "text": [
      "Validation Acc: 0.8200\n",
      "No improvement for 1 epoch(s).\n",
      "Epoch 6/30\n",
      "----------\n"
     ]
    },
    {
     "name": "stderr",
     "output_type": "stream",
     "text": [
      "                                                           \r"
     ]
    },
    {
     "name": "stdout",
     "output_type": "stream",
     "text": [
      "Training Loss: 0.2546 Acc: 0.9157\n"
     ]
    },
    {
     "name": "stderr",
     "output_type": "stream",
     "text": [
      "                                                           \r"
     ]
    },
    {
     "name": "stdout",
     "output_type": "stream",
     "text": [
      "Validation Acc: 0.8677\n",
      "Best model saved.\n",
      "Epoch 7/30\n",
      "----------\n"
     ]
    },
    {
     "name": "stderr",
     "output_type": "stream",
     "text": [
      "                                                           \r"
     ]
    },
    {
     "name": "stdout",
     "output_type": "stream",
     "text": [
      "Training Loss: 0.2196 Acc: 0.9247\n"
     ]
    },
    {
     "name": "stderr",
     "output_type": "stream",
     "text": [
      "                                                           \r"
     ]
    },
    {
     "name": "stdout",
     "output_type": "stream",
     "text": [
      "Validation Acc: 0.8807\n",
      "Best model saved.\n",
      "Epoch 8/30\n",
      "----------\n"
     ]
    },
    {
     "name": "stderr",
     "output_type": "stream",
     "text": [
      "                                                           \r"
     ]
    },
    {
     "name": "stdout",
     "output_type": "stream",
     "text": [
      "Training Loss: 0.1723 Acc: 0.9457\n"
     ]
    },
    {
     "name": "stderr",
     "output_type": "stream",
     "text": [
      "                                                           \r"
     ]
    },
    {
     "name": "stdout",
     "output_type": "stream",
     "text": [
      "Validation Acc: 0.8438\n",
      "No improvement for 1 epoch(s).\n",
      "Epoch 9/30\n",
      "----------\n"
     ]
    },
    {
     "name": "stderr",
     "output_type": "stream",
     "text": [
      "                                                           \r"
     ]
    },
    {
     "name": "stdout",
     "output_type": "stream",
     "text": [
      "Training Loss: 0.1646 Acc: 0.9451\n"
     ]
    },
    {
     "name": "stderr",
     "output_type": "stream",
     "text": [
      "                                                           \r"
     ]
    },
    {
     "name": "stdout",
     "output_type": "stream",
     "text": [
      "Validation Acc: 0.8633\n",
      "No improvement for 2 epoch(s).\n",
      "Epoch 10/30\n",
      "----------\n"
     ]
    },
    {
     "name": "stderr",
     "output_type": "stream",
     "text": [
      "                                                           \r"
     ]
    },
    {
     "name": "stdout",
     "output_type": "stream",
     "text": [
      "Training Loss: 0.1754 Acc: 0.9425\n"
     ]
    },
    {
     "name": "stderr",
     "output_type": "stream",
     "text": [
      "                                                           \r"
     ]
    },
    {
     "name": "stdout",
     "output_type": "stream",
     "text": [
      "Validation Acc: 0.8677\n",
      "No improvement for 3 epoch(s).\n",
      "Epoch 11/30\n",
      "----------\n"
     ]
    },
    {
     "name": "stderr",
     "output_type": "stream",
     "text": [
      "                                                           \r"
     ]
    },
    {
     "name": "stdout",
     "output_type": "stream",
     "text": [
      "Training Loss: 0.0511 Acc: 0.9867\n"
     ]
    },
    {
     "name": "stderr",
     "output_type": "stream",
     "text": [
      "                                                           \r"
     ]
    },
    {
     "name": "stdout",
     "output_type": "stream",
     "text": [
      "Validation Acc: 0.9121\n",
      "Best model saved.\n",
      "Epoch 12/30\n",
      "----------\n"
     ]
    },
    {
     "name": "stderr",
     "output_type": "stream",
     "text": [
      "                                                           \r"
     ]
    },
    {
     "name": "stdout",
     "output_type": "stream",
     "text": [
      "Training Loss: 0.0133 Acc: 0.9976\n"
     ]
    },
    {
     "name": "stderr",
     "output_type": "stream",
     "text": [
      "                                                           \r"
     ]
    },
    {
     "name": "stdout",
     "output_type": "stream",
     "text": [
      "Validation Acc: 0.9154\n",
      "Best model saved.\n",
      "Epoch 13/30\n",
      "----------\n"
     ]
    },
    {
     "name": "stderr",
     "output_type": "stream",
     "text": [
      "                                                           \r"
     ]
    },
    {
     "name": "stdout",
     "output_type": "stream",
     "text": [
      "Training Loss: 0.0064 Acc: 0.9990\n"
     ]
    },
    {
     "name": "stderr",
     "output_type": "stream",
     "text": [
      "                                                           \r"
     ]
    },
    {
     "name": "stdout",
     "output_type": "stream",
     "text": [
      "Validation Acc: 0.9187\n",
      "Best model saved.\n",
      "Epoch 14/30\n",
      "----------\n"
     ]
    },
    {
     "name": "stderr",
     "output_type": "stream",
     "text": [
      "                                                           \r"
     ]
    },
    {
     "name": "stdout",
     "output_type": "stream",
     "text": [
      "Training Loss: 0.0040 Acc: 0.9996\n"
     ]
    },
    {
     "name": "stderr",
     "output_type": "stream",
     "text": [
      "                                                           \r"
     ]
    },
    {
     "name": "stdout",
     "output_type": "stream",
     "text": [
      "Validation Acc: 0.9187\n",
      "No improvement for 1 epoch(s).\n",
      "Epoch 15/30\n",
      "----------\n"
     ]
    },
    {
     "name": "stderr",
     "output_type": "stream",
     "text": [
      "                                                           \r"
     ]
    },
    {
     "name": "stdout",
     "output_type": "stream",
     "text": [
      "Training Loss: 0.0030 Acc: 0.9998\n"
     ]
    },
    {
     "name": "stderr",
     "output_type": "stream",
     "text": [
      "                                                           \r"
     ]
    },
    {
     "name": "stdout",
     "output_type": "stream",
     "text": [
      "Validation Acc: 0.9208\n",
      "Best model saved.\n",
      "Epoch 16/30\n",
      "----------\n"
     ]
    },
    {
     "name": "stderr",
     "output_type": "stream",
     "text": [
      "                                                           \r"
     ]
    },
    {
     "name": "stdout",
     "output_type": "stream",
     "text": [
      "Training Loss: 0.0023 Acc: 0.9996\n"
     ]
    },
    {
     "name": "stderr",
     "output_type": "stream",
     "text": [
      "                                                           \r"
     ]
    },
    {
     "name": "stdout",
     "output_type": "stream",
     "text": [
      "Validation Acc: 0.9208\n",
      "No improvement for 1 epoch(s).\n",
      "Epoch 17/30\n",
      "----------\n"
     ]
    },
    {
     "name": "stderr",
     "output_type": "stream",
     "text": [
      "                                                           \r"
     ]
    },
    {
     "name": "stdout",
     "output_type": "stream",
     "text": [
      "Training Loss: 0.0018 Acc: 0.9998\n"
     ]
    },
    {
     "name": "stderr",
     "output_type": "stream",
     "text": [
      "                                                           \r"
     ]
    },
    {
     "name": "stdout",
     "output_type": "stream",
     "text": [
      "Validation Acc: 0.9208\n",
      "No improvement for 2 epoch(s).\n",
      "Epoch 18/30\n",
      "----------\n"
     ]
    },
    {
     "name": "stderr",
     "output_type": "stream",
     "text": [
      "                                                           \r"
     ]
    },
    {
     "name": "stdout",
     "output_type": "stream",
     "text": [
      "Training Loss: 0.0015 Acc: 0.9998\n"
     ]
    },
    {
     "name": "stderr",
     "output_type": "stream",
     "text": [
      "                                                           \r"
     ]
    },
    {
     "name": "stdout",
     "output_type": "stream",
     "text": [
      "Validation Acc: 0.9208\n",
      "No improvement for 3 epoch(s).\n",
      "Epoch 19/30\n",
      "----------\n"
     ]
    },
    {
     "name": "stderr",
     "output_type": "stream",
     "text": [
      "                                                           \r"
     ]
    },
    {
     "name": "stdout",
     "output_type": "stream",
     "text": [
      "Training Loss: 0.0014 Acc: 0.9998\n"
     ]
    },
    {
     "name": "stderr",
     "output_type": "stream",
     "text": [
      "                                                           \r"
     ]
    },
    {
     "name": "stdout",
     "output_type": "stream",
     "text": [
      "Validation Acc: 0.9208\n",
      "No improvement for 4 epoch(s).\n",
      "Epoch 20/30\n",
      "----------\n"
     ]
    },
    {
     "name": "stderr",
     "output_type": "stream",
     "text": [
      "                                                           \r"
     ]
    },
    {
     "name": "stdout",
     "output_type": "stream",
     "text": [
      "Training Loss: 0.0016 Acc: 0.9998\n"
     ]
    },
    {
     "name": "stderr",
     "output_type": "stream",
     "text": [
      "                                                           \r"
     ]
    },
    {
     "name": "stdout",
     "output_type": "stream",
     "text": [
      "Validation Acc: 0.9219\n",
      "Best model saved.\n",
      "Epoch 21/30\n",
      "----------\n"
     ]
    },
    {
     "name": "stderr",
     "output_type": "stream",
     "text": [
      "                                                           \r"
     ]
    },
    {
     "name": "stdout",
     "output_type": "stream",
     "text": [
      "Training Loss: 0.0010 Acc: 0.9998\n"
     ]
    },
    {
     "name": "stderr",
     "output_type": "stream",
     "text": [
      "                                                           \r"
     ]
    },
    {
     "name": "stdout",
     "output_type": "stream",
     "text": [
      "Validation Acc: 0.9219\n",
      "No improvement for 1 epoch(s).\n",
      "Epoch 22/30\n",
      "----------\n"
     ]
    },
    {
     "name": "stderr",
     "output_type": "stream",
     "text": [
      "                                                           \r"
     ]
    },
    {
     "name": "stdout",
     "output_type": "stream",
     "text": [
      "Training Loss: 0.0010 Acc: 0.9998\n"
     ]
    },
    {
     "name": "stderr",
     "output_type": "stream",
     "text": [
      "                                                           \r"
     ]
    },
    {
     "name": "stdout",
     "output_type": "stream",
     "text": [
      "Validation Acc: 0.9219\n",
      "No improvement for 2 epoch(s).\n",
      "Epoch 23/30\n",
      "----------\n"
     ]
    },
    {
     "name": "stderr",
     "output_type": "stream",
     "text": [
      "                                                           \r"
     ]
    },
    {
     "name": "stdout",
     "output_type": "stream",
     "text": [
      "Training Loss: 0.0009 Acc: 0.9998\n"
     ]
    },
    {
     "name": "stderr",
     "output_type": "stream",
     "text": [
      "                                                           \r"
     ]
    },
    {
     "name": "stdout",
     "output_type": "stream",
     "text": [
      "Validation Acc: 0.9219\n",
      "No improvement for 3 epoch(s).\n",
      "Epoch 24/30\n",
      "----------\n"
     ]
    },
    {
     "name": "stderr",
     "output_type": "stream",
     "text": [
      "                                                           \r"
     ]
    },
    {
     "name": "stdout",
     "output_type": "stream",
     "text": [
      "Training Loss: 0.0009 Acc: 0.9998\n"
     ]
    },
    {
     "name": "stderr",
     "output_type": "stream",
     "text": [
      "                                                           \r"
     ]
    },
    {
     "name": "stdout",
     "output_type": "stream",
     "text": [
      "Validation Acc: 0.9219\n",
      "No improvement for 4 epoch(s).\n",
      "Epoch 25/30\n",
      "----------\n"
     ]
    },
    {
     "name": "stderr",
     "output_type": "stream",
     "text": [
      "                                                           \r"
     ]
    },
    {
     "name": "stdout",
     "output_type": "stream",
     "text": [
      "Training Loss: 0.0009 Acc: 0.9998\n"
     ]
    },
    {
     "name": "stderr",
     "output_type": "stream",
     "text": [
      "                                                           \r"
     ]
    },
    {
     "name": "stdout",
     "output_type": "stream",
     "text": [
      "Validation Acc: 0.9219\n",
      "No improvement for 5 epoch(s).\n",
      "Early stopping triggered.\n",
      "Training complete. Best Validation Accuracy: 0.9219\n",
      "\n",
      "Training with loss function: NLLLoss\n"
     ]
    },
    {
     "name": "stderr",
     "output_type": "stream",
     "text": [
      "Some weights of ViTForImageClassification were not initialized from the model checkpoint at google/vit-base-patch16-224 and are newly initialized because the shapes did not match:\n",
      "- classifier.bias: found shape torch.Size([1000]) in the checkpoint and torch.Size([12]) in the model instantiated\n",
      "- classifier.weight: found shape torch.Size([1000, 768]) in the checkpoint and torch.Size([12, 768]) in the model instantiated\n",
      "You should probably TRAIN this model on a down-stream task to be able to use it for predictions and inference.\n"
     ]
    },
    {
     "name": "stdout",
     "output_type": "stream",
     "text": [
      "Epoch 1/30\n",
      "----------\n"
     ]
    },
    {
     "name": "stderr",
     "output_type": "stream",
     "text": [
      "                                                           \r"
     ]
    },
    {
     "name": "stdout",
     "output_type": "stream",
     "text": [
      "Training Loss: 1.2880 Acc: 0.5700\n"
     ]
    },
    {
     "name": "stderr",
     "output_type": "stream",
     "text": [
      "                                                           \r"
     ]
    },
    {
     "name": "stdout",
     "output_type": "stream",
     "text": [
      "Validation Acc: 0.7668\n",
      "Best model saved.\n",
      "Epoch 2/30\n",
      "----------\n"
     ]
    },
    {
     "name": "stderr",
     "output_type": "stream",
     "text": [
      "                                                           \r"
     ]
    },
    {
     "name": "stdout",
     "output_type": "stream",
     "text": [
      "Training Loss: 0.6697 Acc: 0.7794\n"
     ]
    },
    {
     "name": "stderr",
     "output_type": "stream",
     "text": [
      "                                                           \r"
     ]
    },
    {
     "name": "stdout",
     "output_type": "stream",
     "text": [
      "Validation Acc: 0.7798\n",
      "Best model saved.\n",
      "Epoch 3/30\n",
      "----------\n"
     ]
    },
    {
     "name": "stderr",
     "output_type": "stream",
     "text": [
      "                                                           \r"
     ]
    },
    {
     "name": "stdout",
     "output_type": "stream",
     "text": [
      "Training Loss: 0.4612 Acc: 0.8549\n"
     ]
    },
    {
     "name": "stderr",
     "output_type": "stream",
     "text": [
      "                                                           \r"
     ]
    },
    {
     "name": "stdout",
     "output_type": "stream",
     "text": [
      "Validation Acc: 0.7744\n",
      "No improvement for 1 epoch(s).\n",
      "Epoch 4/30\n",
      "----------\n"
     ]
    },
    {
     "name": "stderr",
     "output_type": "stream",
     "text": [
      "                                                           \r"
     ]
    },
    {
     "name": "stdout",
     "output_type": "stream",
     "text": [
      "Training Loss: 0.3457 Acc: 0.8904\n"
     ]
    },
    {
     "name": "stderr",
     "output_type": "stream",
     "text": [
      "                                                           \r"
     ]
    },
    {
     "name": "stdout",
     "output_type": "stream",
     "text": [
      "Validation Acc: 0.8384\n",
      "Best model saved.\n",
      "Epoch 5/30\n",
      "----------\n"
     ]
    },
    {
     "name": "stderr",
     "output_type": "stream",
     "text": [
      "                                                           \r"
     ]
    },
    {
     "name": "stdout",
     "output_type": "stream",
     "text": [
      "Training Loss: 0.3082 Acc: 0.8973\n"
     ]
    },
    {
     "name": "stderr",
     "output_type": "stream",
     "text": [
      "                                                           \r"
     ]
    },
    {
     "name": "stdout",
     "output_type": "stream",
     "text": [
      "Validation Acc: 0.8688\n",
      "Best model saved.\n",
      "Epoch 6/30\n",
      "----------\n"
     ]
    },
    {
     "name": "stderr",
     "output_type": "stream",
     "text": [
      "                                                           \r"
     ]
    },
    {
     "name": "stdout",
     "output_type": "stream",
     "text": [
      "Training Loss: 0.2147 Acc: 0.9275\n"
     ]
    },
    {
     "name": "stderr",
     "output_type": "stream",
     "text": [
      "                                                           \r"
     ]
    },
    {
     "name": "stdout",
     "output_type": "stream",
     "text": [
      "Validation Acc: 0.8557\n",
      "No improvement for 1 epoch(s).\n",
      "Epoch 7/30\n",
      "----------\n"
     ]
    },
    {
     "name": "stderr",
     "output_type": "stream",
     "text": [
      "                                                           \r"
     ]
    },
    {
     "name": "stdout",
     "output_type": "stream",
     "text": [
      "Training Loss: 0.2543 Acc: 0.9186\n"
     ]
    },
    {
     "name": "stderr",
     "output_type": "stream",
     "text": [
      "                                                           \r"
     ]
    },
    {
     "name": "stdout",
     "output_type": "stream",
     "text": [
      "Validation Acc: 0.8796\n",
      "Best model saved.\n",
      "Epoch 8/30\n",
      "----------\n"
     ]
    },
    {
     "name": "stderr",
     "output_type": "stream",
     "text": [
      "                                                           \r"
     ]
    },
    {
     "name": "stdout",
     "output_type": "stream",
     "text": [
      "Training Loss: 0.2030 Acc: 0.9367\n"
     ]
    },
    {
     "name": "stderr",
     "output_type": "stream",
     "text": [
      "                                                           \r"
     ]
    },
    {
     "name": "stdout",
     "output_type": "stream",
     "text": [
      "Validation Acc: 0.8948\n",
      "Best model saved.\n",
      "Epoch 9/30\n",
      "----------\n"
     ]
    },
    {
     "name": "stderr",
     "output_type": "stream",
     "text": [
      "                                                           \r"
     ]
    },
    {
     "name": "stdout",
     "output_type": "stream",
     "text": [
      "Training Loss: 0.1981 Acc: 0.9337\n"
     ]
    },
    {
     "name": "stderr",
     "output_type": "stream",
     "text": [
      "                                                           \r"
     ]
    },
    {
     "name": "stdout",
     "output_type": "stream",
     "text": [
      "Validation Acc: 0.8590\n",
      "No improvement for 1 epoch(s).\n",
      "Epoch 10/30\n",
      "----------\n"
     ]
    },
    {
     "name": "stderr",
     "output_type": "stream",
     "text": [
      "                                                           \r"
     ]
    },
    {
     "name": "stdout",
     "output_type": "stream",
     "text": [
      "Training Loss: 0.1741 Acc: 0.9443\n"
     ]
    },
    {
     "name": "stderr",
     "output_type": "stream",
     "text": [
      "                                                           \r"
     ]
    },
    {
     "name": "stdout",
     "output_type": "stream",
     "text": [
      "Validation Acc: 0.8297\n",
      "No improvement for 2 epoch(s).\n",
      "Epoch 11/30\n",
      "----------\n"
     ]
    },
    {
     "name": "stderr",
     "output_type": "stream",
     "text": [
      "                                                           \r"
     ]
    },
    {
     "name": "stdout",
     "output_type": "stream",
     "text": [
      "Training Loss: 0.0499 Acc: 0.9865\n"
     ]
    },
    {
     "name": "stderr",
     "output_type": "stream",
     "text": [
      "                                                           \r"
     ]
    },
    {
     "name": "stdout",
     "output_type": "stream",
     "text": [
      "Validation Acc: 0.9284\n",
      "Best model saved.\n",
      "Epoch 12/30\n",
      "----------\n"
     ]
    },
    {
     "name": "stderr",
     "output_type": "stream",
     "text": [
      "                                                           \r"
     ]
    },
    {
     "name": "stdout",
     "output_type": "stream",
     "text": [
      "Training Loss: 0.0110 Acc: 0.9988\n"
     ]
    },
    {
     "name": "stderr",
     "output_type": "stream",
     "text": [
      "                                                           \r"
     ]
    },
    {
     "name": "stdout",
     "output_type": "stream",
     "text": [
      "Validation Acc: 0.9252\n",
      "No improvement for 1 epoch(s).\n",
      "Epoch 13/30\n",
      "----------\n"
     ]
    },
    {
     "name": "stderr",
     "output_type": "stream",
     "text": [
      "                                                           \r"
     ]
    },
    {
     "name": "stdout",
     "output_type": "stream",
     "text": [
      "Training Loss: 0.0062 Acc: 0.9992\n"
     ]
    },
    {
     "name": "stderr",
     "output_type": "stream",
     "text": [
      "                                                           \r"
     ]
    },
    {
     "name": "stdout",
     "output_type": "stream",
     "text": [
      "Validation Acc: 0.9306\n",
      "Best model saved.\n",
      "Epoch 14/30\n",
      "----------\n"
     ]
    },
    {
     "name": "stderr",
     "output_type": "stream",
     "text": [
      "                                                           \r"
     ]
    },
    {
     "name": "stdout",
     "output_type": "stream",
     "text": [
      "Training Loss: 0.0044 Acc: 0.9992\n"
     ]
    },
    {
     "name": "stderr",
     "output_type": "stream",
     "text": [
      "                                                           \r"
     ]
    },
    {
     "name": "stdout",
     "output_type": "stream",
     "text": [
      "Validation Acc: 0.9328\n",
      "Best model saved.\n",
      "Epoch 15/30\n",
      "----------\n"
     ]
    },
    {
     "name": "stderr",
     "output_type": "stream",
     "text": [
      "                                                           \r"
     ]
    },
    {
     "name": "stdout",
     "output_type": "stream",
     "text": [
      "Training Loss: 0.0028 Acc: 0.9994\n"
     ]
    },
    {
     "name": "stderr",
     "output_type": "stream",
     "text": [
      "                                                           \r"
     ]
    },
    {
     "name": "stdout",
     "output_type": "stream",
     "text": [
      "Validation Acc: 0.9317\n",
      "No improvement for 1 epoch(s).\n",
      "Epoch 16/30\n",
      "----------\n"
     ]
    },
    {
     "name": "stderr",
     "output_type": "stream",
     "text": [
      "                                                           \r"
     ]
    },
    {
     "name": "stdout",
     "output_type": "stream",
     "text": [
      "Training Loss: 0.0021 Acc: 0.9994\n"
     ]
    },
    {
     "name": "stderr",
     "output_type": "stream",
     "text": [
      "                                                           \r"
     ]
    },
    {
     "name": "stdout",
     "output_type": "stream",
     "text": [
      "Validation Acc: 0.9338\n",
      "Best model saved.\n",
      "Epoch 17/30\n",
      "----------\n"
     ]
    },
    {
     "name": "stderr",
     "output_type": "stream",
     "text": [
      "                                                           \r"
     ]
    },
    {
     "name": "stdout",
     "output_type": "stream",
     "text": [
      "Training Loss: 0.0017 Acc: 0.9998\n"
     ]
    },
    {
     "name": "stderr",
     "output_type": "stream",
     "text": [
      "                                                           \r"
     ]
    },
    {
     "name": "stdout",
     "output_type": "stream",
     "text": [
      "Validation Acc: 0.9328\n",
      "No improvement for 1 epoch(s).\n",
      "Epoch 18/30\n",
      "----------\n"
     ]
    },
    {
     "name": "stderr",
     "output_type": "stream",
     "text": [
      "                                                           \r"
     ]
    },
    {
     "name": "stdout",
     "output_type": "stream",
     "text": [
      "Training Loss: 0.0013 Acc: 0.9998\n"
     ]
    },
    {
     "name": "stderr",
     "output_type": "stream",
     "text": [
      "                                                           \r"
     ]
    },
    {
     "name": "stdout",
     "output_type": "stream",
     "text": [
      "Validation Acc: 0.9371\n",
      "Best model saved.\n",
      "Epoch 19/30\n",
      "----------\n"
     ]
    },
    {
     "name": "stderr",
     "output_type": "stream",
     "text": [
      "                                                           \r"
     ]
    },
    {
     "name": "stdout",
     "output_type": "stream",
     "text": [
      "Training Loss: 0.0013 Acc: 0.9998\n"
     ]
    },
    {
     "name": "stderr",
     "output_type": "stream",
     "text": [
      "                                                           \r"
     ]
    },
    {
     "name": "stdout",
     "output_type": "stream",
     "text": [
      "Validation Acc: 0.9338\n",
      "No improvement for 1 epoch(s).\n",
      "Epoch 20/30\n",
      "----------\n"
     ]
    },
    {
     "name": "stderr",
     "output_type": "stream",
     "text": [
      "                                                           \r"
     ]
    },
    {
     "name": "stdout",
     "output_type": "stream",
     "text": [
      "Training Loss: 0.0013 Acc: 0.9996\n"
     ]
    },
    {
     "name": "stderr",
     "output_type": "stream",
     "text": [
      "                                                           \r"
     ]
    },
    {
     "name": "stdout",
     "output_type": "stream",
     "text": [
      "Validation Acc: 0.9349\n",
      "No improvement for 2 epoch(s).\n",
      "Epoch 21/30\n",
      "----------\n"
     ]
    },
    {
     "name": "stderr",
     "output_type": "stream",
     "text": [
      "                                                           \r"
     ]
    },
    {
     "name": "stdout",
     "output_type": "stream",
     "text": [
      "Training Loss: 0.0010 Acc: 0.9996\n"
     ]
    },
    {
     "name": "stderr",
     "output_type": "stream",
     "text": [
      "                                                           \r"
     ]
    },
    {
     "name": "stdout",
     "output_type": "stream",
     "text": [
      "Validation Acc: 0.9371\n",
      "No improvement for 3 epoch(s).\n",
      "Epoch 22/30\n",
      "----------\n"
     ]
    },
    {
     "name": "stderr",
     "output_type": "stream",
     "text": [
      "                                                           \r"
     ]
    },
    {
     "name": "stdout",
     "output_type": "stream",
     "text": [
      "Training Loss: 0.0009 Acc: 0.9998\n"
     ]
    },
    {
     "name": "stderr",
     "output_type": "stream",
     "text": [
      "                                                           \r"
     ]
    },
    {
     "name": "stdout",
     "output_type": "stream",
     "text": [
      "Validation Acc: 0.9371\n",
      "No improvement for 4 epoch(s).\n",
      "Epoch 23/30\n",
      "----------\n"
     ]
    },
    {
     "name": "stderr",
     "output_type": "stream",
     "text": [
      "                                                           \r"
     ]
    },
    {
     "name": "stdout",
     "output_type": "stream",
     "text": [
      "Training Loss: 0.0008 Acc: 1.0000\n"
     ]
    },
    {
     "name": "stderr",
     "output_type": "stream",
     "text": [
      "                                                           \r"
     ]
    },
    {
     "name": "stdout",
     "output_type": "stream",
     "text": [
      "Validation Acc: 0.9382\n",
      "Best model saved.\n",
      "Epoch 24/30\n",
      "----------\n"
     ]
    },
    {
     "name": "stderr",
     "output_type": "stream",
     "text": [
      "                                                           \r"
     ]
    },
    {
     "name": "stdout",
     "output_type": "stream",
     "text": [
      "Training Loss: 0.0008 Acc: 0.9998\n"
     ]
    },
    {
     "name": "stderr",
     "output_type": "stream",
     "text": [
      "                                                           \r"
     ]
    },
    {
     "name": "stdout",
     "output_type": "stream",
     "text": [
      "Validation Acc: 0.9382\n",
      "No improvement for 1 epoch(s).\n",
      "Epoch 25/30\n",
      "----------\n"
     ]
    },
    {
     "name": "stderr",
     "output_type": "stream",
     "text": [
      "                                                           \r"
     ]
    },
    {
     "name": "stdout",
     "output_type": "stream",
     "text": [
      "Training Loss: 0.0008 Acc: 0.9998\n"
     ]
    },
    {
     "name": "stderr",
     "output_type": "stream",
     "text": [
      "                                                           \r"
     ]
    },
    {
     "name": "stdout",
     "output_type": "stream",
     "text": [
      "Validation Acc: 0.9382\n",
      "No improvement for 2 epoch(s).\n",
      "Epoch 26/30\n",
      "----------\n"
     ]
    },
    {
     "name": "stderr",
     "output_type": "stream",
     "text": [
      "                                                           \r"
     ]
    },
    {
     "name": "stdout",
     "output_type": "stream",
     "text": [
      "Training Loss: 0.0008 Acc: 0.9998\n"
     ]
    },
    {
     "name": "stderr",
     "output_type": "stream",
     "text": [
      "                                                           \r"
     ]
    },
    {
     "name": "stdout",
     "output_type": "stream",
     "text": [
      "Validation Acc: 0.9382\n",
      "No improvement for 3 epoch(s).\n",
      "Epoch 27/30\n",
      "----------\n"
     ]
    },
    {
     "name": "stderr",
     "output_type": "stream",
     "text": [
      "                                                           \r"
     ]
    },
    {
     "name": "stdout",
     "output_type": "stream",
     "text": [
      "Training Loss: 0.0008 Acc: 0.9998\n"
     ]
    },
    {
     "name": "stderr",
     "output_type": "stream",
     "text": [
      "                                                           \r"
     ]
    },
    {
     "name": "stdout",
     "output_type": "stream",
     "text": [
      "Validation Acc: 0.9382\n",
      "No improvement for 4 epoch(s).\n",
      "Epoch 28/30\n",
      "----------\n"
     ]
    },
    {
     "name": "stderr",
     "output_type": "stream",
     "text": [
      "                                                           \r"
     ]
    },
    {
     "name": "stdout",
     "output_type": "stream",
     "text": [
      "Training Loss: 0.0008 Acc: 0.9998\n"
     ]
    },
    {
     "name": "stderr",
     "output_type": "stream",
     "text": [
      "                                                           "
     ]
    },
    {
     "name": "stdout",
     "output_type": "stream",
     "text": [
      "Validation Acc: 0.9382\n",
      "No improvement for 5 epoch(s).\n",
      "Early stopping triggered.\n",
      "Training complete. Best Validation Accuracy: 0.9382\n"
     ]
    },
    {
     "name": "stderr",
     "output_type": "stream",
     "text": [
      "\r"
     ]
    }
   ],
   "source": [
    "loss_results = compareLossFunctions(loss_functions, train_dataset, val_dataset, device, num_epochs=30, patience=5)"
   ]
  },
  {
   "cell_type": "code",
   "execution_count": 25,
   "metadata": {},
   "outputs": [
    {
     "data": {
      "text/plain": [
       "13244"
      ]
     },
     "execution_count": 25,
     "metadata": {},
     "output_type": "execute_result"
    }
   ],
   "source": [
    "import gc\n",
    "torch.cuda.empty_cache()\n",
    "gc.collect()"
   ]
  },
  {
   "cell_type": "code",
   "execution_count": 36,
   "metadata": {},
   "outputs": [
    {
     "data": {
      "image/png": "[encoded data removed]",
      "text/plain": [
       "<Figure size 640x480 with 1 Axes>"
      ]
     },
     "metadata": {},
     "output_type": "display_data"
    }
   ],
   "source": [
    "for loss_name,losses in loss_results.items():\n",
    "    plt.plot(losses['train'],label=f'{loss_name} - Train')\n",
    "\n",
    "\n",
    "plt.xlabel('Epoch')\n",
    "plt.ylabel('Loss')\n",
    "plt.title('Performance of Various Loss Functions on Training Loss')\n",
    "plt.legend()\n",
    "plt.savefig('loss_functions_train.png')\n",
    "plt.show()\n"
   ]
  },
  {
   "cell_type": "code",
   "execution_count": 34,
   "metadata": {},
   "outputs": [
    {
     "data": {
      "image/png": "[encoded data removed]",
      "text/plain": [
       "<Figure size 640x480 with 1 Axes>"
      ]
     },
     "metadata": {},
     "output_type": "display_data"
    }
   ],
   "source": [
    "for loss_name,losses in loss_results.items():\n",
    "    plt.plot(losses['val'],linestyle='--',label=f'{loss_name} - Val')\n",
    "\n",
    "\n",
    "plt.xlabel('Epoch')\n",
    "plt.ylabel('Loss')\n",
    "plt.title('Performance of Various Loss Functions on Validation Loss')\n",
    "plt.legend()\n",
    "plt.savefig('loss_functions_val.png')\n",
    "plt.show()\n"
   ]
  },
  {
   "cell_type": "code",
   "execution_count": 35,
   "metadata": {},
   "outputs": [
    {
     "data": {
      "image/png": "[encoded data removed]",
      "text/plain": [
       "<Figure size 640x480 with 1 Axes>"
      ]
     },
     "metadata": {},
     "output_type": "display_data"
    }
   ],
   "source": [
    "for loss_name,losses in loss_results.items():\n",
    "    plt.plot(losses['train'],label=f'{loss_name} - Train')\n",
    "    plt.plot(losses['val'],linestyle='--',label=f'{loss_name} - Val')\n",
    "\n",
    "\n",
    "plt.xlabel('Epoch')\n",
    "plt.ylabel('Loss')\n",
    "plt.title('Performance of Various Loss Functions on Training and Validation Loss')\n",
    "plt.legend()\n",
    "plt.savefig('loss_functions_comparison.png')\n",
    "plt.show()\n"
   ]
  },
  {
   "cell_type": "markdown",
   "metadata": {},
   "source": [
    "## Evaluation"
   ]
  },
  {
   "cell_type": "code",
   "execution_count": null,
   "metadata": {},
   "outputs": [],
   "source": [
    "train(model, train_loader, val_loader, criterion, optimizer, scheduler, device, num_epochs=30, patience=5)"
   ]
  },
  {
   "cell_type": "code",
   "execution_count": null,
   "metadata": {},
   "outputs": [],
   "source": [
    "import gc\n",
    "torch.cuda.empty_cache()\n",
    "gc.collect()"
   ]
  },
  {
   "cell_type": "markdown",
   "metadata": {},
   "source": [
    "## Evaluation"
   ]
  },
  {
   "cell_type": "code",
   "execution_count": 36,
   "metadata": {},
   "outputs": [],
   "source": [
    "import numpy as np\n",
    "from sklearn.metrics import accuracy_score, classification_report, confusion_matrix\n",
    "import matplotlib.pyplot as plt\n",
    "import seaborn as sns"
   ]
  },
  {
   "cell_type": "code",
   "execution_count": null,
   "metadata": {},
   "outputs": [],
   "source": [
    "model.load_state_dict(torch.load('best_model.pth'))\n",
    "model = model.to(device)"
   ]
  },
  {
   "cell_type": "code",
   "execution_count": null,
   "metadata": {},
   "outputs": [],
   "source": [
    "model.eval()"
   ]
  },
  {
   "cell_type": "code",
   "execution_count": 39,
   "metadata": {},
   "outputs": [],
   "source": [
    "test_dataset = torchvision.datasets.ImageFolder(test_dir, transform=transform)\n",
    "test_loader = torch.utils.data.DataLoader(test_dataset, batch_size=32, shuffle=False)"
   ]
  },
  {
   "cell_type": "code",
   "execution_count": 40,
   "metadata": {},
   "outputs": [],
   "source": [
    "def evaluate_model(model, test_loader, device):\n",
    "    model.eval()\n",
    "    all_preds = []\n",
    "    all_labels = []\n",
    "\n",
    "    with torch.no_grad():\n",
    "        for inputs, labels in tqdm(test_loader, desc='Evaluating', leave=False):\n",
    "            inputs = inputs.to(device)\n",
    "            labels = labels.to(device)\n",
    "\n",
    "            outputs = model(inputs).logits\n",
    "            _, preds = torch.max(outputs, 1)\n",
    "\n",
    "            all_preds.extend(preds.cpu().numpy())\n",
    "            all_labels.extend(labels.cpu().numpy())\n",
    "\n",
    "    test_accuracy = accuracy_score(all_labels, all_preds)\n",
    "    print(f'Test Accuracy: {test_accuracy:.4f}')\n",
    "\n",
    "    # Classification report\n",
    "    class_names = test_dataset.classes\n",
    "    print('Classification Report:')\n",
    "    print(classification_report(all_labels, all_preds, target_names=class_names))\n",
    "\n",
    "    # Confusion matrix\n",
    "    cm = confusion_matrix(all_labels, all_preds)\n",
    "    plt.figure(figsize=(10, 8))\n",
    "    sns.heatmap(cm, annot=True, fmt='d', \n",
    "                xticklabels=class_names, yticklabels=class_names, cmap='Blues')\n",
    "    plt.ylabel('Actual')\n",
    "    plt.xlabel('Predicted')\n",
    "    plt.title('Confusion Matrix')\n",
    "    plt.show()"
   ]
  },
  {
   "cell_type": "code",
   "execution_count": 41,
   "metadata": {},
   "outputs": [
    {
     "name": "stderr",
     "output_type": "stream",
     "text": [
      "                                                           \r"
     ]
    },
    {
     "name": "stdout",
     "output_type": "stream",
     "text": [
      "Test Accuracy: 0.8811\n",
      "Classification Report:\n",
      "                   precision    recall  f1-score   support\n",
      "\n",
      "  amber_augmented       0.82      0.88      0.85        68\n",
      " childe_augmented       0.87      0.85      0.86        72\n",
      "   dori_augmented       0.88      0.90      0.89        68\n",
      "   eula_augmented       0.91      0.87      0.89        61\n",
      "  ganyu_augmented       0.91      0.88      0.89        56\n",
      "  hutao_augmented       0.85      0.78      0.81        64\n",
      "   lisa_augmented       0.97      0.93      0.95        68\n",
      " nahida_augmented       0.88      0.87      0.87        68\n",
      " raiden_augmented       0.89      0.96      0.92        68\n",
      "  venti_augmented       0.86      0.90      0.88        70\n",
      "yoimiya_augmented       0.82      0.87      0.84        68\n",
      "zhongli_augmented       0.92      0.90      0.91        68\n",
      "\n",
      "         accuracy                           0.88       799\n",
      "        macro avg       0.88      0.88      0.88       799\n",
      "     weighted avg       0.88      0.88      0.88       799\n",
      "\n"
     ]
    },
    {
     "data": {
      "image/png": "[encoded data removed]",
      "text/plain": [
       "<Figure size 1000x800 with 2 Axes>"
      ]
     },
     "metadata": {},
     "output_type": "display_data"
    }
   ],
   "source": [
    "evaluate_model(model, test_loader, device)"
   ]
  }
 ],
 "metadata": {
  "kernelspec": {
   "display_name": ".venv",
   "language": "python",
   "name": "python3"
  },
  "language_info": {
   "codemirror_mode": {
    "name": "ipython",
    "version": 3
   },
   "file_extension": ".py",
   "mimetype": "text/x-python",
   "name": "python",
   "nbconvert_exporter": "python",
   "pygments_lexer": "ipython3",
   "version": "3.11.0"
  }
 },
 "nbformat": 4,
 "nbformat_minor": 2
}
